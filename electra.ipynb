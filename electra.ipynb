{
 "cells": [
  {
   "cell_type": "code",
   "execution_count": 1,
   "id": "43a3211b",
   "metadata": {
    "_cell_guid": "1634035b-b65c-4a2f-83b6-240cd0bfe52d",
    "_uuid": "7a812507-a026-44ae-8815-e2a4cd556535",
    "collapsed": false,
    "execution": {
     "iopub.execute_input": "2022-08-28T16:33:28.556747Z",
     "iopub.status.busy": "2022-08-28T16:33:28.556215Z",
     "iopub.status.idle": "2022-08-28T16:33:42.701621Z",
     "shell.execute_reply": "2022-08-28T16:33:42.700160Z"
    },
    "jupyter": {
     "outputs_hidden": false
    },
    "papermill": {
     "duration": 14.155409,
     "end_time": "2022-08-28T16:33:42.703942",
     "exception": false,
     "start_time": "2022-08-28T16:33:28.548533",
     "status": "completed"
    },
    "tags": []
   },
   "outputs": [
    {
     "name": "stderr",
     "output_type": "stream",
     "text": [
      "2022-08-28 16:33:37.361988: I tensorflow/stream_executor/cuda/cuda_gpu_executor.cc:937] successful NUMA node read from SysFS had negative value (-1), but there must be at least one NUMA node, so returning NUMA node zero\n",
      "2022-08-28 16:33:37.363178: I tensorflow/stream_executor/cuda/cuda_gpu_executor.cc:937] successful NUMA node read from SysFS had negative value (-1), but there must be at least one NUMA node, so returning NUMA node zero\n",
      "2022-08-28 16:33:37.363871: I tensorflow/stream_executor/cuda/cuda_gpu_executor.cc:937] successful NUMA node read from SysFS had negative value (-1), but there must be at least one NUMA node, so returning NUMA node zero\n",
      "2022-08-28 16:33:37.366270: I tensorflow/core/platform/cpu_feature_guard.cc:142] This TensorFlow binary is optimized with oneAPI Deep Neural Network Library (oneDNN) to use the following CPU instructions in performance-critical operations:  AVX2 AVX512F FMA\n",
      "To enable them in other operations, rebuild TensorFlow with the appropriate compiler flags.\n",
      "2022-08-28 16:33:37.366614: I tensorflow/stream_executor/cuda/cuda_gpu_executor.cc:937] successful NUMA node read from SysFS had negative value (-1), but there must be at least one NUMA node, so returning NUMA node zero\n",
      "2022-08-28 16:33:37.367372: I tensorflow/stream_executor/cuda/cuda_gpu_executor.cc:937] successful NUMA node read from SysFS had negative value (-1), but there must be at least one NUMA node, so returning NUMA node zero\n",
      "2022-08-28 16:33:37.368057: I tensorflow/stream_executor/cuda/cuda_gpu_executor.cc:937] successful NUMA node read from SysFS had negative value (-1), but there must be at least one NUMA node, so returning NUMA node zero\n",
      "2022-08-28 16:33:42.313628: I tensorflow/stream_executor/cuda/cuda_gpu_executor.cc:937] successful NUMA node read from SysFS had negative value (-1), but there must be at least one NUMA node, so returning NUMA node zero\n",
      "2022-08-28 16:33:42.314536: I tensorflow/stream_executor/cuda/cuda_gpu_executor.cc:937] successful NUMA node read from SysFS had negative value (-1), but there must be at least one NUMA node, so returning NUMA node zero\n",
      "2022-08-28 16:33:42.315230: I tensorflow/stream_executor/cuda/cuda_gpu_executor.cc:937] successful NUMA node read from SysFS had negative value (-1), but there must be at least one NUMA node, so returning NUMA node zero\n",
      "2022-08-28 16:33:42.315843: I tensorflow/core/common_runtime/gpu/gpu_device.cc:1510] Created device /job:localhost/replica:0/task:0/device:GPU:0 with 15043 MB memory:  -> device: 0, name: Tesla P100-PCIE-16GB, pci bus id: 0000:00:04.0, compute capability: 6.0\n"
     ]
    }
   ],
   "source": [
    "import numpy as np, os\n",
    "import pandas as pd\n",
    "import matplotlib.pyplot as plt\n",
    "import os\n",
    "\n",
    "from sklearn.metrics import accuracy_score\n",
    "from sklearn.model_selection import train_test_split\n",
    "\n",
    "import tensorflow as tf\n",
    "import tensorflow.keras.backend as K\n",
    "import tokenizers\n",
    "from transformers import ElectraTokenizer, TFElectraModel\n",
    "\n",
    "from collections import Counter\n",
    "\n",
    "import warnings\n",
    "warnings.filterwarnings(\"ignore\")"
   ]
  },
  {
   "cell_type": "code",
   "execution_count": 2,
   "id": "d5a452fa",
   "metadata": {
    "execution": {
     "iopub.execute_input": "2022-08-28T16:33:42.715972Z",
     "iopub.status.busy": "2022-08-28T16:33:42.715317Z",
     "iopub.status.idle": "2022-08-28T16:33:42.724831Z",
     "shell.execute_reply": "2022-08-28T16:33:42.723863Z"
    },
    "papermill": {
     "duration": 0.01754,
     "end_time": "2022-08-28T16:33:42.726974",
     "exception": false,
     "start_time": "2022-08-28T16:33:42.709434",
     "status": "completed"
    },
    "tags": []
   },
   "outputs": [
    {
     "data": {
      "text/plain": [
       "['machinegeneratedtestdatav2', 'testversion3', 'machinegenv3', 'machinegenv2']"
      ]
     },
     "execution_count": 2,
     "metadata": {},
     "output_type": "execute_result"
    }
   ],
   "source": [
    "import os\n",
    "os.listdir('/kaggle/input')"
   ]
  },
  {
   "cell_type": "code",
   "execution_count": 3,
   "id": "9ccc0eb7",
   "metadata": {
    "execution": {
     "iopub.execute_input": "2022-08-28T16:33:42.738292Z",
     "iopub.status.busy": "2022-08-28T16:33:42.737597Z",
     "iopub.status.idle": "2022-08-28T16:33:42.831369Z",
     "shell.execute_reply": "2022-08-28T16:33:42.830373Z"
    },
    "papermill": {
     "duration": 0.101778,
     "end_time": "2022-08-28T16:33:42.833631",
     "exception": false,
     "start_time": "2022-08-28T16:33:42.731853",
     "status": "completed"
    },
    "tags": []
   },
   "outputs": [
    {
     "name": "stdout",
     "output_type": "stream",
     "text": [
      "2555 179\n",
      "2555 179\n"
     ]
    }
   ],
   "source": [
    "\n",
    "train_data = pd.read_csv('../input/machinegenv3/train_human_machine.csv').dropna()['review'].to_list()\n",
    "test_data = pd.read_csv('/kaggle/input/testversion3/train_auto_gen.csv').dropna()['review'].to_list()\n",
    "valid_data = pd.read_csv('/kaggle/input/testversion3/train_auto_gen.csv').dropna()['review'].to_list()\n",
    "print(len(train_data) , len(test_data))\n",
    "train_label = pd.read_csv('../input/machinegenv3/train_human_machine.csv').dropna()['auto_gen_label']\n",
    "test_label = pd.read_csv('/kaggle/input/testversion3/train_auto_gen.csv').dropna()['auto_gen_label']\n",
    "valid_label = pd.read_csv('/kaggle/input/testversion3/train_auto_gen.csv').dropna()['auto_gen_label']\n",
    "    \n",
    "print(len(train_label) , len(test_label))    \n",
    "    \n",
    "    \n",
    "    "
   ]
  },
  {
   "cell_type": "code",
   "execution_count": 4,
   "id": "17a3ec85",
   "metadata": {
    "execution": {
     "iopub.execute_input": "2022-08-28T16:33:42.846581Z",
     "iopub.status.busy": "2022-08-28T16:33:42.844847Z",
     "iopub.status.idle": "2022-08-28T16:33:42.852304Z",
     "shell.execute_reply": "2022-08-28T16:33:42.851235Z"
    },
    "papermill": {
     "duration": 0.016251,
     "end_time": "2022-08-28T16:33:42.855024",
     "exception": false,
     "start_time": "2022-08-28T16:33:42.838773",
     "status": "completed"
    },
    "tags": []
   },
   "outputs": [
    {
     "name": "stdout",
     "output_type": "stream",
     "text": [
      "<class 'pandas.core.series.Series'>\n"
     ]
    }
   ],
   "source": [
    "print(type(train_label))"
   ]
  },
  {
   "cell_type": "code",
   "execution_count": 5,
   "id": "096b2843",
   "metadata": {
    "execution": {
     "iopub.execute_input": "2022-08-28T16:33:42.866543Z",
     "iopub.status.busy": "2022-08-28T16:33:42.866271Z",
     "iopub.status.idle": "2022-08-28T16:33:42.872385Z",
     "shell.execute_reply": "2022-08-28T16:33:42.871562Z"
    },
    "papermill": {
     "duration": 0.01417,
     "end_time": "2022-08-28T16:33:42.874529",
     "exception": false,
     "start_time": "2022-08-28T16:33:42.860359",
     "status": "completed"
    },
    "tags": []
   },
   "outputs": [],
   "source": [
    "MODEL_NAME = 'google/electra-base-discriminator'\n",
    "MAX_LEN = 512\n",
    "ARTIFACTS_PATH = '../artifacts/'\n",
    "\n",
    "BATCH_SIZE = 8\n",
    "EPOCHS = 15\n",
    "\n",
    "if not os.path.exists(ARTIFACTS_PATH):\n",
    "    os.makedirs(ARTIFACTS_PATH)"
   ]
  },
  {
   "cell_type": "code",
   "execution_count": 6,
   "id": "4c9a777d",
   "metadata": {
    "execution": {
     "iopub.execute_input": "2022-08-28T16:33:42.886280Z",
     "iopub.status.busy": "2022-08-28T16:33:42.885738Z",
     "iopub.status.idle": "2022-08-28T16:33:42.893546Z",
     "shell.execute_reply": "2022-08-28T16:33:42.892535Z"
    },
    "papermill": {
     "duration": 0.016141,
     "end_time": "2022-08-28T16:33:42.895681",
     "exception": false,
     "start_time": "2022-08-28T16:33:42.879540",
     "status": "completed"
    },
    "tags": []
   },
   "outputs": [],
   "source": [
    "def electra_encode(texts, tokenizer):\n",
    "    ct = len(texts)\n",
    "    input_ids = np.ones((ct, MAX_LEN), dtype='int32')\n",
    "    attention_mask = np.zeros((ct, MAX_LEN), dtype='int32')\n",
    "    token_type_ids = np.zeros((ct, MAX_LEN), dtype='int32') # Not used in text classification\n",
    "\n",
    "    for k, text in enumerate(texts):\n",
    "        # Tokenize\n",
    "        tok_text = tokenizer.tokenize(text)\n",
    "        \n",
    "        # Truncate and convert tokens to numerical IDs\n",
    "        enc_text = tokenizer.convert_tokens_to_ids(tok_text[:(MAX_LEN-2)])\n",
    "        \n",
    "        input_length = len(enc_text) + 2\n",
    "        input_length = input_length if input_length < MAX_LEN else MAX_LEN\n",
    "        \n",
    "        # Add tokens [CLS] and [SEP] at the beginning and the end\n",
    "        input_ids[k,:input_length] = np.asarray([0] + enc_text + [2], dtype='int32')\n",
    "        \n",
    "        # Set to 1s in the attention input\n",
    "        attention_mask[k,:input_length] = 1\n",
    "\n",
    "    return {\n",
    "        'input_word_ids': input_ids,\n",
    "        'input_mask': attention_mask,\n",
    "        'input_type_ids': token_type_ids\n",
    "    }"
   ]
  },
  {
   "cell_type": "code",
   "execution_count": 7,
   "id": "f1c497eb",
   "metadata": {
    "execution": {
     "iopub.execute_input": "2022-08-28T16:33:42.906774Z",
     "iopub.status.busy": "2022-08-28T16:33:42.906512Z",
     "iopub.status.idle": "2022-08-28T16:33:45.961864Z",
     "shell.execute_reply": "2022-08-28T16:33:45.960923Z"
    },
    "papermill": {
     "duration": 3.063673,
     "end_time": "2022-08-28T16:33:45.964293",
     "exception": false,
     "start_time": "2022-08-28T16:33:42.900620",
     "status": "completed"
    },
    "tags": []
   },
   "outputs": [
    {
     "data": {
      "application/vnd.jupyter.widget-view+json": {
       "model_id": "5389ca1ee07649d1843c1a91df4b1b88",
       "version_major": 2,
       "version_minor": 0
      },
      "text/plain": [
       "Downloading:   0%|          | 0.00/226k [00:00<?, ?B/s]"
      ]
     },
     "metadata": {},
     "output_type": "display_data"
    },
    {
     "data": {
      "application/vnd.jupyter.widget-view+json": {
       "model_id": "db17e2c2e48f44cf910a6b89180c9459",
       "version_major": 2,
       "version_minor": 0
      },
      "text/plain": [
       "Downloading:   0%|          | 0.00/27.0 [00:00<?, ?B/s]"
      ]
     },
     "metadata": {},
     "output_type": "display_data"
    },
    {
     "data": {
      "application/vnd.jupyter.widget-view+json": {
       "model_id": "d3ca532b899543fba0f6b563e1114152",
       "version_major": 2,
       "version_minor": 0
      },
      "text/plain": [
       "Downloading:   0%|          | 0.00/666 [00:00<?, ?B/s]"
      ]
     },
     "metadata": {},
     "output_type": "display_data"
    }
   ],
   "source": [
    "tokenizer = ElectraTokenizer.from_pretrained(MODEL_NAME)"
   ]
  },
  {
   "cell_type": "code",
   "execution_count": 8,
   "id": "5f3c1749",
   "metadata": {
    "execution": {
     "iopub.execute_input": "2022-08-28T16:33:45.977058Z",
     "iopub.status.busy": "2022-08-28T16:33:45.976705Z",
     "iopub.status.idle": "2022-08-28T16:33:53.238256Z",
     "shell.execute_reply": "2022-08-28T16:33:53.237242Z"
    },
    "papermill": {
     "duration": 7.270525,
     "end_time": "2022-08-28T16:33:53.240664",
     "exception": false,
     "start_time": "2022-08-28T16:33:45.970139",
     "status": "completed"
    },
    "tags": []
   },
   "outputs": [],
   "source": [
    "train_data = electra_encode(train_data, tokenizer)\n",
    "valid_data = electra_encode(valid_data, tokenizer)\n",
    "test_data = electra_encode(test_data, tokenizer)"
   ]
  },
  {
   "cell_type": "code",
   "execution_count": 9,
   "id": "2a3a99fc",
   "metadata": {
    "execution": {
     "iopub.execute_input": "2022-08-28T16:33:53.253221Z",
     "iopub.status.busy": "2022-08-28T16:33:53.252907Z",
     "iopub.status.idle": "2022-08-28T16:33:53.278842Z",
     "shell.execute_reply": "2022-08-28T16:33:53.277912Z"
    },
    "papermill": {
     "duration": 0.034911,
     "end_time": "2022-08-28T16:33:53.281284",
     "exception": false,
     "start_time": "2022-08-28T16:33:53.246373",
     "status": "completed"
    },
    "tags": []
   },
   "outputs": [],
   "source": [
    "y_data_train = pd.read_csv('../input/machinegenv3/train_human_machine.csv').dropna()['auto_gen_label'].to_numpy().reshape(-1)"
   ]
  },
  {
   "cell_type": "code",
   "execution_count": 10,
   "id": "3d3511d8",
   "metadata": {
    "execution": {
     "iopub.execute_input": "2022-08-28T16:33:53.293746Z",
     "iopub.status.busy": "2022-08-28T16:33:53.293435Z",
     "iopub.status.idle": "2022-08-28T16:33:53.303777Z",
     "shell.execute_reply": "2022-08-28T16:33:53.302920Z"
    },
    "papermill": {
     "duration": 0.018899,
     "end_time": "2022-08-28T16:33:53.305796",
     "exception": false,
     "start_time": "2022-08-28T16:33:53.286897",
     "status": "completed"
    },
    "tags": []
   },
   "outputs": [
    {
     "data": {
      "text/plain": [
       "{0: 'Positive', 1: 'Negative'}"
      ]
     },
     "execution_count": 10,
     "metadata": {},
     "output_type": "execute_result"
    }
   ],
   "source": [
    "category_to_id = {}\n",
    "category_to_name = {}\n",
    "\n",
    "for index, c in enumerate(y_data_train):\n",
    "    if c in category_to_id:\n",
    "        category_id = category_to_id[c]\n",
    "    else:\n",
    "        category_id = len(category_to_id)\n",
    "        category_to_id[c] = category_id\n",
    "        category_to_name[category_id] = c\n",
    "    \n",
    "    y_data_train[index] = category_id\n",
    "\n",
    "# Display dictionary\n",
    "category_to_name"
   ]
  },
  {
   "cell_type": "code",
   "execution_count": 11,
   "id": "ea198b8c",
   "metadata": {
    "execution": {
     "iopub.execute_input": "2022-08-28T16:33:53.320092Z",
     "iopub.status.busy": "2022-08-28T16:33:53.319250Z",
     "iopub.status.idle": "2022-08-28T16:33:53.324788Z",
     "shell.execute_reply": "2022-08-28T16:33:53.323749Z"
    },
    "papermill": {
     "duration": 0.014601,
     "end_time": "2022-08-28T16:33:53.327457",
     "exception": false,
     "start_time": "2022-08-28T16:33:53.312856",
     "status": "completed"
    },
    "tags": []
   },
   "outputs": [
    {
     "name": "stdout",
     "output_type": "stream",
     "text": [
      "[0 1 0 ... 0 1 1]\n"
     ]
    }
   ],
   "source": [
    "print(y_data_train)"
   ]
  },
  {
   "cell_type": "code",
   "execution_count": 12,
   "id": "b6686fa5",
   "metadata": {
    "execution": {
     "iopub.execute_input": "2022-08-28T16:33:53.340088Z",
     "iopub.status.busy": "2022-08-28T16:33:53.339254Z",
     "iopub.status.idle": "2022-08-28T16:33:53.349390Z",
     "shell.execute_reply": "2022-08-28T16:33:53.348506Z"
    },
    "papermill": {
     "duration": 0.018473,
     "end_time": "2022-08-28T16:33:53.351387",
     "exception": false,
     "start_time": "2022-08-28T16:33:53.332914",
     "status": "completed"
    },
    "tags": []
   },
   "outputs": [],
   "source": [
    "y_data_test = pd.read_csv('/kaggle/input/testversion3/train_auto_gen.csv').dropna()['auto_gen_label'].to_numpy().reshape(-1)"
   ]
  },
  {
   "cell_type": "code",
   "execution_count": 13,
   "id": "28b2a176",
   "metadata": {
    "execution": {
     "iopub.execute_input": "2022-08-28T16:33:53.364496Z",
     "iopub.status.busy": "2022-08-28T16:33:53.363630Z",
     "iopub.status.idle": "2022-08-28T16:33:53.372093Z",
     "shell.execute_reply": "2022-08-28T16:33:53.371081Z"
    },
    "papermill": {
     "duration": 0.017174,
     "end_time": "2022-08-28T16:33:53.374132",
     "exception": false,
     "start_time": "2022-08-28T16:33:53.356958",
     "status": "completed"
    },
    "tags": []
   },
   "outputs": [
    {
     "data": {
      "text/plain": [
       "{0: 'Positive', 1: 'Negative'}"
      ]
     },
     "execution_count": 13,
     "metadata": {},
     "output_type": "execute_result"
    }
   ],
   "source": [
    "category_to_id = {}\n",
    "category_to_name = {}\n",
    "\n",
    "for index, c in enumerate(y_data_test):\n",
    "    if c in category_to_id:\n",
    "        category_id = category_to_id[c]\n",
    "    else:\n",
    "        category_id = len(category_to_id)\n",
    "        category_to_id[c] = category_id\n",
    "        category_to_name[category_id] = c\n",
    "    \n",
    "    y_data_test[index] = category_id\n",
    "\n",
    "# Display dictionary\n",
    "category_to_name"
   ]
  },
  {
   "cell_type": "code",
   "execution_count": 14,
   "id": "27c65e75",
   "metadata": {
    "execution": {
     "iopub.execute_input": "2022-08-28T16:33:53.386391Z",
     "iopub.status.busy": "2022-08-28T16:33:53.386109Z",
     "iopub.status.idle": "2022-08-28T16:33:53.391485Z",
     "shell.execute_reply": "2022-08-28T16:33:53.390561Z"
    },
    "papermill": {
     "duration": 0.014556,
     "end_time": "2022-08-28T16:33:53.394225",
     "exception": false,
     "start_time": "2022-08-28T16:33:53.379669",
     "status": "completed"
    },
    "tags": []
   },
   "outputs": [
    {
     "name": "stdout",
     "output_type": "stream",
     "text": [
      "[0 1 0 1 0 1 0 1 0 1 0 1 0 1 0 1 0 1 0 1 0 1 0 1 0 1 0 1 0 1 0 1 1 0 1 0 1\n",
      " 0 1 0 1 0 1 0 1 0 1 0 1 0 1 0 1 1 0 1 0 1 0 1 0 1 1 0 1 1 1 1 0 1 0 1 1 1\n",
      " 0 1 0 1 0 1 1 0 1 0 1 0 1 0 1 0 1 0 1 0 1 1 0 1 1 0 1 0 1 0 1 1 0 1 0 1 1\n",
      " 0 1 0 1 0 1 0 1 0 1 0 1 1 0 1 0 1 0 1 1 0 1 0 1 1 0 1 0 1 0 1 0 1 0 1 1 0\n",
      " 1 0 1 0 1 0 1 0 1 0 1 0 1 0 1 1 0 1 0 1 0 1 1 0 1 1 1 0 1 0 1]\n"
     ]
    }
   ],
   "source": [
    "print(y_data_test)"
   ]
  },
  {
   "cell_type": "code",
   "execution_count": 15,
   "id": "4b7ba716",
   "metadata": {
    "execution": {
     "iopub.execute_input": "2022-08-28T16:33:53.409047Z",
     "iopub.status.busy": "2022-08-28T16:33:53.407435Z",
     "iopub.status.idle": "2022-08-28T16:33:53.413547Z",
     "shell.execute_reply": "2022-08-28T16:33:53.412659Z"
    },
    "papermill": {
     "duration": 0.014774,
     "end_time": "2022-08-28T16:33:53.415526",
     "exception": false,
     "start_time": "2022-08-28T16:33:53.400752",
     "status": "completed"
    },
    "tags": []
   },
   "outputs": [],
   "source": [
    "y_data_test = np.asarray(y_data_test, dtype='int32')\n",
    "y_data_train = np.asarray(y_data_train, dtype='int32')"
   ]
  },
  {
   "cell_type": "code",
   "execution_count": 16,
   "id": "1c0e8d35",
   "metadata": {
    "execution": {
     "iopub.execute_input": "2022-08-28T16:33:53.429637Z",
     "iopub.status.busy": "2022-08-28T16:33:53.427953Z",
     "iopub.status.idle": "2022-08-28T16:33:53.437264Z",
     "shell.execute_reply": "2022-08-28T16:33:53.435309Z"
    },
    "papermill": {
     "duration": 0.018934,
     "end_time": "2022-08-28T16:33:53.440195",
     "exception": false,
     "start_time": "2022-08-28T16:33:53.421261",
     "status": "completed"
    },
    "tags": []
   },
   "outputs": [
    {
     "name": "stdout",
     "output_type": "stream",
     "text": [
      "{'input_word_ids': array([[   0, 6423, 2775, ...,    1,    1,    1],\n",
      "       [   0, 6423, 2775, ...,    1,    1,    1],\n",
      "       [   0, 1041, 1012, ...,    1,    1,    1],\n",
      "       ...,\n",
      "       [   0, 6804, 1011, ...,    1,    1,    1],\n",
      "       [   0, 6097, 1010, ...,    1,    1,    1],\n",
      "       [   0, 3532, 3737, ...,    1,    1,    1]], dtype=int32), 'input_mask': array([[1, 1, 1, ..., 0, 0, 0],\n",
      "       [1, 1, 1, ..., 0, 0, 0],\n",
      "       [1, 1, 1, ..., 0, 0, 0],\n",
      "       ...,\n",
      "       [1, 1, 1, ..., 0, 0, 0],\n",
      "       [1, 1, 1, ..., 0, 0, 0],\n",
      "       [1, 1, 1, ..., 0, 0, 0]], dtype=int32), 'input_type_ids': array([[0, 0, 0, ..., 0, 0, 0],\n",
      "       [0, 0, 0, ..., 0, 0, 0],\n",
      "       [0, 0, 0, ..., 0, 0, 0],\n",
      "       ...,\n",
      "       [0, 0, 0, ..., 0, 0, 0],\n",
      "       [0, 0, 0, ..., 0, 0, 0],\n",
      "       [0, 0, 0, ..., 0, 0, 0]], dtype=int32)}\n"
     ]
    }
   ],
   "source": [
    "print(valid_data)"
   ]
  },
  {
   "cell_type": "code",
   "execution_count": 17,
   "id": "eebabd63",
   "metadata": {
    "execution": {
     "iopub.execute_input": "2022-08-28T16:33:53.455778Z",
     "iopub.status.busy": "2022-08-28T16:33:53.453963Z",
     "iopub.status.idle": "2022-08-28T16:33:53.463253Z",
     "shell.execute_reply": "2022-08-28T16:33:53.462316Z"
    },
    "papermill": {
     "duration": 0.018387,
     "end_time": "2022-08-28T16:33:53.465231",
     "exception": false,
     "start_time": "2022-08-28T16:33:53.446844",
     "status": "completed"
    },
    "tags": []
   },
   "outputs": [],
   "source": [
    "def build_model(n_categories):\n",
    "\n",
    "    input_word_ids = tf.keras.Input(shape=(MAX_LEN,), dtype=tf.int32, name='input_word_ids')\n",
    "    input_mask = tf.keras.Input(shape=(MAX_LEN,), dtype=tf.int32, name='input_mask')\n",
    "    input_type_ids = tf.keras.Input(shape=(MAX_LEN,), dtype=tf.int32, name='input_type_ids')\n",
    "\n",
    "    # Import RoBERTa model from HuggingFace\n",
    "    electra_model = TFElectraModel.from_pretrained(MODEL_NAME)\n",
    "    electra_model.trainable = False\n",
    "    x = electra_model(input_word_ids, attention_mask=input_mask, token_type_ids=input_type_ids)\n",
    "\n",
    "    # Huggingface transformers have multiple outputs, embeddings are the first one,\n",
    "    # so let's slice out the first position\n",
    "\n",
    "    x = x[0]\n",
    "\n",
    "    x = tf.keras.layers.Dropout(0.33)(x)\n",
    "    x = tf.keras.layers.Flatten()(x)\n",
    "    x = tf.keras.layers.Dense(128, activation='relu')(x)\n",
    "    x = tf.keras.layers.Dense(1, activation='sigmoid')(x)\n",
    "\n",
    "    model = tf.keras.Model(inputs=[input_word_ids, input_mask, input_type_ids], outputs=x)\n",
    "    model.compile(\n",
    "        optimizer=tf.keras.optimizers.Adam(lr=1e-5),\n",
    "        loss='binary_crossentropy',\n",
    "        metrics=['accuracy'])\n",
    "\n",
    "    return model"
   ]
  },
  {
   "cell_type": "code",
   "execution_count": 18,
   "id": "abd4dbb6",
   "metadata": {
    "execution": {
     "iopub.execute_input": "2022-08-28T16:33:53.479940Z",
     "iopub.status.busy": "2022-08-28T16:33:53.478271Z",
     "iopub.status.idle": "2022-08-28T16:34:22.137365Z",
     "shell.execute_reply": "2022-08-28T16:34:22.135684Z"
    },
    "papermill": {
     "duration": 28.668366,
     "end_time": "2022-08-28T16:34:22.139575",
     "exception": false,
     "start_time": "2022-08-28T16:33:53.471209",
     "status": "completed"
    },
    "tags": []
   },
   "outputs": [
    {
     "data": {
      "application/vnd.jupyter.widget-view+json": {
       "model_id": "c3c509a826a342de847ab7c25efcdc12",
       "version_major": 2,
       "version_minor": 0
      },
      "text/plain": [
       "Downloading:   0%|          | 0.00/418M [00:00<?, ?B/s]"
      ]
     },
     "metadata": {},
     "output_type": "display_data"
    },
    {
     "name": "stderr",
     "output_type": "stream",
     "text": [
      "Some layers from the model checkpoint at google/electra-base-discriminator were not used when initializing TFElectraModel: ['discriminator_predictions']\n",
      "- This IS expected if you are initializing TFElectraModel from the checkpoint of a model trained on another task or with another architecture (e.g. initializing a BertForSequenceClassification model from a BertForPreTraining model).\n",
      "- This IS NOT expected if you are initializing TFElectraModel from the checkpoint of a model that you expect to be exactly identical (initializing a BertForSequenceClassification model from a BertForSequenceClassification model).\n",
      "All the layers of TFElectraModel were initialized from the model checkpoint at google/electra-base-discriminator.\n",
      "If your task is similar to the task the model of the checkpoint was trained on, you can already use TFElectraModel for predictions without further training.\n"
     ]
    },
    {
     "name": "stdout",
     "output_type": "stream",
     "text": [
      "Model: \"model\"\n",
      "__________________________________________________________________________________________________\n",
      "Layer (type)                    Output Shape         Param #     Connected to                     \n",
      "==================================================================================================\n",
      "input_word_ids (InputLayer)     [(None, 512)]        0                                            \n",
      "__________________________________________________________________________________________________\n",
      "input_mask (InputLayer)         [(None, 512)]        0                                            \n",
      "__________________________________________________________________________________________________\n",
      "input_type_ids (InputLayer)     [(None, 512)]        0                                            \n",
      "__________________________________________________________________________________________________\n",
      "tf_electra_model (TFElectraMode TFBaseModelOutputWit 108891648   input_word_ids[0][0]             \n",
      "                                                                 input_mask[0][0]                 \n",
      "                                                                 input_type_ids[0][0]             \n",
      "__________________________________________________________________________________________________\n",
      "dropout_37 (Dropout)            (None, 512, 768)     0           tf_electra_model[0][0]           \n",
      "__________________________________________________________________________________________________\n",
      "flatten (Flatten)               (None, 393216)       0           dropout_37[0][0]                 \n",
      "__________________________________________________________________________________________________\n",
      "dense (Dense)                   (None, 128)          50331776    flatten[0][0]                    \n",
      "__________________________________________________________________________________________________\n",
      "dense_1 (Dense)                 (None, 1)            129         dense[0][0]                      \n",
      "==================================================================================================\n",
      "Total params: 159,223,553\n",
      "Trainable params: 50,331,905\n",
      "Non-trainable params: 108,891,648\n",
      "__________________________________________________________________________________________________\n"
     ]
    }
   ],
   "source": [
    "model = build_model(2)\n",
    "model.summary()"
   ]
  },
  {
   "cell_type": "code",
   "execution_count": 19,
   "id": "32d1eede",
   "metadata": {
    "execution": {
     "iopub.execute_input": "2022-08-28T16:34:22.155704Z",
     "iopub.status.busy": "2022-08-28T16:34:22.153982Z",
     "iopub.status.idle": "2022-08-28T16:34:22.161786Z",
     "shell.execute_reply": "2022-08-28T16:34:22.160792Z"
    },
    "papermill": {
     "duration": 0.017899,
     "end_time": "2022-08-28T16:34:22.164014",
     "exception": false,
     "start_time": "2022-08-28T16:34:22.146115",
     "status": "completed"
    },
    "tags": []
   },
   "outputs": [
    {
     "data": {
      "text/plain": [
       "<__main__.config at 0x7f7727054110>"
      ]
     },
     "execution_count": 19,
     "metadata": {},
     "output_type": "execute_result"
    }
   ],
   "source": [
    "class config:\n",
    "    MODEL_SAVE_DIR = './checkpoint'\n",
    "\n",
    "cfg = config()\n",
    "cfg"
   ]
  },
  {
   "cell_type": "code",
   "execution_count": 20,
   "id": "668922f3",
   "metadata": {
    "execution": {
     "iopub.execute_input": "2022-08-28T16:34:22.177912Z",
     "iopub.status.busy": "2022-08-28T16:34:22.177605Z",
     "iopub.status.idle": "2022-08-28T16:34:22.184369Z",
     "shell.execute_reply": "2022-08-28T16:34:22.183124Z"
    },
    "papermill": {
     "duration": 0.016371,
     "end_time": "2022-08-28T16:34:22.186531",
     "exception": false,
     "start_time": "2022-08-28T16:34:22.170160",
     "status": "completed"
    },
    "tags": []
   },
   "outputs": [],
   "source": [
    "from tensorflow.keras import callbacks\n",
    "def get_callback_list():\n",
    "    #to do : add lr schedular, tensorboad log\n",
    "    early_stop = callbacks.EarlyStopping(monitor=\"accuracy\", mode=\"max\",restore_best_weights=True, patience=4)\n",
    "    checkpoint = callbacks.ModelCheckpoint(filepath=os.path.join(cfg.MODEL_SAVE_DIR, \"{epoch:03d}-{val_accuracy:.3f}.h5\"),\n",
    "                                save_weights_only=True,\n",
    "                                monitor='val_accuracy',\n",
    "                                model='max',\n",
    "                                save_best_only=True,\n",
    "                                )\n",
    "    csv_logs = callbacks.CSVLogger(os.path.join(cfg.MODEL_SAVE_DIR, \"logs.csv\"))\n",
    "    reduce_lr = callbacks.ReduceLROnPlateau(factor=0.5, monitor=\"val_accuracy\", mode=\"max\", patience=3)\n",
    "    tb = callbacks.TensorBoard(log_dir= os.path.join(cfg.MODEL_SAVE_DIR, \"logs\"))\n",
    "\n",
    "    return [checkpoint, tb]"
   ]
  },
  {
   "cell_type": "code",
   "execution_count": 21,
   "id": "32c56ec7",
   "metadata": {
    "execution": {
     "iopub.execute_input": "2022-08-28T16:34:22.200291Z",
     "iopub.status.busy": "2022-08-28T16:34:22.199994Z",
     "iopub.status.idle": "2022-08-28T16:47:55.663819Z",
     "shell.execute_reply": "2022-08-28T16:47:55.662717Z"
    },
    "papermill": {
     "duration": 813.473605,
     "end_time": "2022-08-28T16:47:55.666439",
     "exception": false,
     "start_time": "2022-08-28T16:34:22.192834",
     "status": "completed"
    },
    "tags": []
   },
   "outputs": [
    {
     "name": "stdout",
     "output_type": "stream",
     "text": [
      "Training...\n"
     ]
    },
    {
     "name": "stderr",
     "output_type": "stream",
     "text": [
      "2022-08-28 16:34:22.204678: I tensorflow/core/profiler/lib/profiler_session.cc:131] Profiler session initializing.\n",
      "2022-08-28 16:34:22.204722: I tensorflow/core/profiler/lib/profiler_session.cc:146] Profiler session started.\n",
      "2022-08-28 16:34:22.206997: I tensorflow/core/profiler/internal/gpu/cupti_tracer.cc:1614] Profiler found 1 GPUs\n",
      "2022-08-28 16:34:22.723349: I tensorflow/core/profiler/lib/profiler_session.cc:164] Profiler session tear down.\n",
      "2022-08-28 16:34:22.723566: I tensorflow/core/profiler/internal/gpu/cupti_tracer.cc:1748] CUPTI activity buffer flushed\n",
      "2022-08-28 16:34:22.944022: I tensorflow/compiler/mlir/mlir_graph_optimization_pass.cc:185] None of the MLIR Optimization Passes are enabled (registered 2)\n"
     ]
    },
    {
     "name": "stdout",
     "output_type": "stream",
     "text": [
      "Epoch 1/10\n",
      "  1/160 [..............................] - ETA: 29:57 - loss: 0.9506 - accuracy: 0.5000"
     ]
    },
    {
     "name": "stderr",
     "output_type": "stream",
     "text": [
      "2022-08-28 16:34:34.660214: I tensorflow/core/profiler/lib/profiler_session.cc:131] Profiler session initializing.\n",
      "2022-08-28 16:34:34.660271: I tensorflow/core/profiler/lib/profiler_session.cc:146] Profiler session started.\n"
     ]
    },
    {
     "name": "stdout",
     "output_type": "stream",
     "text": [
      "  2/160 [..............................] - ETA: 2:59 - loss: 0.8853 - accuracy: 0.5625 "
     ]
    },
    {
     "name": "stderr",
     "output_type": "stream",
     "text": [
      "2022-08-28 16:34:35.446300: I tensorflow/core/profiler/lib/profiler_session.cc:66] Profiler session collecting data.\n",
      "2022-08-28 16:34:35.448378: I tensorflow/core/profiler/internal/gpu/cupti_tracer.cc:1748] CUPTI activity buffer flushed\n",
      "2022-08-28 16:34:35.602738: I tensorflow/core/profiler/internal/gpu/cupti_collector.cc:673]  GpuTracer has collected 1248 callback api events and 1245 activity events. \n",
      "2022-08-28 16:34:35.644075: I tensorflow/core/profiler/lib/profiler_session.cc:164] Profiler session tear down.\n"
     ]
    },
    {
     "name": "stdout",
     "output_type": "stream",
     "text": [
      "160/160 [==============================] - 88s 484ms/step - loss: 0.3659 - accuracy: 0.8301 - val_loss: 0.2938 - val_accuracy: 0.8939\n",
      "Epoch 2/10\n",
      "160/160 [==============================] - 74s 462ms/step - loss: 0.2095 - accuracy: 0.9123 - val_loss: 0.1586 - val_accuracy: 0.9665\n",
      "Epoch 3/10\n",
      "160/160 [==============================] - 74s 462ms/step - loss: 0.1687 - accuracy: 0.9358 - val_loss: 0.1402 - val_accuracy: 0.9665\n",
      "Epoch 4/10\n",
      "160/160 [==============================] - 74s 460ms/step - loss: 0.1210 - accuracy: 0.9534 - val_loss: 0.1425 - val_accuracy: 0.9721\n",
      "Epoch 5/10\n",
      "160/160 [==============================] - 74s 461ms/step - loss: 0.1107 - accuracy: 0.9581 - val_loss: 0.1503 - val_accuracy: 0.9665\n",
      "Epoch 6/10\n",
      "160/160 [==============================] - 74s 460ms/step - loss: 0.1069 - accuracy: 0.9613 - val_loss: 0.1619 - val_accuracy: 0.9721\n",
      "Epoch 7/10\n",
      "160/160 [==============================] - 73s 454ms/step - loss: 0.1021 - accuracy: 0.9648 - val_loss: 0.1594 - val_accuracy: 0.9721\n",
      "Epoch 8/10\n",
      "160/160 [==============================] - 74s 460ms/step - loss: 0.0883 - accuracy: 0.9691 - val_loss: 0.1607 - val_accuracy: 0.9553\n",
      "Epoch 9/10\n",
      "160/160 [==============================] - 74s 460ms/step - loss: 0.0879 - accuracy: 0.9648 - val_loss: 0.1684 - val_accuracy: 0.9665\n",
      "Epoch 10/10\n",
      "160/160 [==============================] - 74s 460ms/step - loss: 0.0726 - accuracy: 0.9714 - val_loss: 0.1964 - val_accuracy: 0.9721\n"
     ]
    }
   ],
   "source": [
    "print('Training...')\n",
    "history = model.fit(train_data,\n",
    "                    y_data_train,\n",
    "                    epochs=10,\n",
    "                    batch_size=16,\n",
    "                    verbose=1,\n",
    "                    callbacks = get_callback_list(),\n",
    "                    validation_data=(valid_data, y_data_test))"
   ]
  },
  {
   "cell_type": "code",
   "execution_count": 22,
   "id": "d1fb4743",
   "metadata": {
    "execution": {
     "iopub.execute_input": "2022-08-28T16:47:55.845694Z",
     "iopub.status.busy": "2022-08-28T16:47:55.845331Z",
     "iopub.status.idle": "2022-08-28T16:47:55.853696Z",
     "shell.execute_reply": "2022-08-28T16:47:55.852629Z"
    },
    "papermill": {
     "duration": 0.100551,
     "end_time": "2022-08-28T16:47:55.855825",
     "exception": false,
     "start_time": "2022-08-28T16:47:55.755274",
     "status": "completed"
    },
    "tags": []
   },
   "outputs": [
    {
     "name": "stdout",
     "output_type": "stream",
     "text": [
      "0      Positive\n",
      "1      Negative\n",
      "2      Positive\n",
      "3      Negative\n",
      "4      Positive\n",
      "         ...   \n",
      "195    Negative\n",
      "196    Positive\n",
      "197    Negative\n",
      "198    Positive\n",
      "199    Negative\n",
      "Name: auto_gen_label, Length: 179, dtype: object\n"
     ]
    }
   ],
   "source": [
    "print(valid_label)"
   ]
  }
 ],
 "metadata": {
  "kernelspec": {
   "display_name": "Python 3",
   "language": "python",
   "name": "python3"
  },
  "language_info": {
   "codemirror_mode": {
    "name": "ipython",
    "version": 3
   },
   "file_extension": ".py",
   "mimetype": "text/x-python",
   "name": "python",
   "nbconvert_exporter": "python",
   "pygments_lexer": "ipython3",
   "version": "3.7.12"
  },
  "papermill": {
   "default_parameters": {},
   "duration": 878.653499,
   "end_time": "2022-08-28T16:47:59.563349",
   "environment_variables": {},
   "exception": null,
   "input_path": "__notebook__.ipynb",
   "output_path": "__notebook__.ipynb",
   "parameters": {},
   "start_time": "2022-08-28T16:33:20.909850",
   "version": "2.3.4"
  },
  "widgets": {
   "application/vnd.jupyter.widget-state+json": {
    "state": {
     "00311410fac24349b12e3a49c26f60fa": {
      "model_module": "@jupyter-widgets/controls",
      "model_module_version": "1.5.0",
      "model_name": "ProgressStyleModel",
      "state": {
       "_model_module": "@jupyter-widgets/controls",
       "_model_module_version": "1.5.0",
       "_model_name": "ProgressStyleModel",
       "_view_count": null,
       "_view_module": "@jupyter-widgets/base",
       "_view_module_version": "1.2.0",
       "_view_name": "StyleView",
       "bar_color": null,
       "description_width": ""
      }
     },
     "03bf6e37dc0b470088446f300c89fa25": {
      "model_module": "@jupyter-widgets/base",
      "model_module_version": "1.2.0",
      "model_name": "LayoutModel",
      "state": {
       "_model_module": "@jupyter-widgets/base",
       "_model_module_version": "1.2.0",
       "_model_name": "LayoutModel",
       "_view_count": null,
       "_view_module": "@jupyter-widgets/base",
       "_view_module_version": "1.2.0",
       "_view_name": "LayoutView",
       "align_content": null,
       "align_items": null,
       "align_self": null,
       "border": null,
       "bottom": null,
       "display": null,
       "flex": null,
       "flex_flow": null,
       "grid_area": null,
       "grid_auto_columns": null,
       "grid_auto_flow": null,
       "grid_auto_rows": null,
       "grid_column": null,
       "grid_gap": null,
       "grid_row": null,
       "grid_template_areas": null,
       "grid_template_columns": null,
       "grid_template_rows": null,
       "height": null,
       "justify_content": null,
       "justify_items": null,
       "left": null,
       "margin": null,
       "max_height": null,
       "max_width": null,
       "min_height": null,
       "min_width": null,
       "object_fit": null,
       "object_position": null,
       "order": null,
       "overflow": null,
       "overflow_x": null,
       "overflow_y": null,
       "padding": null,
       "right": null,
       "top": null,
       "visibility": null,
       "width": null
      }
     },
     "16bad968b893440a87bf90796e74afa4": {
      "model_module": "@jupyter-widgets/controls",
      "model_module_version": "1.5.0",
      "model_name": "HTMLModel",
      "state": {
       "_dom_classes": [],
       "_model_module": "@jupyter-widgets/controls",
       "_model_module_version": "1.5.0",
       "_model_name": "HTMLModel",
       "_view_count": null,
       "_view_module": "@jupyter-widgets/controls",
       "_view_module_version": "1.5.0",
       "_view_name": "HTMLView",
       "description": "",
       "description_tooltip": null,
       "layout": "IPY_MODEL_222ccf05f7f74ebe91f838923cb70255",
       "placeholder": "​",
       "style": "IPY_MODEL_d94f3846e3ad49b6b50e073e74cc9cd0",
       "value": " 666/666 [00:00&lt;00:00, 24.9kB/s]"
      }
     },
     "20a973c4aa7a4d24809b2b428215989d": {
      "model_module": "@jupyter-widgets/base",
      "model_module_version": "1.2.0",
      "model_name": "LayoutModel",
      "state": {
       "_model_module": "@jupyter-widgets/base",
       "_model_module_version": "1.2.0",
       "_model_name": "LayoutModel",
       "_view_count": null,
       "_view_module": "@jupyter-widgets/base",
       "_view_module_version": "1.2.0",
       "_view_name": "LayoutView",
       "align_content": null,
       "align_items": null,
       "align_self": null,
       "border": null,
       "bottom": null,
       "display": null,
       "flex": null,
       "flex_flow": null,
       "grid_area": null,
       "grid_auto_columns": null,
       "grid_auto_flow": null,
       "grid_auto_rows": null,
       "grid_column": null,
       "grid_gap": null,
       "grid_row": null,
       "grid_template_areas": null,
       "grid_template_columns": null,
       "grid_template_rows": null,
       "height": null,
       "justify_content": null,
       "justify_items": null,
       "left": null,
       "margin": null,
       "max_height": null,
       "max_width": null,
       "min_height": null,
       "min_width": null,
       "object_fit": null,
       "object_position": null,
       "order": null,
       "overflow": null,
       "overflow_x": null,
       "overflow_y": null,
       "padding": null,
       "right": null,
       "top": null,
       "visibility": null,
       "width": null
      }
     },
     "222ccf05f7f74ebe91f838923cb70255": {
      "model_module": "@jupyter-widgets/base",
      "model_module_version": "1.2.0",
      "model_name": "LayoutModel",
      "state": {
       "_model_module": "@jupyter-widgets/base",
       "_model_module_version": "1.2.0",
       "_model_name": "LayoutModel",
       "_view_count": null,
       "_view_module": "@jupyter-widgets/base",
       "_view_module_version": "1.2.0",
       "_view_name": "LayoutView",
       "align_content": null,
       "align_items": null,
       "align_self": null,
       "border": null,
       "bottom": null,
       "display": null,
       "flex": null,
       "flex_flow": null,
       "grid_area": null,
       "grid_auto_columns": null,
       "grid_auto_flow": null,
       "grid_auto_rows": null,
       "grid_column": null,
       "grid_gap": null,
       "grid_row": null,
       "grid_template_areas": null,
       "grid_template_columns": null,
       "grid_template_rows": null,
       "height": null,
       "justify_content": null,
       "justify_items": null,
       "left": null,
       "margin": null,
       "max_height": null,
       "max_width": null,
       "min_height": null,
       "min_width": null,
       "object_fit": null,
       "object_position": null,
       "order": null,
       "overflow": null,
       "overflow_x": null,
       "overflow_y": null,
       "padding": null,
       "right": null,
       "top": null,
       "visibility": null,
       "width": null
      }
     },
     "28d5497a74244a259acfd9a21a623655": {
      "model_module": "@jupyter-widgets/base",
      "model_module_version": "1.2.0",
      "model_name": "LayoutModel",
      "state": {
       "_model_module": "@jupyter-widgets/base",
       "_model_module_version": "1.2.0",
       "_model_name": "LayoutModel",
       "_view_count": null,
       "_view_module": "@jupyter-widgets/base",
       "_view_module_version": "1.2.0",
       "_view_name": "LayoutView",
       "align_content": null,
       "align_items": null,
       "align_self": null,
       "border": null,
       "bottom": null,
       "display": null,
       "flex": null,
       "flex_flow": null,
       "grid_area": null,
       "grid_auto_columns": null,
       "grid_auto_flow": null,
       "grid_auto_rows": null,
       "grid_column": null,
       "grid_gap": null,
       "grid_row": null,
       "grid_template_areas": null,
       "grid_template_columns": null,
       "grid_template_rows": null,
       "height": null,
       "justify_content": null,
       "justify_items": null,
       "left": null,
       "margin": null,
       "max_height": null,
       "max_width": null,
       "min_height": null,
       "min_width": null,
       "object_fit": null,
       "object_position": null,
       "order": null,
       "overflow": null,
       "overflow_x": null,
       "overflow_y": null,
       "padding": null,
       "right": null,
       "top": null,
       "visibility": null,
       "width": null
      }
     },
     "2d8603b92767453997c3609ecfee36bb": {
      "model_module": "@jupyter-widgets/base",
      "model_module_version": "1.2.0",
      "model_name": "LayoutModel",
      "state": {
       "_model_module": "@jupyter-widgets/base",
       "_model_module_version": "1.2.0",
       "_model_name": "LayoutModel",
       "_view_count": null,
       "_view_module": "@jupyter-widgets/base",
       "_view_module_version": "1.2.0",
       "_view_name": "LayoutView",
       "align_content": null,
       "align_items": null,
       "align_self": null,
       "border": null,
       "bottom": null,
       "display": null,
       "flex": null,
       "flex_flow": null,
       "grid_area": null,
       "grid_auto_columns": null,
       "grid_auto_flow": null,
       "grid_auto_rows": null,
       "grid_column": null,
       "grid_gap": null,
       "grid_row": null,
       "grid_template_areas": null,
       "grid_template_columns": null,
       "grid_template_rows": null,
       "height": null,
       "justify_content": null,
       "justify_items": null,
       "left": null,
       "margin": null,
       "max_height": null,
       "max_width": null,
       "min_height": null,
       "min_width": null,
       "object_fit": null,
       "object_position": null,
       "order": null,
       "overflow": null,
       "overflow_x": null,
       "overflow_y": null,
       "padding": null,
       "right": null,
       "top": null,
       "visibility": null,
       "width": null
      }
     },
     "35eeb7bfc5d6486981c3b907e6f831b1": {
      "model_module": "@jupyter-widgets/controls",
      "model_module_version": "1.5.0",
      "model_name": "DescriptionStyleModel",
      "state": {
       "_model_module": "@jupyter-widgets/controls",
       "_model_module_version": "1.5.0",
       "_model_name": "DescriptionStyleModel",
       "_view_count": null,
       "_view_module": "@jupyter-widgets/base",
       "_view_module_version": "1.2.0",
       "_view_name": "StyleView",
       "description_width": ""
      }
     },
     "421c67c037d84ff3b67b645740735031": {
      "model_module": "@jupyter-widgets/base",
      "model_module_version": "1.2.0",
      "model_name": "LayoutModel",
      "state": {
       "_model_module": "@jupyter-widgets/base",
       "_model_module_version": "1.2.0",
       "_model_name": "LayoutModel",
       "_view_count": null,
       "_view_module": "@jupyter-widgets/base",
       "_view_module_version": "1.2.0",
       "_view_name": "LayoutView",
       "align_content": null,
       "align_items": null,
       "align_self": null,
       "border": null,
       "bottom": null,
       "display": null,
       "flex": null,
       "flex_flow": null,
       "grid_area": null,
       "grid_auto_columns": null,
       "grid_auto_flow": null,
       "grid_auto_rows": null,
       "grid_column": null,
       "grid_gap": null,
       "grid_row": null,
       "grid_template_areas": null,
       "grid_template_columns": null,
       "grid_template_rows": null,
       "height": null,
       "justify_content": null,
       "justify_items": null,
       "left": null,
       "margin": null,
       "max_height": null,
       "max_width": null,
       "min_height": null,
       "min_width": null,
       "object_fit": null,
       "object_position": null,
       "order": null,
       "overflow": null,
       "overflow_x": null,
       "overflow_y": null,
       "padding": null,
       "right": null,
       "top": null,
       "visibility": null,
       "width": null
      }
     },
     "434b4a1abe614c38ae2920cdb9da9e21": {
      "model_module": "@jupyter-widgets/controls",
      "model_module_version": "1.5.0",
      "model_name": "ProgressStyleModel",
      "state": {
       "_model_module": "@jupyter-widgets/controls",
       "_model_module_version": "1.5.0",
       "_model_name": "ProgressStyleModel",
       "_view_count": null,
       "_view_module": "@jupyter-widgets/base",
       "_view_module_version": "1.2.0",
       "_view_name": "StyleView",
       "bar_color": null,
       "description_width": ""
      }
     },
     "505b8df211064bc28ff830a619743930": {
      "model_module": "@jupyter-widgets/base",
      "model_module_version": "1.2.0",
      "model_name": "LayoutModel",
      "state": {
       "_model_module": "@jupyter-widgets/base",
       "_model_module_version": "1.2.0",
       "_model_name": "LayoutModel",
       "_view_count": null,
       "_view_module": "@jupyter-widgets/base",
       "_view_module_version": "1.2.0",
       "_view_name": "LayoutView",
       "align_content": null,
       "align_items": null,
       "align_self": null,
       "border": null,
       "bottom": null,
       "display": null,
       "flex": null,
       "flex_flow": null,
       "grid_area": null,
       "grid_auto_columns": null,
       "grid_auto_flow": null,
       "grid_auto_rows": null,
       "grid_column": null,
       "grid_gap": null,
       "grid_row": null,
       "grid_template_areas": null,
       "grid_template_columns": null,
       "grid_template_rows": null,
       "height": null,
       "justify_content": null,
       "justify_items": null,
       "left": null,
       "margin": null,
       "max_height": null,
       "max_width": null,
       "min_height": null,
       "min_width": null,
       "object_fit": null,
       "object_position": null,
       "order": null,
       "overflow": null,
       "overflow_x": null,
       "overflow_y": null,
       "padding": null,
       "right": null,
       "top": null,
       "visibility": null,
       "width": null
      }
     },
     "5389ca1ee07649d1843c1a91df4b1b88": {
      "model_module": "@jupyter-widgets/controls",
      "model_module_version": "1.5.0",
      "model_name": "HBoxModel",
      "state": {
       "_dom_classes": [],
       "_model_module": "@jupyter-widgets/controls",
       "_model_module_version": "1.5.0",
       "_model_name": "HBoxModel",
       "_view_count": null,
       "_view_module": "@jupyter-widgets/controls",
       "_view_module_version": "1.5.0",
       "_view_name": "HBoxView",
       "box_style": "",
       "children": [
        "IPY_MODEL_d825066399854a078ed8c30543f9a8d9",
        "IPY_MODEL_dd12243eee3d4a26b1fd0ede7aa5fd87",
        "IPY_MODEL_7284a464f9f843d1b9a214741e831b1b"
       ],
       "layout": "IPY_MODEL_7a406184978942bb94bb7cc8022f3805"
      }
     },
     "578a52273582463eb51d5ef6a408f74c": {
      "model_module": "@jupyter-widgets/controls",
      "model_module_version": "1.5.0",
      "model_name": "FloatProgressModel",
      "state": {
       "_dom_classes": [],
       "_model_module": "@jupyter-widgets/controls",
       "_model_module_version": "1.5.0",
       "_model_name": "FloatProgressModel",
       "_view_count": null,
       "_view_module": "@jupyter-widgets/controls",
       "_view_module_version": "1.5.0",
       "_view_name": "ProgressView",
       "bar_style": "success",
       "description": "",
       "description_tooltip": null,
       "layout": "IPY_MODEL_a080f70b4b324d07aff0794e5fe31950",
       "max": 666.0,
       "min": 0.0,
       "orientation": "horizontal",
       "style": "IPY_MODEL_8e78e927938747ef9ee776f33b1c3c1d",
       "value": 666.0
      }
     },
     "5a9871acc74f43fc97625c1d184d3583": {
      "model_module": "@jupyter-widgets/controls",
      "model_module_version": "1.5.0",
      "model_name": "HTMLModel",
      "state": {
       "_dom_classes": [],
       "_model_module": "@jupyter-widgets/controls",
       "_model_module_version": "1.5.0",
       "_model_name": "HTMLModel",
       "_view_count": null,
       "_view_module": "@jupyter-widgets/controls",
       "_view_module_version": "1.5.0",
       "_view_name": "HTMLView",
       "description": "",
       "description_tooltip": null,
       "layout": "IPY_MODEL_505b8df211064bc28ff830a619743930",
       "placeholder": "​",
       "style": "IPY_MODEL_f343909a2ce14f4c91f242952ab60edb",
       "value": " 27.0/27.0 [00:00&lt;00:00, 1.03kB/s]"
      }
     },
     "5e52197ece374888816547bb4b0154ac": {
      "model_module": "@jupyter-widgets/controls",
      "model_module_version": "1.5.0",
      "model_name": "HTMLModel",
      "state": {
       "_dom_classes": [],
       "_model_module": "@jupyter-widgets/controls",
       "_model_module_version": "1.5.0",
       "_model_name": "HTMLModel",
       "_view_count": null,
       "_view_module": "@jupyter-widgets/controls",
       "_view_module_version": "1.5.0",
       "_view_name": "HTMLView",
       "description": "",
       "description_tooltip": null,
       "layout": "IPY_MODEL_ee3f4e168d4441b0a2fc89f2b6c24530",
       "placeholder": "​",
       "style": "IPY_MODEL_786d957e90154423bf79f9e3054d7685",
       "value": "Downloading: 100%"
      }
     },
     "5f40766debe642289f9694e578b069e3": {
      "model_module": "@jupyter-widgets/base",
      "model_module_version": "1.2.0",
      "model_name": "LayoutModel",
      "state": {
       "_model_module": "@jupyter-widgets/base",
       "_model_module_version": "1.2.0",
       "_model_name": "LayoutModel",
       "_view_count": null,
       "_view_module": "@jupyter-widgets/base",
       "_view_module_version": "1.2.0",
       "_view_name": "LayoutView",
       "align_content": null,
       "align_items": null,
       "align_self": null,
       "border": null,
       "bottom": null,
       "display": null,
       "flex": null,
       "flex_flow": null,
       "grid_area": null,
       "grid_auto_columns": null,
       "grid_auto_flow": null,
       "grid_auto_rows": null,
       "grid_column": null,
       "grid_gap": null,
       "grid_row": null,
       "grid_template_areas": null,
       "grid_template_columns": null,
       "grid_template_rows": null,
       "height": null,
       "justify_content": null,
       "justify_items": null,
       "left": null,
       "margin": null,
       "max_height": null,
       "max_width": null,
       "min_height": null,
       "min_width": null,
       "object_fit": null,
       "object_position": null,
       "order": null,
       "overflow": null,
       "overflow_x": null,
       "overflow_y": null,
       "padding": null,
       "right": null,
       "top": null,
       "visibility": null,
       "width": null
      }
     },
     "60ce8bc76e3c48e7badeda2af3a1f7a7": {
      "model_module": "@jupyter-widgets/base",
      "model_module_version": "1.2.0",
      "model_name": "LayoutModel",
      "state": {
       "_model_module": "@jupyter-widgets/base",
       "_model_module_version": "1.2.0",
       "_model_name": "LayoutModel",
       "_view_count": null,
       "_view_module": "@jupyter-widgets/base",
       "_view_module_version": "1.2.0",
       "_view_name": "LayoutView",
       "align_content": null,
       "align_items": null,
       "align_self": null,
       "border": null,
       "bottom": null,
       "display": null,
       "flex": null,
       "flex_flow": null,
       "grid_area": null,
       "grid_auto_columns": null,
       "grid_auto_flow": null,
       "grid_auto_rows": null,
       "grid_column": null,
       "grid_gap": null,
       "grid_row": null,
       "grid_template_areas": null,
       "grid_template_columns": null,
       "grid_template_rows": null,
       "height": null,
       "justify_content": null,
       "justify_items": null,
       "left": null,
       "margin": null,
       "max_height": null,
       "max_width": null,
       "min_height": null,
       "min_width": null,
       "object_fit": null,
       "object_position": null,
       "order": null,
       "overflow": null,
       "overflow_x": null,
       "overflow_y": null,
       "padding": null,
       "right": null,
       "top": null,
       "visibility": null,
       "width": null
      }
     },
     "6b81d7f362334b1cab82849305182358": {
      "model_module": "@jupyter-widgets/controls",
      "model_module_version": "1.5.0",
      "model_name": "DescriptionStyleModel",
      "state": {
       "_model_module": "@jupyter-widgets/controls",
       "_model_module_version": "1.5.0",
       "_model_name": "DescriptionStyleModel",
       "_view_count": null,
       "_view_module": "@jupyter-widgets/base",
       "_view_module_version": "1.2.0",
       "_view_name": "StyleView",
       "description_width": ""
      }
     },
     "6e5862c2a4094e6199e3c2ce51f11da5": {
      "model_module": "@jupyter-widgets/controls",
      "model_module_version": "1.5.0",
      "model_name": "DescriptionStyleModel",
      "state": {
       "_model_module": "@jupyter-widgets/controls",
       "_model_module_version": "1.5.0",
       "_model_name": "DescriptionStyleModel",
       "_view_count": null,
       "_view_module": "@jupyter-widgets/base",
       "_view_module_version": "1.2.0",
       "_view_name": "StyleView",
       "description_width": ""
      }
     },
     "7284a464f9f843d1b9a214741e831b1b": {
      "model_module": "@jupyter-widgets/controls",
      "model_module_version": "1.5.0",
      "model_name": "HTMLModel",
      "state": {
       "_dom_classes": [],
       "_model_module": "@jupyter-widgets/controls",
       "_model_module_version": "1.5.0",
       "_model_name": "HTMLModel",
       "_view_count": null,
       "_view_module": "@jupyter-widgets/controls",
       "_view_module_version": "1.5.0",
       "_view_name": "HTMLView",
       "description": "",
       "description_tooltip": null,
       "layout": "IPY_MODEL_9c524b38c55c4fcaa9f7680c02bd4f67",
       "placeholder": "​",
       "style": "IPY_MODEL_35eeb7bfc5d6486981c3b907e6f831b1",
       "value": " 226k/226k [00:00&lt;00:00, 872kB/s]"
      }
     },
     "786d957e90154423bf79f9e3054d7685": {
      "model_module": "@jupyter-widgets/controls",
      "model_module_version": "1.5.0",
      "model_name": "DescriptionStyleModel",
      "state": {
       "_model_module": "@jupyter-widgets/controls",
       "_model_module_version": "1.5.0",
       "_model_name": "DescriptionStyleModel",
       "_view_count": null,
       "_view_module": "@jupyter-widgets/base",
       "_view_module_version": "1.2.0",
       "_view_name": "StyleView",
       "description_width": ""
      }
     },
     "7a406184978942bb94bb7cc8022f3805": {
      "model_module": "@jupyter-widgets/base",
      "model_module_version": "1.2.0",
      "model_name": "LayoutModel",
      "state": {
       "_model_module": "@jupyter-widgets/base",
       "_model_module_version": "1.2.0",
       "_model_name": "LayoutModel",
       "_view_count": null,
       "_view_module": "@jupyter-widgets/base",
       "_view_module_version": "1.2.0",
       "_view_name": "LayoutView",
       "align_content": null,
       "align_items": null,
       "align_self": null,
       "border": null,
       "bottom": null,
       "display": null,
       "flex": null,
       "flex_flow": null,
       "grid_area": null,
       "grid_auto_columns": null,
       "grid_auto_flow": null,
       "grid_auto_rows": null,
       "grid_column": null,
       "grid_gap": null,
       "grid_row": null,
       "grid_template_areas": null,
       "grid_template_columns": null,
       "grid_template_rows": null,
       "height": null,
       "justify_content": null,
       "justify_items": null,
       "left": null,
       "margin": null,
       "max_height": null,
       "max_width": null,
       "min_height": null,
       "min_width": null,
       "object_fit": null,
       "object_position": null,
       "order": null,
       "overflow": null,
       "overflow_x": null,
       "overflow_y": null,
       "padding": null,
       "right": null,
       "top": null,
       "visibility": null,
       "width": null
      }
     },
     "8da21b133adf4e2392b7c8731c5ab2b4": {
      "model_module": "@jupyter-widgets/controls",
      "model_module_version": "1.5.0",
      "model_name": "HTMLModel",
      "state": {
       "_dom_classes": [],
       "_model_module": "@jupyter-widgets/controls",
       "_model_module_version": "1.5.0",
       "_model_name": "HTMLModel",
       "_view_count": null,
       "_view_module": "@jupyter-widgets/controls",
       "_view_module_version": "1.5.0",
       "_view_name": "HTMLView",
       "description": "",
       "description_tooltip": null,
       "layout": "IPY_MODEL_20a973c4aa7a4d24809b2b428215989d",
       "placeholder": "​",
       "style": "IPY_MODEL_cac5c9ab116b43f7a262dcbdb2125e0b",
       "value": " 418M/418M [00:18&lt;00:00, 25.5MB/s]"
      }
     },
     "8e78e927938747ef9ee776f33b1c3c1d": {
      "model_module": "@jupyter-widgets/controls",
      "model_module_version": "1.5.0",
      "model_name": "ProgressStyleModel",
      "state": {
       "_model_module": "@jupyter-widgets/controls",
       "_model_module_version": "1.5.0",
       "_model_name": "ProgressStyleModel",
       "_view_count": null,
       "_view_module": "@jupyter-widgets/base",
       "_view_module_version": "1.2.0",
       "_view_name": "StyleView",
       "bar_color": null,
       "description_width": ""
      }
     },
     "8f175141aaff441ca1fcc77246f692e9": {
      "model_module": "@jupyter-widgets/controls",
      "model_module_version": "1.5.0",
      "model_name": "HTMLModel",
      "state": {
       "_dom_classes": [],
       "_model_module": "@jupyter-widgets/controls",
       "_model_module_version": "1.5.0",
       "_model_name": "HTMLModel",
       "_view_count": null,
       "_view_module": "@jupyter-widgets/controls",
       "_view_module_version": "1.5.0",
       "_view_name": "HTMLView",
       "description": "",
       "description_tooltip": null,
       "layout": "IPY_MODEL_28d5497a74244a259acfd9a21a623655",
       "placeholder": "​",
       "style": "IPY_MODEL_6b81d7f362334b1cab82849305182358",
       "value": "Downloading: 100%"
      }
     },
     "98ebd312a7fa4f6ca0e0a4f407464e0d": {
      "model_module": "@jupyter-widgets/controls",
      "model_module_version": "1.5.0",
      "model_name": "HTMLModel",
      "state": {
       "_dom_classes": [],
       "_model_module": "@jupyter-widgets/controls",
       "_model_module_version": "1.5.0",
       "_model_name": "HTMLModel",
       "_view_count": null,
       "_view_module": "@jupyter-widgets/controls",
       "_view_module_version": "1.5.0",
       "_view_name": "HTMLView",
       "description": "",
       "description_tooltip": null,
       "layout": "IPY_MODEL_03bf6e37dc0b470088446f300c89fa25",
       "placeholder": "​",
       "style": "IPY_MODEL_ba02100806124bb7b4b33f599b57334b",
       "value": "Downloading: 100%"
      }
     },
     "9c524b38c55c4fcaa9f7680c02bd4f67": {
      "model_module": "@jupyter-widgets/base",
      "model_module_version": "1.2.0",
      "model_name": "LayoutModel",
      "state": {
       "_model_module": "@jupyter-widgets/base",
       "_model_module_version": "1.2.0",
       "_model_name": "LayoutModel",
       "_view_count": null,
       "_view_module": "@jupyter-widgets/base",
       "_view_module_version": "1.2.0",
       "_view_name": "LayoutView",
       "align_content": null,
       "align_items": null,
       "align_self": null,
       "border": null,
       "bottom": null,
       "display": null,
       "flex": null,
       "flex_flow": null,
       "grid_area": null,
       "grid_auto_columns": null,
       "grid_auto_flow": null,
       "grid_auto_rows": null,
       "grid_column": null,
       "grid_gap": null,
       "grid_row": null,
       "grid_template_areas": null,
       "grid_template_columns": null,
       "grid_template_rows": null,
       "height": null,
       "justify_content": null,
       "justify_items": null,
       "left": null,
       "margin": null,
       "max_height": null,
       "max_width": null,
       "min_height": null,
       "min_width": null,
       "object_fit": null,
       "object_position": null,
       "order": null,
       "overflow": null,
       "overflow_x": null,
       "overflow_y": null,
       "padding": null,
       "right": null,
       "top": null,
       "visibility": null,
       "width": null
      }
     },
     "9eb71415356d4c1ab8311d980a192e10": {
      "model_module": "@jupyter-widgets/controls",
      "model_module_version": "1.5.0",
      "model_name": "FloatProgressModel",
      "state": {
       "_dom_classes": [],
       "_model_module": "@jupyter-widgets/controls",
       "_model_module_version": "1.5.0",
       "_model_name": "FloatProgressModel",
       "_view_count": null,
       "_view_module": "@jupyter-widgets/controls",
       "_view_module_version": "1.5.0",
       "_view_name": "ProgressView",
       "bar_style": "success",
       "description": "",
       "description_tooltip": null,
       "layout": "IPY_MODEL_adcbb237fd4742d59286a5beee36e786",
       "max": 27.0,
       "min": 0.0,
       "orientation": "horizontal",
       "style": "IPY_MODEL_00311410fac24349b12e3a49c26f60fa",
       "value": 27.0
      }
     },
     "9fe447dafd824d53a8504ed240e4a5a0": {
      "model_module": "@jupyter-widgets/controls",
      "model_module_version": "1.5.0",
      "model_name": "ProgressStyleModel",
      "state": {
       "_model_module": "@jupyter-widgets/controls",
       "_model_module_version": "1.5.0",
       "_model_name": "ProgressStyleModel",
       "_view_count": null,
       "_view_module": "@jupyter-widgets/base",
       "_view_module_version": "1.2.0",
       "_view_name": "StyleView",
       "bar_color": null,
       "description_width": ""
      }
     },
     "a080f70b4b324d07aff0794e5fe31950": {
      "model_module": "@jupyter-widgets/base",
      "model_module_version": "1.2.0",
      "model_name": "LayoutModel",
      "state": {
       "_model_module": "@jupyter-widgets/base",
       "_model_module_version": "1.2.0",
       "_model_name": "LayoutModel",
       "_view_count": null,
       "_view_module": "@jupyter-widgets/base",
       "_view_module_version": "1.2.0",
       "_view_name": "LayoutView",
       "align_content": null,
       "align_items": null,
       "align_self": null,
       "border": null,
       "bottom": null,
       "display": null,
       "flex": null,
       "flex_flow": null,
       "grid_area": null,
       "grid_auto_columns": null,
       "grid_auto_flow": null,
       "grid_auto_rows": null,
       "grid_column": null,
       "grid_gap": null,
       "grid_row": null,
       "grid_template_areas": null,
       "grid_template_columns": null,
       "grid_template_rows": null,
       "height": null,
       "justify_content": null,
       "justify_items": null,
       "left": null,
       "margin": null,
       "max_height": null,
       "max_width": null,
       "min_height": null,
       "min_width": null,
       "object_fit": null,
       "object_position": null,
       "order": null,
       "overflow": null,
       "overflow_x": null,
       "overflow_y": null,
       "padding": null,
       "right": null,
       "top": null,
       "visibility": null,
       "width": null
      }
     },
     "adcbb237fd4742d59286a5beee36e786": {
      "model_module": "@jupyter-widgets/base",
      "model_module_version": "1.2.0",
      "model_name": "LayoutModel",
      "state": {
       "_model_module": "@jupyter-widgets/base",
       "_model_module_version": "1.2.0",
       "_model_name": "LayoutModel",
       "_view_count": null,
       "_view_module": "@jupyter-widgets/base",
       "_view_module_version": "1.2.0",
       "_view_name": "LayoutView",
       "align_content": null,
       "align_items": null,
       "align_self": null,
       "border": null,
       "bottom": null,
       "display": null,
       "flex": null,
       "flex_flow": null,
       "grid_area": null,
       "grid_auto_columns": null,
       "grid_auto_flow": null,
       "grid_auto_rows": null,
       "grid_column": null,
       "grid_gap": null,
       "grid_row": null,
       "grid_template_areas": null,
       "grid_template_columns": null,
       "grid_template_rows": null,
       "height": null,
       "justify_content": null,
       "justify_items": null,
       "left": null,
       "margin": null,
       "max_height": null,
       "max_width": null,
       "min_height": null,
       "min_width": null,
       "object_fit": null,
       "object_position": null,
       "order": null,
       "overflow": null,
       "overflow_x": null,
       "overflow_y": null,
       "padding": null,
       "right": null,
       "top": null,
       "visibility": null,
       "width": null
      }
     },
     "b013bfb4bc134d1ea7133416d8049cfa": {
      "model_module": "@jupyter-widgets/base",
      "model_module_version": "1.2.0",
      "model_name": "LayoutModel",
      "state": {
       "_model_module": "@jupyter-widgets/base",
       "_model_module_version": "1.2.0",
       "_model_name": "LayoutModel",
       "_view_count": null,
       "_view_module": "@jupyter-widgets/base",
       "_view_module_version": "1.2.0",
       "_view_name": "LayoutView",
       "align_content": null,
       "align_items": null,
       "align_self": null,
       "border": null,
       "bottom": null,
       "display": null,
       "flex": null,
       "flex_flow": null,
       "grid_area": null,
       "grid_auto_columns": null,
       "grid_auto_flow": null,
       "grid_auto_rows": null,
       "grid_column": null,
       "grid_gap": null,
       "grid_row": null,
       "grid_template_areas": null,
       "grid_template_columns": null,
       "grid_template_rows": null,
       "height": null,
       "justify_content": null,
       "justify_items": null,
       "left": null,
       "margin": null,
       "max_height": null,
       "max_width": null,
       "min_height": null,
       "min_width": null,
       "object_fit": null,
       "object_position": null,
       "order": null,
       "overflow": null,
       "overflow_x": null,
       "overflow_y": null,
       "padding": null,
       "right": null,
       "top": null,
       "visibility": null,
       "width": null
      }
     },
     "ba02100806124bb7b4b33f599b57334b": {
      "model_module": "@jupyter-widgets/controls",
      "model_module_version": "1.5.0",
      "model_name": "DescriptionStyleModel",
      "state": {
       "_model_module": "@jupyter-widgets/controls",
       "_model_module_version": "1.5.0",
       "_model_name": "DescriptionStyleModel",
       "_view_count": null,
       "_view_module": "@jupyter-widgets/base",
       "_view_module_version": "1.2.0",
       "_view_name": "StyleView",
       "description_width": ""
      }
     },
     "bd218df2470144d5b03548f33c073785": {
      "model_module": "@jupyter-widgets/base",
      "model_module_version": "1.2.0",
      "model_name": "LayoutModel",
      "state": {
       "_model_module": "@jupyter-widgets/base",
       "_model_module_version": "1.2.0",
       "_model_name": "LayoutModel",
       "_view_count": null,
       "_view_module": "@jupyter-widgets/base",
       "_view_module_version": "1.2.0",
       "_view_name": "LayoutView",
       "align_content": null,
       "align_items": null,
       "align_self": null,
       "border": null,
       "bottom": null,
       "display": null,
       "flex": null,
       "flex_flow": null,
       "grid_area": null,
       "grid_auto_columns": null,
       "grid_auto_flow": null,
       "grid_auto_rows": null,
       "grid_column": null,
       "grid_gap": null,
       "grid_row": null,
       "grid_template_areas": null,
       "grid_template_columns": null,
       "grid_template_rows": null,
       "height": null,
       "justify_content": null,
       "justify_items": null,
       "left": null,
       "margin": null,
       "max_height": null,
       "max_width": null,
       "min_height": null,
       "min_width": null,
       "object_fit": null,
       "object_position": null,
       "order": null,
       "overflow": null,
       "overflow_x": null,
       "overflow_y": null,
       "padding": null,
       "right": null,
       "top": null,
       "visibility": null,
       "width": null
      }
     },
     "c3c509a826a342de847ab7c25efcdc12": {
      "model_module": "@jupyter-widgets/controls",
      "model_module_version": "1.5.0",
      "model_name": "HBoxModel",
      "state": {
       "_dom_classes": [],
       "_model_module": "@jupyter-widgets/controls",
       "_model_module_version": "1.5.0",
       "_model_name": "HBoxModel",
       "_view_count": null,
       "_view_module": "@jupyter-widgets/controls",
       "_view_module_version": "1.5.0",
       "_view_name": "HBoxView",
       "box_style": "",
       "children": [
        "IPY_MODEL_8f175141aaff441ca1fcc77246f692e9",
        "IPY_MODEL_db9db11fee9d43e6a2ec75facf3b0484",
        "IPY_MODEL_8da21b133adf4e2392b7c8731c5ab2b4"
       ],
       "layout": "IPY_MODEL_5f40766debe642289f9694e578b069e3"
      }
     },
     "cac5c9ab116b43f7a262dcbdb2125e0b": {
      "model_module": "@jupyter-widgets/controls",
      "model_module_version": "1.5.0",
      "model_name": "DescriptionStyleModel",
      "state": {
       "_model_module": "@jupyter-widgets/controls",
       "_model_module_version": "1.5.0",
       "_model_name": "DescriptionStyleModel",
       "_view_count": null,
       "_view_module": "@jupyter-widgets/base",
       "_view_module_version": "1.2.0",
       "_view_name": "StyleView",
       "description_width": ""
      }
     },
     "d3ca532b899543fba0f6b563e1114152": {
      "model_module": "@jupyter-widgets/controls",
      "model_module_version": "1.5.0",
      "model_name": "HBoxModel",
      "state": {
       "_dom_classes": [],
       "_model_module": "@jupyter-widgets/controls",
       "_model_module_version": "1.5.0",
       "_model_name": "HBoxModel",
       "_view_count": null,
       "_view_module": "@jupyter-widgets/controls",
       "_view_module_version": "1.5.0",
       "_view_name": "HBoxView",
       "box_style": "",
       "children": [
        "IPY_MODEL_5e52197ece374888816547bb4b0154ac",
        "IPY_MODEL_578a52273582463eb51d5ef6a408f74c",
        "IPY_MODEL_16bad968b893440a87bf90796e74afa4"
       ],
       "layout": "IPY_MODEL_b013bfb4bc134d1ea7133416d8049cfa"
      }
     },
     "d825066399854a078ed8c30543f9a8d9": {
      "model_module": "@jupyter-widgets/controls",
      "model_module_version": "1.5.0",
      "model_name": "HTMLModel",
      "state": {
       "_dom_classes": [],
       "_model_module": "@jupyter-widgets/controls",
       "_model_module_version": "1.5.0",
       "_model_name": "HTMLModel",
       "_view_count": null,
       "_view_module": "@jupyter-widgets/controls",
       "_view_module_version": "1.5.0",
       "_view_name": "HTMLView",
       "description": "",
       "description_tooltip": null,
       "layout": "IPY_MODEL_bd218df2470144d5b03548f33c073785",
       "placeholder": "​",
       "style": "IPY_MODEL_6e5862c2a4094e6199e3c2ce51f11da5",
       "value": "Downloading: 100%"
      }
     },
     "d94f3846e3ad49b6b50e073e74cc9cd0": {
      "model_module": "@jupyter-widgets/controls",
      "model_module_version": "1.5.0",
      "model_name": "DescriptionStyleModel",
      "state": {
       "_model_module": "@jupyter-widgets/controls",
       "_model_module_version": "1.5.0",
       "_model_name": "DescriptionStyleModel",
       "_view_count": null,
       "_view_module": "@jupyter-widgets/base",
       "_view_module_version": "1.2.0",
       "_view_name": "StyleView",
       "description_width": ""
      }
     },
     "db17e2c2e48f44cf910a6b89180c9459": {
      "model_module": "@jupyter-widgets/controls",
      "model_module_version": "1.5.0",
      "model_name": "HBoxModel",
      "state": {
       "_dom_classes": [],
       "_model_module": "@jupyter-widgets/controls",
       "_model_module_version": "1.5.0",
       "_model_name": "HBoxModel",
       "_view_count": null,
       "_view_module": "@jupyter-widgets/controls",
       "_view_module_version": "1.5.0",
       "_view_name": "HBoxView",
       "box_style": "",
       "children": [
        "IPY_MODEL_98ebd312a7fa4f6ca0e0a4f407464e0d",
        "IPY_MODEL_9eb71415356d4c1ab8311d980a192e10",
        "IPY_MODEL_5a9871acc74f43fc97625c1d184d3583"
       ],
       "layout": "IPY_MODEL_421c67c037d84ff3b67b645740735031"
      }
     },
     "db9db11fee9d43e6a2ec75facf3b0484": {
      "model_module": "@jupyter-widgets/controls",
      "model_module_version": "1.5.0",
      "model_name": "FloatProgressModel",
      "state": {
       "_dom_classes": [],
       "_model_module": "@jupyter-widgets/controls",
       "_model_module_version": "1.5.0",
       "_model_name": "FloatProgressModel",
       "_view_count": null,
       "_view_module": "@jupyter-widgets/controls",
       "_view_module_version": "1.5.0",
       "_view_name": "ProgressView",
       "bar_style": "success",
       "description": "",
       "description_tooltip": null,
       "layout": "IPY_MODEL_2d8603b92767453997c3609ecfee36bb",
       "max": 438200172.0,
       "min": 0.0,
       "orientation": "horizontal",
       "style": "IPY_MODEL_9fe447dafd824d53a8504ed240e4a5a0",
       "value": 438200172.0
      }
     },
     "dd12243eee3d4a26b1fd0ede7aa5fd87": {
      "model_module": "@jupyter-widgets/controls",
      "model_module_version": "1.5.0",
      "model_name": "FloatProgressModel",
      "state": {
       "_dom_classes": [],
       "_model_module": "@jupyter-widgets/controls",
       "_model_module_version": "1.5.0",
       "_model_name": "FloatProgressModel",
       "_view_count": null,
       "_view_module": "@jupyter-widgets/controls",
       "_view_module_version": "1.5.0",
       "_view_name": "ProgressView",
       "bar_style": "success",
       "description": "",
       "description_tooltip": null,
       "layout": "IPY_MODEL_60ce8bc76e3c48e7badeda2af3a1f7a7",
       "max": 231508.0,
       "min": 0.0,
       "orientation": "horizontal",
       "style": "IPY_MODEL_434b4a1abe614c38ae2920cdb9da9e21",
       "value": 231508.0
      }
     },
     "ee3f4e168d4441b0a2fc89f2b6c24530": {
      "model_module": "@jupyter-widgets/base",
      "model_module_version": "1.2.0",
      "model_name": "LayoutModel",
      "state": {
       "_model_module": "@jupyter-widgets/base",
       "_model_module_version": "1.2.0",
       "_model_name": "LayoutModel",
       "_view_count": null,
       "_view_module": "@jupyter-widgets/base",
       "_view_module_version": "1.2.0",
       "_view_name": "LayoutView",
       "align_content": null,
       "align_items": null,
       "align_self": null,
       "border": null,
       "bottom": null,
       "display": null,
       "flex": null,
       "flex_flow": null,
       "grid_area": null,
       "grid_auto_columns": null,
       "grid_auto_flow": null,
       "grid_auto_rows": null,
       "grid_column": null,
       "grid_gap": null,
       "grid_row": null,
       "grid_template_areas": null,
       "grid_template_columns": null,
       "grid_template_rows": null,
       "height": null,
       "justify_content": null,
       "justify_items": null,
       "left": null,
       "margin": null,
       "max_height": null,
       "max_width": null,
       "min_height": null,
       "min_width": null,
       "object_fit": null,
       "object_position": null,
       "order": null,
       "overflow": null,
       "overflow_x": null,
       "overflow_y": null,
       "padding": null,
       "right": null,
       "top": null,
       "visibility": null,
       "width": null
      }
     },
     "f343909a2ce14f4c91f242952ab60edb": {
      "model_module": "@jupyter-widgets/controls",
      "model_module_version": "1.5.0",
      "model_name": "DescriptionStyleModel",
      "state": {
       "_model_module": "@jupyter-widgets/controls",
       "_model_module_version": "1.5.0",
       "_model_name": "DescriptionStyleModel",
       "_view_count": null,
       "_view_module": "@jupyter-widgets/base",
       "_view_module_version": "1.2.0",
       "_view_name": "StyleView",
       "description_width": ""
      }
     }
    },
    "version_major": 2,
    "version_minor": 0
   }
  }
 },
 "nbformat": 4,
 "nbformat_minor": 5
}
