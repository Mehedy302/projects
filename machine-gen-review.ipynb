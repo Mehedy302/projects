{
 "cells": [
  {
   "cell_type": "code",
   "execution_count": 1,
   "id": "10103406",
   "metadata": {
    "_cell_guid": "18faa3e8-3c31-456a-9552-6e6e0d249314",
    "_uuid": "2669706c-ede8-4f47-94ee-949885ee368b",
    "collapsed": false,
    "execution": {
     "iopub.execute_input": "2022-09-07T11:32:29.863024Z",
     "iopub.status.busy": "2022-09-07T11:32:29.862076Z",
     "iopub.status.idle": "2022-09-07T11:32:43.703993Z",
     "shell.execute_reply": "2022-09-07T11:32:43.702871Z"
    },
    "jupyter": {
     "outputs_hidden": false
    },
    "papermill": {
     "duration": 13.858513,
     "end_time": "2022-09-07T11:32:43.707491",
     "exception": false,
     "start_time": "2022-09-07T11:32:29.848978",
     "status": "completed"
    },
    "tags": []
   },
   "outputs": [
    {
     "name": "stderr",
     "output_type": "stream",
     "text": [
      "2022-09-07 11:32:38.206193: I tensorflow/stream_executor/cuda/cuda_gpu_executor.cc:937] successful NUMA node read from SysFS had negative value (-1), but there must be at least one NUMA node, so returning NUMA node zero\n",
      "2022-09-07 11:32:38.207378: I tensorflow/stream_executor/cuda/cuda_gpu_executor.cc:937] successful NUMA node read from SysFS had negative value (-1), but there must be at least one NUMA node, so returning NUMA node zero\n",
      "2022-09-07 11:32:38.208101: I tensorflow/stream_executor/cuda/cuda_gpu_executor.cc:937] successful NUMA node read from SysFS had negative value (-1), but there must be at least one NUMA node, so returning NUMA node zero\n",
      "2022-09-07 11:32:38.210019: I tensorflow/core/platform/cpu_feature_guard.cc:142] This TensorFlow binary is optimized with oneAPI Deep Neural Network Library (oneDNN) to use the following CPU instructions in performance-critical operations:  AVX2 AVX512F FMA\n",
      "To enable them in other operations, rebuild TensorFlow with the appropriate compiler flags.\n",
      "2022-09-07 11:32:38.210357: I tensorflow/stream_executor/cuda/cuda_gpu_executor.cc:937] successful NUMA node read from SysFS had negative value (-1), but there must be at least one NUMA node, so returning NUMA node zero\n",
      "2022-09-07 11:32:38.211125: I tensorflow/stream_executor/cuda/cuda_gpu_executor.cc:937] successful NUMA node read from SysFS had negative value (-1), but there must be at least one NUMA node, so returning NUMA node zero\n",
      "2022-09-07 11:32:38.211900: I tensorflow/stream_executor/cuda/cuda_gpu_executor.cc:937] successful NUMA node read from SysFS had negative value (-1), but there must be at least one NUMA node, so returning NUMA node zero\n",
      "2022-09-07 11:32:43.318816: I tensorflow/stream_executor/cuda/cuda_gpu_executor.cc:937] successful NUMA node read from SysFS had negative value (-1), but there must be at least one NUMA node, so returning NUMA node zero\n",
      "2022-09-07 11:32:43.319655: I tensorflow/stream_executor/cuda/cuda_gpu_executor.cc:937] successful NUMA node read from SysFS had negative value (-1), but there must be at least one NUMA node, so returning NUMA node zero\n",
      "2022-09-07 11:32:43.320337: I tensorflow/stream_executor/cuda/cuda_gpu_executor.cc:937] successful NUMA node read from SysFS had negative value (-1), but there must be at least one NUMA node, so returning NUMA node zero\n",
      "2022-09-07 11:32:43.320984: I tensorflow/core/common_runtime/gpu/gpu_device.cc:1510] Created device /job:localhost/replica:0/task:0/device:GPU:0 with 15047 MB memory:  -> device: 0, name: Tesla P100-PCIE-16GB, pci bus id: 0000:00:04.0, compute capability: 6.0\n"
     ]
    }
   ],
   "source": [
    "import numpy as np\n",
    "import regex as re\n",
    "import pandas as pd\n",
    "import matplotlib.pyplot as plt\n",
    "import seaborn as sns\n",
    "import statistics\n",
    "import math\n",
    "import os\n",
    "\n",
    "from sklearn.model_selection import StratifiedKFold\n",
    "from sklearn.metrics import accuracy_score\n",
    "from sklearn.model_selection import train_test_split\n",
    "\n",
    "import tensorflow as tf\n",
    "import tensorflow.keras.backend as K\n",
    "import tokenizers\n",
    "from transformers import RobertaTokenizer, TFRobertaModel\n",
    "\n",
    "from collections import Counter\n",
    "\n",
    "import warnings\n",
    "warnings.filterwarnings(\"ignore\")"
   ]
  },
  {
   "cell_type": "code",
   "execution_count": null,
   "id": "1ce2b8c0",
   "metadata": {
    "_cell_guid": "3298c015-53d6-4c31-a3a7-82dfd8fd089a",
    "_uuid": "f6241621-6edb-472b-b1cc-9ba61d869203",
    "collapsed": false,
    "jupyter": {
     "outputs_hidden": false
    },
    "papermill": {
     "duration": 0.010062,
     "end_time": "2022-09-07T11:32:43.727937",
     "exception": false,
     "start_time": "2022-09-07T11:32:43.717875",
     "status": "completed"
    },
    "tags": []
   },
   "outputs": [],
   "source": []
  },
  {
   "cell_type": "code",
   "execution_count": null,
   "id": "e5446b37",
   "metadata": {
    "_cell_guid": "a179429e-0c9e-47a8-8f12-4c7e767b89c4",
    "_uuid": "86a32900-2b3f-4c26-950e-d1f32e638077",
    "collapsed": false,
    "jupyter": {
     "outputs_hidden": false
    },
    "papermill": {
     "duration": 0.011794,
     "end_time": "2022-09-07T11:32:43.750265",
     "exception": false,
     "start_time": "2022-09-07T11:32:43.738471",
     "status": "completed"
    },
    "tags": []
   },
   "outputs": [],
   "source": []
  },
  {
   "cell_type": "code",
   "execution_count": 2,
   "id": "ee88e257",
   "metadata": {
    "_cell_guid": "6079a55c-413a-4fb7-b33f-7c65386c40c3",
    "_uuid": "246f7e2e-2956-4fb8-b9ef-71b0ceec4ef0",
    "collapsed": false,
    "execution": {
     "iopub.execute_input": "2022-09-07T11:32:43.771981Z",
     "iopub.status.busy": "2022-09-07T11:32:43.771308Z",
     "iopub.status.idle": "2022-09-07T11:32:43.778098Z",
     "shell.execute_reply": "2022-09-07T11:32:43.777173Z"
    },
    "jupyter": {
     "outputs_hidden": false
    },
    "papermill": {
     "duration": 0.020027,
     "end_time": "2022-09-07T11:32:43.780234",
     "exception": false,
     "start_time": "2022-09-07T11:32:43.760207",
     "status": "completed"
    },
    "tags": []
   },
   "outputs": [
    {
     "name": "stdout",
     "output_type": "stream",
     "text": [
      "Number of replicas: 1\n"
     ]
    }
   ],
   "source": [
    "try:\n",
    "    \n",
    "    tpu = tf.distribute.cluster_resolver.TPUClusterResolver()\n",
    "    tf.config.experimental_connect_to_cluster(tpu)\n",
    "    tf.tpu.experimental.initialize_tpu_system(tpu)\n",
    "    strategy = tf.distribute.experimental.TPUStrategy(tpu)\n",
    "    print('Running on TPU ', tpu.master())\n",
    "except ValueError:\n",
    "    \n",
    "    strategy = tf.distribute.get_strategy()\n",
    "\n",
    "print('Number of replicas:', strategy.num_replicas_in_sync)"
   ]
  },
  {
   "cell_type": "code",
   "execution_count": 3,
   "id": "8a2c5985",
   "metadata": {
    "_cell_guid": "b37d72bb-a10e-435a-9247-e4e1de83dfa7",
    "_uuid": "2848a7b1-aa8b-4502-bfac-ff239c34f9fb",
    "collapsed": false,
    "execution": {
     "iopub.execute_input": "2022-09-07T11:32:43.801880Z",
     "iopub.status.busy": "2022-09-07T11:32:43.801304Z",
     "iopub.status.idle": "2022-09-07T11:32:43.807445Z",
     "shell.execute_reply": "2022-09-07T11:32:43.806604Z"
    },
    "jupyter": {
     "outputs_hidden": false
    },
    "papermill": {
     "duration": 0.019215,
     "end_time": "2022-09-07T11:32:43.809506",
     "exception": false,
     "start_time": "2022-09-07T11:32:43.790291",
     "status": "completed"
    },
    "tags": []
   },
   "outputs": [],
   "source": [
    "MODEL_NAME = 'roberta-base'\n",
    "MAX_LEN = 256\n",
    "ARTIFACTS_PATH = '../artifacts/'\n",
    "\n",
    "BATCH_SIZE = 8 * strategy.num_replicas_in_sync\n",
    "EPOCHS = 3\n",
    "\n",
    "if not os.path.exists(ARTIFACTS_PATH):\n",
    "    os.makedirs(ARTIFACTS_PATH)"
   ]
  },
  {
   "cell_type": "code",
   "execution_count": 4,
   "id": "f73c4b34",
   "metadata": {
    "_cell_guid": "fbe624d8-5405-498b-b578-1a536325ede2",
    "_uuid": "7a44be5e-e84b-48a5-aeaa-24a4f6f6b2fc",
    "collapsed": false,
    "execution": {
     "iopub.execute_input": "2022-09-07T11:32:43.831630Z",
     "iopub.status.busy": "2022-09-07T11:32:43.831250Z",
     "iopub.status.idle": "2022-09-07T11:32:43.839749Z",
     "shell.execute_reply": "2022-09-07T11:32:43.838705Z"
    },
    "jupyter": {
     "outputs_hidden": false
    },
    "papermill": {
     "duration": 0.022352,
     "end_time": "2022-09-07T11:32:43.842126",
     "exception": false,
     "start_time": "2022-09-07T11:32:43.819774",
     "status": "completed"
    },
    "tags": []
   },
   "outputs": [
    {
     "data": {
      "text/plain": [
       "['gcp.py']"
      ]
     },
     "execution_count": 4,
     "metadata": {},
     "output_type": "execute_result"
    }
   ],
   "source": [
    "import os\n",
    "os.listdir('/kaggle/lib/kaggle')"
   ]
  },
  {
   "cell_type": "code",
   "execution_count": 5,
   "id": "3476c6be",
   "metadata": {
    "_cell_guid": "110f6650-6704-4173-9aea-da64f58b1686",
    "_uuid": "63371f6a-9d34-4fad-9dfe-0c7e6668d3f1",
    "collapsed": false,
    "execution": {
     "iopub.execute_input": "2022-09-07T11:32:43.863975Z",
     "iopub.status.busy": "2022-09-07T11:32:43.863701Z",
     "iopub.status.idle": "2022-09-07T11:32:43.899418Z",
     "shell.execute_reply": "2022-09-07T11:32:43.898551Z"
    },
    "jupyter": {
     "outputs_hidden": false
    },
    "papermill": {
     "duration": 0.048587,
     "end_time": "2022-09-07T11:32:43.901328",
     "exception": false,
     "start_time": "2022-09-07T11:32:43.852741",
     "status": "completed"
    },
    "tags": []
   },
   "outputs": [
    {
     "data": {
      "text/html": [
       "<div>\n",
       "<style scoped>\n",
       "    .dataframe tbody tr th:only-of-type {\n",
       "        vertical-align: middle;\n",
       "    }\n",
       "\n",
       "    .dataframe tbody tr th {\n",
       "        vertical-align: top;\n",
       "    }\n",
       "\n",
       "    .dataframe thead th {\n",
       "        text-align: right;\n",
       "    }\n",
       "</style>\n",
       "<table border=\"1\" class=\"dataframe\">\n",
       "  <thead>\n",
       "    <tr style=\"text-align: right;\">\n",
       "      <th></th>\n",
       "      <th>review</th>\n",
       "      <th>auto_gen_label</th>\n",
       "    </tr>\n",
       "  </thead>\n",
       "  <tbody>\n",
       "    <tr>\n",
       "      <th>0</th>\n",
       "      <td>the best sound track. I have even given my ga...</td>\n",
       "      <td>Positive</td>\n",
       "    </tr>\n",
       "    <tr>\n",
       "      <th>1</th>\n",
       "      <td>and will never grow old. Every time I listen ...</td>\n",
       "      <td>Positive</td>\n",
       "    </tr>\n",
       "    <tr>\n",
       "      <th>2</th>\n",
       "      <td>part of my soundtrack for years. I was so hap...</td>\n",
       "      <td>Positive</td>\n",
       "    </tr>\n",
       "    <tr>\n",
       "      <th>3</th>\n",
       "      <td>NaN</td>\n",
       "      <td>Positive</td>\n",
       "    </tr>\n",
       "    <tr>\n",
       "      <th>4</th>\n",
       "      <td>amphase, and Goliath's Roar. The atmosphere of...</td>\n",
       "      <td>Positive</td>\n",
       "    </tr>\n",
       "  </tbody>\n",
       "</table>\n",
       "</div>"
      ],
      "text/plain": [
       "                                              review  auto_gen_label\n",
       "0   the best sound track. I have even given my ga...        Positive\n",
       "1   and will never grow old. Every time I listen ...        Positive\n",
       "2   part of my soundtrack for years. I was so hap...        Positive\n",
       "3                                                NaN        Positive\n",
       "4  amphase, and Goliath's Roar. The atmosphere of...        Positive"
      ]
     },
     "execution_count": 5,
     "metadata": {},
     "output_type": "execute_result"
    }
   ],
   "source": [
    "df = pd.read_csv('/kaggle/input/machinegenv2/train_auto_gen.csv')\n",
    "df.head()"
   ]
  },
  {
   "cell_type": "code",
   "execution_count": 6,
   "id": "35270f19",
   "metadata": {
    "_cell_guid": "09d4ce9d-5be7-49a2-9b81-a2114b67c8a5",
    "_uuid": "f1f7832e-1438-43ae-9a02-f6a5cf317a79",
    "collapsed": false,
    "execution": {
     "iopub.execute_input": "2022-09-07T11:32:43.925500Z",
     "iopub.status.busy": "2022-09-07T11:32:43.923956Z",
     "iopub.status.idle": "2022-09-07T11:32:43.931787Z",
     "shell.execute_reply": "2022-09-07T11:32:43.930909Z"
    },
    "jupyter": {
     "outputs_hidden": false
    },
    "papermill": {
     "duration": 0.021997,
     "end_time": "2022-09-07T11:32:43.933997",
     "exception": false,
     "start_time": "2022-09-07T11:32:43.912000",
     "status": "completed"
    },
    "tags": []
   },
   "outputs": [],
   "source": [
    "df = df.dropna()"
   ]
  },
  {
   "cell_type": "code",
   "execution_count": 7,
   "id": "dfa5bd91",
   "metadata": {
    "_cell_guid": "95cebbae-2317-492a-a287-4167f54fdebf",
    "_uuid": "80e5b372-4f06-4b89-b5d7-9f204551cd47",
    "collapsed": false,
    "execution": {
     "iopub.execute_input": "2022-09-07T11:32:43.964303Z",
     "iopub.status.busy": "2022-09-07T11:32:43.964017Z",
     "iopub.status.idle": "2022-09-07T11:32:43.976651Z",
     "shell.execute_reply": "2022-09-07T11:32:43.975123Z"
    },
    "jupyter": {
     "outputs_hidden": false
    },
    "papermill": {
     "duration": 0.03586,
     "end_time": "2022-09-07T11:32:43.980319",
     "exception": false,
     "start_time": "2022-09-07T11:32:43.944459",
     "status": "completed"
    },
    "tags": []
   },
   "outputs": [
    {
     "name": "stdout",
     "output_type": "stream",
     "text": [
      "                                                review  auto_gen_label\n",
      "0     the best sound track. I have even given my ga...        Positive\n",
      "1     and will never grow old. Every time I listen ...        Positive\n",
      "2     part of my soundtrack for years. I was so hap...        Positive\n",
      "4    amphase, and Goliath's Roar. The atmosphere of...        Positive\n",
      "5    akings of the game. It's not the best RPG ever...        Positive\n",
      "..                                                 ...             ...\n",
      "994                                                  i        Positive\n",
      "995  Poor quality: I purchased this item to wear po...        Negative\n",
      "997  Squeem Perfect Waist, Firm compression: I'm a ...        Negative\n",
      "998   waist. It is comfortable, but it does not hav...        Positive\n",
      "999  Not the best shaper: This would be great if it...        Negative\n",
      "\n",
      "[901 rows x 2 columns]\n"
     ]
    }
   ],
   "source": [
    "print(df)"
   ]
  },
  {
   "cell_type": "code",
   "execution_count": 8,
   "id": "410f1be6",
   "metadata": {
    "_cell_guid": "63f5e429-9f43-4e60-b103-fb648f2931a2",
    "_uuid": "7c194d3c-3cef-4ec7-8b02-b211e16b0c79",
    "collapsed": false,
    "execution": {
     "iopub.execute_input": "2022-09-07T11:32:44.033468Z",
     "iopub.status.busy": "2022-09-07T11:32:44.033160Z",
     "iopub.status.idle": "2022-09-07T11:32:44.048698Z",
     "shell.execute_reply": "2022-09-07T11:32:44.047004Z"
    },
    "jupyter": {
     "outputs_hidden": false
    },
    "papermill": {
     "duration": 0.046073,
     "end_time": "2022-09-07T11:32:44.052139",
     "exception": false,
     "start_time": "2022-09-07T11:32:44.006066",
     "status": "completed"
    },
    "tags": []
   },
   "outputs": [
    {
     "name": "stdout",
     "output_type": "stream",
     "text": [
      "0       the best sound track. I have even given my ga...\n",
      "1       and will never grow old. Every time I listen ...\n",
      "2       part of my soundtrack for years. I was so hap...\n",
      "4      amphase, and Goliath's Roar. The atmosphere of...\n",
      "5      akings of the game. It's not the best RPG ever...\n",
      "                             ...                        \n",
      "994                                                    i\n",
      "995    Poor quality: I purchased this item to wear po...\n",
      "997    Squeem Perfect Waist, Firm compression: I'm a ...\n",
      "998     waist. It is comfortable, but it does not hav...\n",
      "999    Not the best shaper: This would be great if it...\n",
      "Name:  review, Length: 901, dtype: object\n"
     ]
    }
   ],
   "source": [
    "print(df[' review'])"
   ]
  },
  {
   "cell_type": "code",
   "execution_count": 9,
   "id": "7bc9e759",
   "metadata": {
    "_cell_guid": "89115756-fed6-4863-9aac-eb94d0bb5ee5",
    "_uuid": "d7b14498-75f9-4965-a0eb-46bf0ba3525c",
    "collapsed": false,
    "execution": {
     "iopub.execute_input": "2022-09-07T11:32:44.074507Z",
     "iopub.status.busy": "2022-09-07T11:32:44.074222Z",
     "iopub.status.idle": "2022-09-07T11:32:44.081569Z",
     "shell.execute_reply": "2022-09-07T11:32:44.080623Z"
    },
    "jupyter": {
     "outputs_hidden": false
    },
    "papermill": {
     "duration": 0.02064,
     "end_time": "2022-09-07T11:32:44.083505",
     "exception": false,
     "start_time": "2022-09-07T11:32:44.062865",
     "status": "completed"
    },
    "tags": []
   },
   "outputs": [],
   "source": [
    "X_data = df[[' review']].to_numpy().reshape(-1)\n",
    "y_data = df[[' auto_gen_label']].to_numpy().reshape(-1)"
   ]
  },
  {
   "cell_type": "code",
   "execution_count": 10,
   "id": "d7576210",
   "metadata": {
    "_cell_guid": "26e853ca-7297-4334-b363-70ac74f146db",
    "_uuid": "0cdbc4e1-2d57-43db-ac59-6c62672e8bc9",
    "collapsed": false,
    "execution": {
     "iopub.execute_input": "2022-09-07T11:32:44.105787Z",
     "iopub.status.busy": "2022-09-07T11:32:44.105491Z",
     "iopub.status.idle": "2022-09-07T11:32:44.304708Z",
     "shell.execute_reply": "2022-09-07T11:32:44.303603Z"
    },
    "jupyter": {
     "outputs_hidden": false
    },
    "papermill": {
     "duration": 0.212504,
     "end_time": "2022-09-07T11:32:44.306696",
     "exception": false,
     "start_time": "2022-09-07T11:32:44.094192",
     "status": "completed"
    },
    "tags": []
   },
   "outputs": [
    {
     "data": {
      "image/png": "[encoded data removed]",
      "text/plain": [
       "<Figure size 720x360 with 1 Axes>"
      ]
     },
     "metadata": {
      "needs_background": "light"
     },
     "output_type": "display_data"
    },
    {
     "name": "stdout",
     "output_type": "stream",
     "text": [
      "Counter({'Positive': 501, 'Negative': 400})\n"
     ]
    }
   ],
   "source": [
    "categories = df[[' auto_gen_label']].values.reshape(-1)\n",
    "\n",
    "counter_categories = Counter(categories)\n",
    "category_names = counter_categories.keys()\n",
    "category_values = counter_categories.values()\n",
    "\n",
    "y_pos = np.arange(len(category_names))\n",
    "\n",
    "plt.figure(1, figsize=(10, 5))\n",
    "plt.bar(y_pos, category_values, align='center', alpha=0.5)\n",
    "plt.xticks(y_pos, category_names)\n",
    "plt.ylabel('Number of review')\n",
    "plt.title('Distribution of review per auto_gen_label')\n",
    "plt.gca().yaxis.grid(True)\n",
    "plt.show()\n",
    "\n",
    "print(counter_categories)"
   ]
  },
  {
   "cell_type": "code",
   "execution_count": 11,
   "id": "3da7043f",
   "metadata": {
    "_cell_guid": "f3920df3-9480-48c9-87d0-dcdabcc79565",
    "_uuid": "8e47e002-9a18-4401-8521-f8a63f0a567f",
    "collapsed": false,
    "execution": {
     "iopub.execute_input": "2022-09-07T11:32:44.329662Z",
     "iopub.status.busy": "2022-09-07T11:32:44.329352Z",
     "iopub.status.idle": "2022-09-07T11:32:44.341068Z",
     "shell.execute_reply": "2022-09-07T11:32:44.340126Z"
    },
    "jupyter": {
     "outputs_hidden": false
    },
    "papermill": {
     "duration": 0.025504,
     "end_time": "2022-09-07T11:32:44.343123",
     "exception": false,
     "start_time": "2022-09-07T11:32:44.317619",
     "status": "completed"
    },
    "tags": []
   },
   "outputs": [],
   "source": [
    "def calculate_stats(df, split_char=' '):\n",
    "    categories = df[' auto_gen_label'].unique()\n",
    "    \n",
    "    all_lengths = []\n",
    "    per_category = {\n",
    "        'lengths': {c:[] for c in categories},\n",
    "        'mean': {c:0 for c in categories},\n",
    "        'stdev': {c:0 for c in categories}\n",
    "    }\n",
    "\n",
    "    for index, row in df.iterrows():\n",
    "        text = row[' review']\n",
    "        text = re.sub(r\"\\s+\", ' ', text) # Normalize\n",
    "        text = text.split(split_char)\n",
    "        l = len(text)\n",
    "        \n",
    "        category = row[' auto_gen_label']\n",
    "        \n",
    "        all_lengths.append(l)\n",
    "        per_category['lengths'][category].append(l)\n",
    "    \n",
    "    for c in categories:\n",
    "        per_category['mean'][c] = statistics.mean(per_category['lengths'][c])\n",
    "        per_category['stdev'][c] = statistics.stdev(per_category['lengths'][c])\n",
    "    \n",
    "    global_stats = {\n",
    "        'mean': statistics.mean(all_lengths),\n",
    "        'stdev': statistics.stdev(all_lengths),\n",
    "        'lengths': all_lengths\n",
    "    }\n",
    "    \n",
    "    return {\n",
    "        'global': global_stats,\n",
    "        'per_category': pd.DataFrame(per_category)\n",
    "    }\n",
    "\n",
    "\n",
    "def display_lengths_histograms(df_stats, n_cols=3):\n",
    "    categories = df[' auto_gen_label'].unique()\n",
    "    n_rows = math.ceil(len(categories) / n_cols)\n",
    "    \n",
    "    plt.figure(figsize=(15, 8))\n",
    "    plt.suptitle('Distribution of lengths')\n",
    "    \n",
    "    # Subplot of all lengths\n",
    "    plt.subplot(n_rows, n_cols, 1)\n",
    "    plt.title('All categories')\n",
    "    lengths = df_stats['global']['lengths']\n",
    "    plt.hist(lengths, color='r')\n",
    "\n",
    "    # Subplot of each category\n",
    "    index_subplot = 2\n",
    "    for c in categories:\n",
    "        plt.subplot(n_rows, n_cols, index_subplot)\n",
    "        plt.title('Category: %s' % c)\n",
    "        \n",
    "        lengths = df_stats['per_category']['lengths'][c]\n",
    "        plt.hist(lengths, color='b')\n",
    "\n",
    "        index_subplot += 1\n",
    "\n",
    "    plt.show()"
   ]
  },
  {
   "cell_type": "code",
   "execution_count": 12,
   "id": "237dd9ed",
   "metadata": {
    "_cell_guid": "6a34ce30-a141-4af9-bad8-24b565de75ec",
    "_uuid": "edf956cd-9cf1-4fc1-b76e-ee3e4ef7666d",
    "collapsed": false,
    "execution": {
     "iopub.execute_input": "2022-09-07T11:32:44.366061Z",
     "iopub.status.busy": "2022-09-07T11:32:44.365776Z",
     "iopub.status.idle": "2022-09-07T11:32:44.473175Z",
     "shell.execute_reply": "2022-09-07T11:32:44.471882Z"
    },
    "jupyter": {
     "outputs_hidden": false
    },
    "papermill": {
     "duration": 0.121965,
     "end_time": "2022-09-07T11:32:44.476064",
     "exception": false,
     "start_time": "2022-09-07T11:32:44.354099",
     "status": "completed"
    },
    "tags": []
   },
   "outputs": [
    {
     "data": {
      "text/html": [
       "<div>\n",
       "<style scoped>\n",
       "    .dataframe tbody tr th:only-of-type {\n",
       "        vertical-align: middle;\n",
       "    }\n",
       "\n",
       "    .dataframe tbody tr th {\n",
       "        vertical-align: top;\n",
       "    }\n",
       "\n",
       "    .dataframe thead th {\n",
       "        text-align: right;\n",
       "    }\n",
       "</style>\n",
       "<table border=\"1\" class=\"dataframe\">\n",
       "  <thead>\n",
       "    <tr style=\"text-align: right;\">\n",
       "      <th></th>\n",
       "      <th>lengths</th>\n",
       "      <th>mean</th>\n",
       "      <th>stdev</th>\n",
       "    </tr>\n",
       "  </thead>\n",
       "  <tbody>\n",
       "    <tr>\n",
       "      <th>Positive</th>\n",
       "      <td>[153, 72, 40, 53, 140, 199, 56, 71, 26, 10, 29...</td>\n",
       "      <td>105.590818</td>\n",
       "      <td>73.366820</td>\n",
       "    </tr>\n",
       "    <tr>\n",
       "      <th>Negative</th>\n",
       "      <td>[116, 100, 87, 114, 20, 36, 40, 64, 98, 62, 56...</td>\n",
       "      <td>80.490000</td>\n",
       "      <td>37.333959</td>\n",
       "    </tr>\n",
       "  </tbody>\n",
       "</table>\n",
       "</div>"
      ],
      "text/plain": [
       "                                                    lengths        mean  \\\n",
       "Positive  [153, 72, 40, 53, 140, 199, 56, 71, 26, 10, 29...  105.590818   \n",
       "Negative  [116, 100, 87, 114, 20, 36, 40, 64, 98, 62, 56...   80.490000   \n",
       "\n",
       "              stdev  \n",
       "Positive  73.366820  \n",
       "Negative  37.333959  "
      ]
     },
     "execution_count": 12,
     "metadata": {},
     "output_type": "execute_result"
    }
   ],
   "source": [
    "df_stats = calculate_stats(df)\n",
    "df_stats['per_category']"
   ]
  },
  {
   "cell_type": "code",
   "execution_count": 13,
   "id": "e3b1df1b",
   "metadata": {
    "_cell_guid": "75bb337d-f7e9-4769-9e5a-6e5351ee8d38",
    "_uuid": "bf65fc59-7f92-48c4-868d-e92d73e1c7e6",
    "collapsed": false,
    "execution": {
     "iopub.execute_input": "2022-09-07T11:32:44.500078Z",
     "iopub.status.busy": "2022-09-07T11:32:44.499780Z",
     "iopub.status.idle": "2022-09-07T11:32:44.906343Z",
     "shell.execute_reply": "2022-09-07T11:32:44.905450Z"
    },
    "jupyter": {
     "outputs_hidden": false
    },
    "papermill": {
     "duration": 0.420504,
     "end_time": "2022-09-07T11:32:44.908309",
     "exception": false,
     "start_time": "2022-09-07T11:32:44.487805",
     "status": "completed"
    },
    "tags": []
   },
   "outputs": [
    {
     "data": {
      "image/png": "[encoded data removed]",
      "text/plain": [
       "<Figure size 1080x576 with 3 Axes>"
      ]
     },
     "metadata": {
      "needs_background": "light"
     },
     "output_type": "display_data"
    }
   ],
   "source": [
    "display_lengths_histograms(df_stats)"
   ]
  },
  {
   "cell_type": "code",
   "execution_count": 14,
   "id": "beb880da",
   "metadata": {
    "_cell_guid": "8643de2f-7114-4f6e-9443-543c88b9727a",
    "_uuid": "40840a3c-a3ee-4354-9ece-1d75a33f7996",
    "collapsed": false,
    "execution": {
     "iopub.execute_input": "2022-09-07T11:32:44.932597Z",
     "iopub.status.busy": "2022-09-07T11:32:44.932304Z",
     "iopub.status.idle": "2022-09-07T11:32:44.938460Z",
     "shell.execute_reply": "2022-09-07T11:32:44.937533Z"
    },
    "jupyter": {
     "outputs_hidden": false
    },
    "papermill": {
     "duration": 0.02095,
     "end_time": "2022-09-07T11:32:44.941039",
     "exception": false,
     "start_time": "2022-09-07T11:32:44.920089",
     "status": "completed"
    },
    "tags": []
   },
   "outputs": [
    {
     "name": "stdout",
     "output_type": "stream",
     "text": [
      "Texts in dataset: 901\n",
      "Number of categories: 2\n",
      "Done!\n"
     ]
    }
   ],
   "source": [
    "n_texts = len(X_data)\n",
    "print('Texts in dataset: %d' % n_texts)\n",
    "\n",
    "categories = df[' auto_gen_label'].unique()\n",
    "n_categories = len(categories)\n",
    "print('Number of categories: %d' % n_categories)\n",
    "\n",
    "print('Done!')"
   ]
  },
  {
   "cell_type": "code",
   "execution_count": 15,
   "id": "c72ae5a7",
   "metadata": {
    "_cell_guid": "c530852e-ef23-4065-8450-4b25095917ed",
    "_uuid": "0a5bd2ea-294f-409d-a097-adf06c9aef20",
    "collapsed": false,
    "execution": {
     "iopub.execute_input": "2022-09-07T11:32:44.965715Z",
     "iopub.status.busy": "2022-09-07T11:32:44.964700Z",
     "iopub.status.idle": "2022-09-07T11:32:44.974005Z",
     "shell.execute_reply": "2022-09-07T11:32:44.971784Z"
    },
    "jupyter": {
     "outputs_hidden": false
    },
    "papermill": {
     "duration": 0.023658,
     "end_time": "2022-09-07T11:32:44.975991",
     "exception": false,
     "start_time": "2022-09-07T11:32:44.952333",
     "status": "completed"
    },
    "tags": []
   },
   "outputs": [],
   "source": [
    "def roberta_encode(texts, tokenizer):\n",
    "    ct = len(texts)\n",
    "    input_ids = np.ones((ct, MAX_LEN), dtype='int32')\n",
    "    attention_mask = np.zeros((ct, MAX_LEN), dtype='int32')\n",
    "    token_type_ids = np.zeros((ct, MAX_LEN), dtype='int32') \n",
    "\n",
    "    for k, text in enumerate(texts):\n",
    "        # Tokenize\n",
    "        tok_text = tokenizer.tokenize(text)\n",
    "        \n",
    "        # Truncate and convert tokens to numerical IDs\n",
    "        enc_text = tokenizer.convert_tokens_to_ids(tok_text[:(MAX_LEN-2)])\n",
    "        \n",
    "        input_length = len(enc_text) + 2\n",
    "        input_length = input_length if input_length < MAX_LEN else MAX_LEN\n",
    "        \n",
    "        # Add tokens [CLS] and [SEP] at the beginning and the end\n",
    "        input_ids[k,:input_length] = np.asarray([0] + enc_text + [2], dtype='int32')\n",
    "        \n",
    "        # Set to 1s in the attention input\n",
    "        attention_mask[k,:input_length] = 1\n",
    "\n",
    "    return {\n",
    "        'input_word_ids': input_ids,\n",
    "        'input_mask': attention_mask,\n",
    "        'input_type_ids': token_type_ids\n",
    "    }"
   ]
  },
  {
   "cell_type": "code",
   "execution_count": 16,
   "id": "322219ea",
   "metadata": {
    "_cell_guid": "02df5136-3b1d-418c-a594-199a1c998594",
    "_uuid": "51b4ffe8-8746-40d5-91f3-dee7fd346107",
    "collapsed": false,
    "execution": {
     "iopub.execute_input": "2022-09-07T11:32:45.004466Z",
     "iopub.status.busy": "2022-09-07T11:32:45.002823Z",
     "iopub.status.idle": "2022-09-07T11:32:45.011339Z",
     "shell.execute_reply": "2022-09-07T11:32:45.010430Z"
    },
    "jupyter": {
     "outputs_hidden": false
    },
    "papermill": {
     "duration": 0.023334,
     "end_time": "2022-09-07T11:32:45.013303",
     "exception": false,
     "start_time": "2022-09-07T11:32:44.989969",
     "status": "completed"
    },
    "tags": []
   },
   "outputs": [
    {
     "data": {
      "text/plain": [
       "{0: 'Positive', 1: 'Negative'}"
      ]
     },
     "execution_count": 16,
     "metadata": {},
     "output_type": "execute_result"
    }
   ],
   "source": [
    "category_to_id = {}\n",
    "category_to_name = {}\n",
    "\n",
    "for index, c in enumerate(y_data):\n",
    "    if c in category_to_id:\n",
    "        category_id = category_to_id[c]\n",
    "    else:\n",
    "        category_id = len(category_to_id)\n",
    "        category_to_id[c] = category_id\n",
    "        category_to_name[category_id] = c\n",
    "    \n",
    "    y_data[index] = category_id\n",
    "\n",
    "# Display dictionary\n",
    "category_to_name"
   ]
  },
  {
   "cell_type": "code",
   "execution_count": 17,
   "id": "17cac188",
   "metadata": {
    "_cell_guid": "f5f9bb96-fe88-4122-9590-9721db2c12a2",
    "_uuid": "0658d05b-482c-46eb-8ce2-07965d1892f6",
    "collapsed": false,
    "execution": {
     "iopub.execute_input": "2022-09-07T11:32:45.038186Z",
     "iopub.status.busy": "2022-09-07T11:32:45.037919Z",
     "iopub.status.idle": "2022-09-07T11:32:45.043893Z",
     "shell.execute_reply": "2022-09-07T11:32:45.042821Z"
    },
    "jupyter": {
     "outputs_hidden": false
    },
    "papermill": {
     "duration": 0.021049,
     "end_time": "2022-09-07T11:32:45.046046",
     "exception": false,
     "start_time": "2022-09-07T11:32:45.024997",
     "status": "completed"
    },
    "tags": []
   },
   "outputs": [],
   "source": [
    "X_train, X_test, y_train, y_test = train_test_split(X_data, y_data, test_size=0.2, random_state=777) # random_state to reproduce results"
   ]
  },
  {
   "cell_type": "code",
   "execution_count": 18,
   "id": "746284a0",
   "metadata": {
    "_cell_guid": "b026e66e-e155-45b2-9eb8-fb1867e2533b",
    "_uuid": "b01eb41b-0d9b-4c87-9b58-ae33f3d6f9d3",
    "collapsed": false,
    "execution": {
     "iopub.execute_input": "2022-09-07T11:32:45.069884Z",
     "iopub.status.busy": "2022-09-07T11:32:45.069607Z",
     "iopub.status.idle": "2022-09-07T11:32:48.967196Z",
     "shell.execute_reply": "2022-09-07T11:32:48.966218Z"
    },
    "jupyter": {
     "outputs_hidden": false
    },
    "papermill": {
     "duration": 3.912358,
     "end_time": "2022-09-07T11:32:48.969634",
     "exception": false,
     "start_time": "2022-09-07T11:32:45.057276",
     "status": "completed"
    },
    "tags": []
   },
   "outputs": [
    {
     "data": {
      "application/vnd.jupyter.widget-view+json": {
       "model_id": "de0ed77536134313a332e95ea5bccd69",
       "version_major": 2,
       "version_minor": 0
      },
      "text/plain": [
       "Downloading:   0%|          | 0.00/878k [00:00<?, ?B/s]"
      ]
     },
     "metadata": {},
     "output_type": "display_data"
    },
    {
     "data": {
      "application/vnd.jupyter.widget-view+json": {
       "model_id": "4f8d81d5b68f4093b5c0cdc4cba4541f",
       "version_major": 2,
       "version_minor": 0
      },
      "text/plain": [
       "Downloading:   0%|          | 0.00/446k [00:00<?, ?B/s]"
      ]
     },
     "metadata": {},
     "output_type": "display_data"
    },
    {
     "data": {
      "application/vnd.jupyter.widget-view+json": {
       "model_id": "39aba62825044033a414bf6d2c91c29c",
       "version_major": 2,
       "version_minor": 0
      },
      "text/plain": [
       "Downloading:   0%|          | 0.00/481 [00:00<?, ?B/s]"
      ]
     },
     "metadata": {},
     "output_type": "display_data"
    }
   ],
   "source": [
    "tokenizer = RobertaTokenizer.from_pretrained(MODEL_NAME)"
   ]
  },
  {
   "cell_type": "code",
   "execution_count": 19,
   "id": "fb7fbfc6",
   "metadata": {
    "_cell_guid": "2ffcf899-36b5-4f7c-b4eb-2bf34da374ab",
    "_uuid": "ae6eef73-255e-4f87-ab7d-66ecff2d82a3",
    "collapsed": false,
    "execution": {
     "iopub.execute_input": "2022-09-07T11:32:48.995698Z",
     "iopub.status.busy": "2022-09-07T11:32:48.995339Z",
     "iopub.status.idle": "2022-09-07T11:32:50.195541Z",
     "shell.execute_reply": "2022-09-07T11:32:50.194606Z"
    },
    "jupyter": {
     "outputs_hidden": false
    },
    "papermill": {
     "duration": 1.216273,
     "end_time": "2022-09-07T11:32:50.198225",
     "exception": false,
     "start_time": "2022-09-07T11:32:48.981952",
     "status": "completed"
    },
    "tags": []
   },
   "outputs": [],
   "source": [
    "X_train = roberta_encode(X_train, tokenizer)\n",
    "X_test = roberta_encode(X_test, tokenizer)\n",
    "\n",
    "y_train = np.asarray(y_train, dtype='int32')\n",
    "y_test = np.asarray(y_test, dtype='int32')"
   ]
  },
  {
   "cell_type": "code",
   "execution_count": 20,
   "id": "b5bbd014",
   "metadata": {
    "_cell_guid": "344ac7b5-d733-4a89-b5fc-a261e44554bc",
    "_uuid": "601ba59b-d7ba-453c-be3d-27d9cde00172",
    "collapsed": false,
    "execution": {
     "iopub.execute_input": "2022-09-07T11:32:50.223646Z",
     "iopub.status.busy": "2022-09-07T11:32:50.223297Z",
     "iopub.status.idle": "2022-09-07T11:32:50.234182Z",
     "shell.execute_reply": "2022-09-07T11:32:50.233279Z"
    },
    "jupyter": {
     "outputs_hidden": false
    },
    "papermill": {
     "duration": 0.025669,
     "end_time": "2022-09-07T11:32:50.236191",
     "exception": false,
     "start_time": "2022-09-07T11:32:50.210522",
     "status": "completed"
    },
    "tags": []
   },
   "outputs": [],
   "source": [
    "def build_model(n_categories):\n",
    "    with strategy.scope():\n",
    "        input_word_ids = tf.keras.Input(shape=(MAX_LEN,), dtype=tf.int32, name='input_word_ids')\n",
    "        input_mask = tf.keras.Input(shape=(MAX_LEN,), dtype=tf.int32, name='input_mask')\n",
    "        input_type_ids = tf.keras.Input(shape=(MAX_LEN,), dtype=tf.int32, name='input_type_ids')\n",
    "\n",
    "        # Import RoBERTa model from HuggingFace\n",
    "        roberta_model = TFRobertaModel.from_pretrained(MODEL_NAME)\n",
    "        x = roberta_model(input_word_ids, attention_mask=input_mask, token_type_ids=input_type_ids)\n",
    "\n",
    "        # Huggingface transformers have multiple outputs, embeddings are the first one,\n",
    "        # so let's slice out the first position\n",
    "        x = x[0]\n",
    "\n",
    "        x = tf.keras.layers.Dropout(0.1)(x)\n",
    "        x = tf.keras.layers.Flatten()(x)\n",
    "        x = tf.keras.layers.Dense(256, activation='relu')(x)\n",
    "        x = tf.keras.layers.Dense(n_categories, activation='softmax')(x)\n",
    "\n",
    "        model = tf.keras.Model(inputs=[input_word_ids, input_mask, input_type_ids], outputs=x)\n",
    "        model.compile(\n",
    "            optimizer=tf.keras.optimizers.Adam(lr=1e-5),\n",
    "            loss='sparse_categorical_crossentropy',\n",
    "            metrics=['accuracy'])\n",
    "\n",
    "        return model"
   ]
  },
  {
   "cell_type": "code",
   "execution_count": 21,
   "id": "df972a26",
   "metadata": {
    "_cell_guid": "e9ec0d13-7bef-4ed5-a1f7-5e982f9738a4",
    "_uuid": "2dfd956b-8708-46de-b54f-4b8ab964323c",
    "collapsed": false,
    "execution": {
     "iopub.execute_input": "2022-09-07T11:32:50.262222Z",
     "iopub.status.busy": "2022-09-07T11:32:50.261229Z",
     "iopub.status.idle": "2022-09-07T11:33:27.540308Z",
     "shell.execute_reply": "2022-09-07T11:33:27.538525Z"
    },
    "jupyter": {
     "outputs_hidden": false
    },
    "papermill": {
     "duration": 37.295255,
     "end_time": "2022-09-07T11:33:27.543240",
     "exception": false,
     "start_time": "2022-09-07T11:32:50.247985",
     "status": "completed"
    },
    "tags": []
   },
   "outputs": [
    {
     "data": {
      "application/vnd.jupyter.widget-view+json": {
       "model_id": "6d36a11b51384d94a923cb7674ef71af",
       "version_major": 2,
       "version_minor": 0
      },
      "text/plain": [
       "Downloading:   0%|          | 0.00/627M [00:00<?, ?B/s]"
      ]
     },
     "metadata": {},
     "output_type": "display_data"
    },
    {
     "name": "stderr",
     "output_type": "stream",
     "text": [
      "Some layers from the model checkpoint at roberta-base were not used when initializing TFRobertaModel: ['lm_head']\n",
      "- This IS expected if you are initializing TFRobertaModel from the checkpoint of a model trained on another task or with another architecture (e.g. initializing a BertForSequenceClassification model from a BertForPreTraining model).\n",
      "- This IS NOT expected if you are initializing TFRobertaModel from the checkpoint of a model that you expect to be exactly identical (initializing a BertForSequenceClassification model from a BertForSequenceClassification model).\n",
      "All the layers of TFRobertaModel were initialized from the model checkpoint at roberta-base.\n",
      "If your task is similar to the task the model of the checkpoint was trained on, you can already use TFRobertaModel for predictions without further training.\n"
     ]
    },
    {
     "name": "stdout",
     "output_type": "stream",
     "text": [
      "Model: \"model\"\n",
      "__________________________________________________________________________________________________\n",
      "Layer (type)                    Output Shape         Param #     Connected to                     \n",
      "==================================================================================================\n",
      "input_word_ids (InputLayer)     [(None, 256)]        0                                            \n",
      "__________________________________________________________________________________________________\n",
      "input_mask (InputLayer)         [(None, 256)]        0                                            \n",
      "__________________________________________________________________________________________________\n",
      "input_type_ids (InputLayer)     [(None, 256)]        0                                            \n",
      "__________________________________________________________________________________________________\n",
      "tf_roberta_model (TFRobertaMode TFBaseModelOutputWit 124645632   input_word_ids[0][0]             \n",
      "                                                                 input_mask[0][0]                 \n",
      "                                                                 input_type_ids[0][0]             \n",
      "__________________________________________________________________________________________________\n",
      "dropout_37 (Dropout)            (None, 256, 768)     0           tf_roberta_model[0][0]           \n",
      "__________________________________________________________________________________________________\n",
      "flatten (Flatten)               (None, 196608)       0           dropout_37[0][0]                 \n",
      "__________________________________________________________________________________________________\n",
      "dense (Dense)                   (None, 256)          50331904    flatten[0][0]                    \n",
      "__________________________________________________________________________________________________\n",
      "dense_1 (Dense)                 (None, 2)            514         dense[0][0]                      \n",
      "==================================================================================================\n",
      "Total params: 174,978,050\n",
      "Trainable params: 174,978,050\n",
      "Non-trainable params: 0\n",
      "__________________________________________________________________________________________________\n"
     ]
    }
   ],
   "source": [
    "with strategy.scope():\n",
    "    model = build_model(n_categories)\n",
    "    model.summary()"
   ]
  },
  {
   "cell_type": "code",
   "execution_count": 22,
   "id": "b62c9544",
   "metadata": {
    "_cell_guid": "7279e5cb-1612-46fd-983c-f3f9ce99583e",
    "_uuid": "30a525a3-4de6-43a0-b9f6-0be81d2c8346",
    "collapsed": false,
    "execution": {
     "iopub.execute_input": "2022-09-07T11:33:27.570150Z",
     "iopub.status.busy": "2022-09-07T11:33:27.569129Z",
     "iopub.status.idle": "2022-09-07T11:35:58.244657Z",
     "shell.execute_reply": "2022-09-07T11:35:58.243598Z"
    },
    "jupyter": {
     "outputs_hidden": false
    },
    "papermill": {
     "duration": 150.691763,
     "end_time": "2022-09-07T11:35:58.247648",
     "exception": false,
     "start_time": "2022-09-07T11:33:27.555885",
     "status": "completed"
    },
    "tags": []
   },
   "outputs": [
    {
     "name": "stdout",
     "output_type": "stream",
     "text": [
      "Training...\n",
      "Epoch 1/3\n"
     ]
    },
    {
     "name": "stderr",
     "output_type": "stream",
     "text": [
      "2022-09-07 11:33:27.637061: I tensorflow/compiler/mlir/mlir_graph_optimization_pass.cc:185] None of the MLIR Optimization Passes are enabled (registered 2)\n"
     ]
    },
    {
     "name": "stdout",
     "output_type": "stream",
     "text": [
      "90/90 [==============================] - 38s 325ms/step - loss: 0.2684 - accuracy: 0.8750 - val_loss: 0.0114 - val_accuracy: 0.9945\n",
      "Epoch 2/3\n",
      "90/90 [==============================] - 27s 295ms/step - loss: 0.0128 - accuracy: 0.9958 - val_loss: 0.0197 - val_accuracy: 0.9890\n",
      "Epoch 3/3\n",
      "90/90 [==============================] - 27s 295ms/step - loss: 0.0023 - accuracy: 1.0000 - val_loss: 0.0304 - val_accuracy: 0.9945\n"
     ]
    }
   ],
   "source": [
    "with strategy.scope():\n",
    "    print('Training...')\n",
    "    history = model.fit(X_train,\n",
    "                        y_train,\n",
    "                        epochs=EPOCHS,\n",
    "                        batch_size=BATCH_SIZE,\n",
    "                        verbose=1,\n",
    "                        validation_data=(X_test, y_test))"
   ]
  },
  {
   "cell_type": "code",
   "execution_count": 23,
   "id": "c152b90f",
   "metadata": {
    "_cell_guid": "c67100dd-4c78-40a9-92c7-4e6d1d9fce2b",
    "_uuid": "ab1dc2ec-8e73-419b-82b7-09977ae07cbd",
    "collapsed": false,
    "execution": {
     "iopub.execute_input": "2022-09-07T11:35:58.301007Z",
     "iopub.status.busy": "2022-09-07T11:35:58.300689Z",
     "iopub.status.idle": "2022-09-07T11:36:18.327946Z",
     "shell.execute_reply": "2022-09-07T11:36:18.326546Z"
    },
    "jupyter": {
     "outputs_hidden": false
    },
    "papermill": {
     "duration": 20.056658,
     "end_time": "2022-09-07T11:36:18.330768",
     "exception": false,
     "start_time": "2022-09-07T11:35:58.274110",
     "status": "completed"
    },
    "tags": []
   },
   "outputs": [
    {
     "name": "stdout",
     "output_type": "stream",
     "text": [
      "The Procees Started\n",
      "\n",
      "Downloading your data..... \n",
      "100.0\r"
     ]
    }
   ],
   "source": [
    "import sys, time\n",
    "print(\"The Procees Started\\n\") \n",
    "print(\"Downloading your data..... \")\n",
    "    \n",
    "for i in range(20):\n",
    "    print(((i*100)/19),end='\\r')\n",
    "    \n",
    "    \n",
    "    \n",
    "    time.sleep(1)"
   ]
  },
  {
   "cell_type": "code",
   "execution_count": 24,
   "id": "6c99b3a5",
   "metadata": {
    "_cell_guid": "cba30c54-0a60-4457-ae19-3702d020caa6",
    "_uuid": "e5796f93-eb7b-48fe-93fd-7744337cf7df",
    "collapsed": false,
    "execution": {
     "iopub.execute_input": "2022-09-07T11:36:18.396995Z",
     "iopub.status.busy": "2022-09-07T11:36:18.395811Z",
     "iopub.status.idle": "2022-09-07T11:36:18.417615Z",
     "shell.execute_reply": "2022-09-07T11:36:18.416472Z"
    },
    "jupyter": {
     "outputs_hidden": false
    },
    "papermill": {
     "duration": 0.057281,
     "end_time": "2022-09-07T11:36:18.419937",
     "exception": false,
     "start_time": "2022-09-07T11:36:18.362656",
     "status": "completed"
    },
    "tags": []
   },
   "outputs": [
    {
     "data": {
      "text/html": [
       "<div>\n",
       "<style scoped>\n",
       "    .dataframe tbody tr th:only-of-type {\n",
       "        vertical-align: middle;\n",
       "    }\n",
       "\n",
       "    .dataframe tbody tr th {\n",
       "        vertical-align: top;\n",
       "    }\n",
       "\n",
       "    .dataframe thead th {\n",
       "        text-align: right;\n",
       "    }\n",
       "</style>\n",
       "<table border=\"1\" class=\"dataframe\">\n",
       "  <thead>\n",
       "    <tr style=\"text-align: right;\">\n",
       "      <th></th>\n",
       "      <th>review</th>\n",
       "      <th>auto_gen_label</th>\n",
       "    </tr>\n",
       "  </thead>\n",
       "  <tbody>\n",
       "    <tr>\n",
       "      <th>0</th>\n",
       "      <td>\\n\\nJulia Child at her absolute best!!!!: This...</td>\n",
       "      <td>Positive</td>\n",
       "    </tr>\n",
       "    <tr>\n",
       "      <th>1</th>\n",
       "      <td>Julia Child at her absolute best!!!!: This is ...</td>\n",
       "      <td>Negative</td>\n",
       "    </tr>\n",
       "    <tr>\n",
       "      <th>2</th>\n",
       "      <td>e... Read more</td>\n",
       "      <td>Positive</td>\n",
       "    </tr>\n",
       "    <tr>\n",
       "      <th>3</th>\n",
       "      <td>This DVD is not as represented in the descript...</td>\n",
       "      <td>Negative</td>\n",
       "    </tr>\n",
       "    <tr>\n",
       "      <th>4</th>\n",
       "      <td>io\\n\\nI'm sorry to hear that you received a da...</td>\n",
       "      <td>Positive</td>\n",
       "    </tr>\n",
       "  </tbody>\n",
       "</table>\n",
       "</div>"
      ],
      "text/plain": [
       "                                              review auto_gen_label\n",
       "0  \\n\\nJulia Child at her absolute best!!!!: This...       Positive\n",
       "1  Julia Child at her absolute best!!!!: This is ...       Negative\n",
       "2                                     e... Read more       Positive\n",
       "3  This DVD is not as represented in the descript...       Negative\n",
       "4  io\\n\\nI'm sorry to hear that you received a da...       Positive"
      ]
     },
     "execution_count": 24,
     "metadata": {},
     "output_type": "execute_result"
    }
   ],
   "source": [
    "dftest = pd.read_csv('/kaggle/input/testversion3/train_auto_gen.csv')\n",
    "dftest.head()"
   ]
  },
  {
   "cell_type": "code",
   "execution_count": 25,
   "id": "c28ce114",
   "metadata": {
    "_cell_guid": "81e85afe-34f5-471e-bb38-cd846b90075c",
    "_uuid": "141944a4-55eb-45ab-b903-4f703a4588cc",
    "collapsed": false,
    "execution": {
     "iopub.execute_input": "2022-09-07T11:36:18.486066Z",
     "iopub.status.busy": "2022-09-07T11:36:18.484206Z",
     "iopub.status.idle": "2022-09-07T11:36:18.494029Z",
     "shell.execute_reply": "2022-09-07T11:36:18.492814Z"
    },
    "jupyter": {
     "outputs_hidden": false
    },
    "papermill": {
     "duration": 0.04459,
     "end_time": "2022-09-07T11:36:18.496285",
     "exception": false,
     "start_time": "2022-09-07T11:36:18.451695",
     "status": "completed"
    },
    "tags": []
   },
   "outputs": [
    {
     "data": {
      "text/plain": [
       "0      \\n\\nJulia Child at her absolute best!!!!: This...\n",
       "1      Julia Child at her absolute best!!!!: This is ...\n",
       "2                                         e... Read more\n",
       "3      This DVD is not as represented in the descript...\n",
       "4      io\\n\\nI'm sorry to hear that you received a da...\n",
       "                             ...                        \n",
       "195    Worth the Purchase if You Own an HDTV: I bough...\n",
       "196    \\n\\n\\n\\nHulk: Yeah, I know what you mean. I've...\n",
       "197    Spider-Fan: I cant wait to get this movie on B...\n",
       "198    Mac, I expect to receive it in new condition.\\...\n",
       "199    Poor quality of wrapping: I received my \"new\" ...\n",
       "Name: review, Length: 200, dtype: object"
      ]
     },
     "execution_count": 25,
     "metadata": {},
     "output_type": "execute_result"
    }
   ],
   "source": [
    "dftest['review']"
   ]
  },
  {
   "cell_type": "code",
   "execution_count": 26,
   "id": "8479247f",
   "metadata": {
    "_cell_guid": "55119509-4cbd-48fc-88d0-681223af044c",
    "_uuid": "54b01376-4c79-44f0-8bb8-2a19c3289acc",
    "collapsed": false,
    "execution": {
     "iopub.execute_input": "2022-09-07T11:36:18.561481Z",
     "iopub.status.busy": "2022-09-07T11:36:18.561109Z",
     "iopub.status.idle": "2022-09-07T11:36:18.567798Z",
     "shell.execute_reply": "2022-09-07T11:36:18.566715Z"
    },
    "jupyter": {
     "outputs_hidden": false
    },
    "papermill": {
     "duration": 0.042024,
     "end_time": "2022-09-07T11:36:18.570142",
     "exception": false,
     "start_time": "2022-09-07T11:36:18.528118",
     "status": "completed"
    },
    "tags": []
   },
   "outputs": [],
   "source": [
    "dftest = dftest.dropna()"
   ]
  },
  {
   "cell_type": "code",
   "execution_count": 27,
   "id": "fba98a43",
   "metadata": {
    "_cell_guid": "f86215f1-ed2d-4349-b387-7f2eca3ef24f",
    "_uuid": "09aaaaee-05c4-4ec5-bec4-c060e1d986dd",
    "collapsed": false,
    "execution": {
     "iopub.execute_input": "2022-09-07T11:36:18.634411Z",
     "iopub.status.busy": "2022-09-07T11:36:18.634090Z",
     "iopub.status.idle": "2022-09-07T11:36:18.642448Z",
     "shell.execute_reply": "2022-09-07T11:36:18.641376Z"
    },
    "jupyter": {
     "outputs_hidden": false
    },
    "papermill": {
     "duration": 0.04408,
     "end_time": "2022-09-07T11:36:18.645670",
     "exception": false,
     "start_time": "2022-09-07T11:36:18.601590",
     "status": "completed"
    },
    "tags": []
   },
   "outputs": [
    {
     "name": "stdout",
     "output_type": "stream",
     "text": [
      "                                                review auto_gen_label\n",
      "0    \\n\\nJulia Child at her absolute best!!!!: This...       Positive\n",
      "1    Julia Child at her absolute best!!!!: This is ...       Negative\n",
      "2                                       e... Read more       Positive\n",
      "3    This DVD is not as represented in the descript...       Negative\n",
      "4    io\\n\\nI'm sorry to hear that you received a da...       Positive\n",
      "..                                                 ...            ...\n",
      "195  Worth the Purchase if You Own an HDTV: I bough...       Negative\n",
      "196  \\n\\n\\n\\nHulk: Yeah, I know what you mean. I've...       Positive\n",
      "197  Spider-Fan: I cant wait to get this movie on B...       Negative\n",
      "198  Mac, I expect to receive it in new condition.\\...       Positive\n",
      "199  Poor quality of wrapping: I received my \"new\" ...       Negative\n",
      "\n",
      "[179 rows x 2 columns]\n"
     ]
    }
   ],
   "source": [
    "print(dftest)"
   ]
  },
  {
   "cell_type": "code",
   "execution_count": 28,
   "id": "fbd88447",
   "metadata": {
    "_cell_guid": "6e6d21c3-2149-497d-ae7b-f80101fdebc0",
    "_uuid": "30941e98-ab76-4279-a81a-991fe5960a63",
    "collapsed": false,
    "execution": {
     "iopub.execute_input": "2022-09-07T11:36:18.702791Z",
     "iopub.status.busy": "2022-09-07T11:36:18.702002Z",
     "iopub.status.idle": "2022-09-07T11:36:18.709712Z",
     "shell.execute_reply": "2022-09-07T11:36:18.708631Z"
    },
    "jupyter": {
     "outputs_hidden": false
    },
    "papermill": {
     "duration": 0.038377,
     "end_time": "2022-09-07T11:36:18.712042",
     "exception": false,
     "start_time": "2022-09-07T11:36:18.673665",
     "status": "completed"
    },
    "tags": []
   },
   "outputs": [],
   "source": [
    "X_data = dftest[['review']].to_numpy().reshape(-1)\n",
    "y_data = dftest[['auto_gen_label']].to_numpy().reshape(-1)"
   ]
  },
  {
   "cell_type": "code",
   "execution_count": 29,
   "id": "a0b06b22",
   "metadata": {
    "_cell_guid": "2e03f902-9c74-40de-b809-eb1eb37782cd",
    "_uuid": "f2ead429-fdd4-4ecd-a559-67c2b92329ae",
    "collapsed": false,
    "execution": {
     "iopub.execute_input": "2022-09-07T11:36:18.774612Z",
     "iopub.status.busy": "2022-09-07T11:36:18.774212Z",
     "iopub.status.idle": "2022-09-07T11:36:18.956156Z",
     "shell.execute_reply": "2022-09-07T11:36:18.954755Z"
    },
    "jupyter": {
     "outputs_hidden": false
    },
    "papermill": {
     "duration": 0.21498,
     "end_time": "2022-09-07T11:36:18.958791",
     "exception": false,
     "start_time": "2022-09-07T11:36:18.743811",
     "status": "completed"
    },
    "tags": []
   },
   "outputs": [
    {
     "data": {
      "image/png": "[encoded data removed]",
      "text/plain": [
       "<Figure size 720x360 with 1 Axes>"
      ]
     },
     "metadata": {
      "needs_background": "light"
     },
     "output_type": "display_data"
    },
    {
     "name": "stdout",
     "output_type": "stream",
     "text": [
      "Counter({'Negative': 100, 'Positive': 79})\n"
     ]
    }
   ],
   "source": [
    "categories = dftest[['auto_gen_label']].values.reshape(-1)\n",
    "\n",
    "counter_categories = Counter(categories)\n",
    "category_names = counter_categories.keys()\n",
    "category_values = counter_categories.values()\n",
    "\n",
    "y_pos = np.arange(len(category_names))\n",
    "\n",
    "plt.figure(1, figsize=(10, 5))\n",
    "plt.bar(y_pos, category_values, align='center', alpha=0.5)\n",
    "plt.xticks(y_pos, category_names)\n",
    "plt.ylabel('Number of review')\n",
    "plt.title('Distribution of review per auto_gen_label')\n",
    "plt.gca().yaxis.grid(True)\n",
    "plt.show()\n",
    "\n",
    "print(counter_categories)"
   ]
  },
  {
   "cell_type": "code",
   "execution_count": 30,
   "id": "85a813ec",
   "metadata": {
    "_cell_guid": "0e3b4498-1944-423b-8991-d0fabc0f6833",
    "_uuid": "d0dad1c9-fce1-4d62-aa88-85a85efcc500",
    "collapsed": false,
    "execution": {
     "iopub.execute_input": "2022-09-07T11:36:19.016910Z",
     "iopub.status.busy": "2022-09-07T11:36:19.016594Z",
     "iopub.status.idle": "2022-09-07T11:36:19.029069Z",
     "shell.execute_reply": "2022-09-07T11:36:19.028218Z"
    },
    "jupyter": {
     "outputs_hidden": false
    },
    "papermill": {
     "duration": 0.042946,
     "end_time": "2022-09-07T11:36:19.031098",
     "exception": false,
     "start_time": "2022-09-07T11:36:18.988152",
     "status": "completed"
    },
    "tags": []
   },
   "outputs": [],
   "source": [
    "def calculate_statstest(df, split_char=' '):\n",
    "    categories = df['auto_gen_label'].unique()\n",
    "    \n",
    "    all_lengths = []\n",
    "    per_category = {\n",
    "        'lengths': {c:[] for c in categories},\n",
    "        'mean': {c:0 for c in categories},\n",
    "        'stdev': {c:0 for c in categories}\n",
    "    }\n",
    "\n",
    "    for index, row in df.iterrows():\n",
    "        text = row['review']\n",
    "        text = re.sub(r\"\\s+\", ' ', text) # Normalize\n",
    "        text = text.split(split_char)\n",
    "        l = len(text)\n",
    "        \n",
    "        category = row['auto_gen_label']\n",
    "        \n",
    "        all_lengths.append(l)\n",
    "        per_category['lengths'][category].append(l)\n",
    "    \n",
    "    for c in categories:\n",
    "        per_category['mean'][c] = statistics.mean(per_category['lengths'][c])\n",
    "        per_category['stdev'][c] = statistics.stdev(per_category['lengths'][c])\n",
    "    \n",
    "    global_stats = {\n",
    "        'mean': statistics.mean(all_lengths),\n",
    "        'stdev': statistics.stdev(all_lengths),\n",
    "        'lengths': all_lengths\n",
    "    }\n",
    "    \n",
    "    return {\n",
    "        'global': global_stats,\n",
    "        'per_category': pd.DataFrame(per_category)\n",
    "    }\n",
    "\n",
    "\n",
    "def display_lengths_histograms(df_stats, n_cols=3):\n",
    "    categories = df['auto_gen_label'].unique()\n",
    "    n_rows = math.ceil(len(categories) / n_cols)\n",
    "    \n",
    "    plt.figure(figsize=(15, 8))\n",
    "    plt.suptitle('Distribution of lengths')\n",
    "    \n",
    "    # Subplot of all lengths\n",
    "    plt.subplot(n_rows, n_cols, 1)\n",
    "    plt.title('All categories')\n",
    "    lengths = df_stats['global']['lengths']\n",
    "    plt.hist(lengths, color='r')\n",
    "\n",
    "    # Subplot of each category\n",
    "    index_subplot = 2\n",
    "    for c in categories:\n",
    "        plt.subplot(n_rows, n_cols, index_subplot)\n",
    "        plt.title('Category: %s' % c)\n",
    "        \n",
    "        lengths = df_stats['per_category']['lengths'][c]\n",
    "        plt.hist(lengths, color='b')\n",
    "\n",
    "        index_subplot += 1\n",
    "\n",
    "    plt.show()"
   ]
  },
  {
   "cell_type": "code",
   "execution_count": 31,
   "id": "c37d9319",
   "metadata": {
    "_cell_guid": "3bdffdf5-5b13-493f-8e7e-7dce784c788b",
    "_uuid": "ad60638d-b028-424c-82a6-cd47b60a9fe6",
    "collapsed": false,
    "execution": {
     "iopub.execute_input": "2022-09-07T11:36:19.086890Z",
     "iopub.status.busy": "2022-09-07T11:36:19.086605Z",
     "iopub.status.idle": "2022-09-07T11:36:19.133009Z",
     "shell.execute_reply": "2022-09-07T11:36:19.131617Z"
    },
    "jupyter": {
     "outputs_hidden": false
    },
    "papermill": {
     "duration": 0.077481,
     "end_time": "2022-09-07T11:36:19.136297",
     "exception": false,
     "start_time": "2022-09-07T11:36:19.058816",
     "status": "completed"
    },
    "tags": []
   },
   "outputs": [
    {
     "data": {
      "text/html": [
       "<div>\n",
       "<style scoped>\n",
       "    .dataframe tbody tr th:only-of-type {\n",
       "        vertical-align: middle;\n",
       "    }\n",
       "\n",
       "    .dataframe tbody tr th {\n",
       "        vertical-align: top;\n",
       "    }\n",
       "\n",
       "    .dataframe thead th {\n",
       "        text-align: right;\n",
       "    }\n",
       "</style>\n",
       "<table border=\"1\" class=\"dataframe\">\n",
       "  <thead>\n",
       "    <tr style=\"text-align: right;\">\n",
       "      <th></th>\n",
       "      <th>lengths</th>\n",
       "      <th>mean</th>\n",
       "      <th>stdev</th>\n",
       "    </tr>\n",
       "  </thead>\n",
       "  <tbody>\n",
       "    <tr>\n",
       "      <th>Positive</th>\n",
       "      <td>[81, 3, 41, 78, 193, 8, 42, 16, 41, 3, 112, 20...</td>\n",
       "      <td>101.670886</td>\n",
       "      <td>75.996579</td>\n",
       "    </tr>\n",
       "    <tr>\n",
       "      <th>Negative</th>\n",
       "      <td>[93, 81, 138, 50, 78, 40, 92, 65, 131, 37, 65,...</td>\n",
       "      <td>75.150000</td>\n",
       "      <td>33.845870</td>\n",
       "    </tr>\n",
       "  </tbody>\n",
       "</table>\n",
       "</div>"
      ],
      "text/plain": [
       "                                                    lengths        mean  \\\n",
       "Positive  [81, 3, 41, 78, 193, 8, 42, 16, 41, 3, 112, 20...  101.670886   \n",
       "Negative  [93, 81, 138, 50, 78, 40, 92, 65, 131, 37, 65,...   75.150000   \n",
       "\n",
       "              stdev  \n",
       "Positive  75.996579  \n",
       "Negative  33.845870  "
      ]
     },
     "execution_count": 31,
     "metadata": {},
     "output_type": "execute_result"
    }
   ],
   "source": [
    "df_stats = calculate_statstest(dftest)\n",
    "df_stats['per_category']"
   ]
  },
  {
   "cell_type": "code",
   "execution_count": 32,
   "id": "864ed278",
   "metadata": {
    "_cell_guid": "47ee5c99-0d21-439d-871d-ffffe5fb5458",
    "_uuid": "a19e984b-aa6c-4d4d-b515-d41c94d0414c",
    "collapsed": false,
    "execution": {
     "iopub.execute_input": "2022-09-07T11:36:19.216981Z",
     "iopub.status.busy": "2022-09-07T11:36:19.216629Z",
     "iopub.status.idle": "2022-09-07T11:36:19.222898Z",
     "shell.execute_reply": "2022-09-07T11:36:19.221932Z"
    },
    "jupyter": {
     "outputs_hidden": false
    },
    "papermill": {
     "duration": 0.039845,
     "end_time": "2022-09-07T11:36:19.225182",
     "exception": false,
     "start_time": "2022-09-07T11:36:19.185337",
     "status": "completed"
    },
    "tags": []
   },
   "outputs": [
    {
     "name": "stdout",
     "output_type": "stream",
     "text": [
      "Texts in dataset: 179\n",
      "Number of categories: 2\n",
      "Done!\n"
     ]
    }
   ],
   "source": [
    "n_texts = len(X_data)\n",
    "print('Texts in dataset: %d' % n_texts)\n",
    "\n",
    "categories = dftest['auto_gen_label'].unique()\n",
    "n_categories = len(categories)\n",
    "print('Number of categories: %d' % n_categories)\n",
    "\n",
    "print('Done!')"
   ]
  },
  {
   "cell_type": "code",
   "execution_count": 33,
   "id": "295efdd7",
   "metadata": {
    "_cell_guid": "810bab5f-466d-41f3-9a26-f973548860c4",
    "_uuid": "e3820c04-b683-465b-ab86-4b052312a383",
    "collapsed": false,
    "execution": {
     "iopub.execute_input": "2022-09-07T11:36:19.283228Z",
     "iopub.status.busy": "2022-09-07T11:36:19.282894Z",
     "iopub.status.idle": "2022-09-07T11:36:19.290531Z",
     "shell.execute_reply": "2022-09-07T11:36:19.289628Z"
    },
    "jupyter": {
     "outputs_hidden": false
    },
    "papermill": {
     "duration": 0.039066,
     "end_time": "2022-09-07T11:36:19.292482",
     "exception": false,
     "start_time": "2022-09-07T11:36:19.253416",
     "status": "completed"
    },
    "tags": []
   },
   "outputs": [
    {
     "data": {
      "text/plain": [
       "{0: 'Positive', 1: 'Negative'}"
      ]
     },
     "execution_count": 33,
     "metadata": {},
     "output_type": "execute_result"
    }
   ],
   "source": [
    "category_to_id = {}\n",
    "category_to_name = {}\n",
    "\n",
    "for index, c in enumerate(y_data):\n",
    "    if c in category_to_id:\n",
    "        category_id = category_to_id[c]\n",
    "    else:\n",
    "        category_id = len(category_to_id)\n",
    "        category_to_id[c] = category_id\n",
    "        category_to_name[category_id] = c\n",
    "    \n",
    "    y_data[index] = category_id\n",
    "\n",
    "\n",
    "category_to_name"
   ]
  },
  {
   "cell_type": "code",
   "execution_count": 34,
   "id": "979841f6",
   "metadata": {
    "_cell_guid": "085ee0ff-cb2e-4b9b-a3da-615c6d4f83c3",
    "_uuid": "90a1093a-b4a1-477b-b89e-1a95c4c04344",
    "collapsed": false,
    "execution": {
     "iopub.execute_input": "2022-09-07T11:36:19.350092Z",
     "iopub.status.busy": "2022-09-07T11:36:19.349767Z",
     "iopub.status.idle": "2022-09-07T11:36:19.548365Z",
     "shell.execute_reply": "2022-09-07T11:36:19.547432Z"
    },
    "jupyter": {
     "outputs_hidden": false
    },
    "papermill": {
     "duration": 0.229834,
     "end_time": "2022-09-07T11:36:19.550690",
     "exception": false,
     "start_time": "2022-09-07T11:36:19.320856",
     "status": "completed"
    },
    "tags": []
   },
   "outputs": [],
   "source": [
    "X_test = roberta_encode(X_data, tokenizer)\n",
    "\n",
    "\n",
    "\n",
    "y_test = np.asarray(y_data, dtype='int32')"
   ]
  },
  {
   "cell_type": "code",
   "execution_count": 35,
   "id": "de386b73",
   "metadata": {
    "_cell_guid": "b1feae99-feba-42a9-8846-818aac7ba564",
    "_uuid": "4b24d32d-5a8d-45ff-b69e-6bdd1804ef37",
    "collapsed": false,
    "execution": {
     "iopub.execute_input": "2022-09-07T11:36:19.607811Z",
     "iopub.status.busy": "2022-09-07T11:36:19.606948Z",
     "iopub.status.idle": "2022-09-07T11:36:21.608524Z",
     "shell.execute_reply": "2022-09-07T11:36:21.607488Z"
    },
    "jupyter": {
     "outputs_hidden": false
    },
    "papermill": {
     "duration": 2.032115,
     "end_time": "2022-09-07T11:36:21.610729",
     "exception": false,
     "start_time": "2022-09-07T11:36:19.578614",
     "status": "completed"
    },
    "tags": []
   },
   "outputs": [
    {
     "name": "stdout",
     "output_type": "stream",
     "text": [
      "6/6 [==============================] - 2s 322ms/step - loss: 0.1453 - accuracy: 0.9832\n"
     ]
    },
    {
     "data": {
      "text/plain": [
       "[0.14532461762428284, 0.9832402467727661]"
      ]
     },
     "execution_count": 35,
     "metadata": {},
     "output_type": "execute_result"
    }
   ],
   "source": [
    "model.evaluate(X_test,y_test)"
   ]
  },
  {
   "cell_type": "code",
   "execution_count": 36,
   "id": "16835fb0",
   "metadata": {
    "_cell_guid": "07afc52e-87c4-4d15-a114-71632d2dd6e9",
    "_uuid": "1e9e62cf-1089-4af7-b042-72d41cf9aa4b",
    "collapsed": false,
    "execution": {
     "iopub.execute_input": "2022-09-07T11:36:21.669112Z",
     "iopub.status.busy": "2022-09-07T11:36:21.667502Z",
     "iopub.status.idle": "2022-09-07T11:36:21.672608Z",
     "shell.execute_reply": "2022-09-07T11:36:21.671731Z"
    },
    "jupyter": {
     "outputs_hidden": false
    },
    "papermill": {
     "duration": 0.035371,
     "end_time": "2022-09-07T11:36:21.674524",
     "exception": false,
     "start_time": "2022-09-07T11:36:21.639153",
     "status": "completed"
    },
    "tags": []
   },
   "outputs": [],
   "source": [
    "from sklearn.metrics import confusion_matrix,classification_report"
   ]
  },
  {
   "cell_type": "code",
   "execution_count": 37,
   "id": "f9212cb6",
   "metadata": {
    "_cell_guid": "d00170ce-c3a4-47a4-9e2c-499fc218c4c7",
    "_uuid": "a0fe1119-83ff-4296-b9cb-ca6d4f0ffd17",
    "collapsed": false,
    "execution": {
     "iopub.execute_input": "2022-09-07T11:36:21.733289Z",
     "iopub.status.busy": "2022-09-07T11:36:21.732736Z",
     "iopub.status.idle": "2022-09-07T11:36:26.307300Z",
     "shell.execute_reply": "2022-09-07T11:36:26.305694Z"
    },
    "jupyter": {
     "outputs_hidden": false
    },
    "papermill": {
     "duration": 4.60744,
     "end_time": "2022-09-07T11:36:26.310378",
     "exception": false,
     "start_time": "2022-09-07T11:36:21.702938",
     "status": "completed"
    },
    "tags": []
   },
   "outputs": [
    {
     "name": "stdout",
     "output_type": "stream",
     "text": [
      "[[0.975      0.01010101]\n",
      " [0.025      0.98989899]]\n"
     ]
    }
   ],
   "source": [
    "y_prediction = model.predict(X_test)\n",
    "y_prediction = np.argmax (y_prediction, axis = 1)\n",
    "\n",
    "#Create confusion matrix and normalizes it over predicted (columns)\n",
    "result = confusion_matrix(y_test, y_prediction , normalize='pred')\n",
    "print(result)"
   ]
  },
  {
   "cell_type": "code",
   "execution_count": 38,
   "id": "68525ae0",
   "metadata": {
    "_cell_guid": "553672a8-15e5-456d-9018-a2cff07a7615",
    "_uuid": "1e363026-6f9e-432c-b9d5-10be50ae46b3",
    "collapsed": false,
    "execution": {
     "iopub.execute_input": "2022-09-07T11:36:26.368210Z",
     "iopub.status.busy": "2022-09-07T11:36:26.367895Z",
     "iopub.status.idle": "2022-09-07T11:36:26.377584Z",
     "shell.execute_reply": "2022-09-07T11:36:26.376466Z"
    },
    "jupyter": {
     "outputs_hidden": false
    },
    "papermill": {
     "duration": 0.041016,
     "end_time": "2022-09-07T11:36:26.380400",
     "exception": false,
     "start_time": "2022-09-07T11:36:26.339384",
     "status": "completed"
    },
    "tags": []
   },
   "outputs": [
    {
     "name": "stdout",
     "output_type": "stream",
     "text": [
      "              precision    recall  f1-score   support\n",
      "\n",
      "           0       0.97      0.99      0.98        79\n",
      "           1       0.99      0.98      0.98       100\n",
      "\n",
      "    accuracy                           0.98       179\n",
      "   macro avg       0.98      0.98      0.98       179\n",
      "weighted avg       0.98      0.98      0.98       179\n",
      "\n"
     ]
    }
   ],
   "source": [
    "print(classification_report(y_test, y_prediction))"
   ]
  },
  {
   "cell_type": "code",
   "execution_count": 39,
   "id": "7c5387d0",
   "metadata": {
    "_cell_guid": "b61b23e8-c4ba-4a21-8511-d2ec700b21e6",
    "_uuid": "1d5721b4-c927-4b52-b987-867d819e741a",
    "collapsed": false,
    "execution": {
     "iopub.execute_input": "2022-09-07T11:36:26.437531Z",
     "iopub.status.busy": "2022-09-07T11:36:26.437232Z",
     "iopub.status.idle": "2022-09-07T11:36:26.442538Z",
     "shell.execute_reply": "2022-09-07T11:36:26.441625Z"
    },
    "jupyter": {
     "outputs_hidden": false
    },
    "papermill": {
     "duration": 0.03628,
     "end_time": "2022-09-07T11:36:26.445382",
     "exception": false,
     "start_time": "2022-09-07T11:36:26.409102",
     "status": "completed"
    },
    "tags": []
   },
   "outputs": [
    {
     "name": "stdout",
     "output_type": "stream",
     "text": [
      "[0 1 0 1 0 1 0 1 0 1 0 1 0 1 0 1 0 1 0 1 0 1 0 1 0 1 0 1 0 1 0 1 1 0 1 0 1\n",
      " 0 1 0 1 0 1 0 1 0 1 0 1 0 1 0 1 1 0 1 0 1 0 1 0 1 1 0 1 1 1 1 0 1 0 1 1 1\n",
      " 0 1 0 1 0 1 1 0 1 0 1 0 1 0 1 0 1 0 1 0 1 1 0 1 1 0 1 0 1 0 1 1 0 1 0 1 1\n",
      " 0 1 0 1 0 1 0 1 0 1 0 1 1 0 1 0 1 0 1 1 0 1 0 1 1 0 1 0 1 0 1 0 1 0 1 1 0\n",
      " 1 0 1 0 1 0 1 0 1 0 1 0 1 0 1 1 0 1 0 1 0 1 1 0 1 1 1 0 1 0 1]\n"
     ]
    }
   ],
   "source": [
    "print(y_test)"
   ]
  },
  {
   "cell_type": "markdown",
   "id": "20a28904",
   "metadata": {
    "_cell_guid": "76bd93af-19a4-4ffa-99c4-70507b432746",
    "_uuid": "83169f22-0d0a-4f28-acea-d19749fd93e2",
    "papermill": {
     "duration": 0.027083,
     "end_time": "2022-09-07T11:36:26.501320",
     "exception": false,
     "start_time": "2022-09-07T11:36:26.474237",
     "status": "completed"
    },
    "tags": []
   },
   "source": [
    "Longformer pretrained"
   ]
  },
  {
   "cell_type": "code",
   "execution_count": null,
   "id": "a06b4f6c",
   "metadata": {
    "_cell_guid": "6e06440d-794a-4393-83a4-3a3ed642dc54",
    "_uuid": "808f3740-356d-42cd-8c64-dbf970d10f82",
    "collapsed": false,
    "jupyter": {
     "outputs_hidden": false
    },
    "papermill": {
     "duration": 0.027339,
     "end_time": "2022-09-07T11:36:26.555972",
     "exception": false,
     "start_time": "2022-09-07T11:36:26.528633",
     "status": "completed"
    },
    "tags": []
   },
   "outputs": [],
   "source": []
  },
  {
   "cell_type": "code",
   "execution_count": null,
   "id": "3dc421e9",
   "metadata": {
    "_cell_guid": "0612f450-bedd-4872-a1e1-75d8bf42a5b2",
    "_uuid": "151fb97f-fefb-4b6d-af48-243631b4b828",
    "collapsed": false,
    "jupyter": {
     "outputs_hidden": false
    },
    "papermill": {
     "duration": 0.027108,
     "end_time": "2022-09-07T11:36:26.610365",
     "exception": false,
     "start_time": "2022-09-07T11:36:26.583257",
     "status": "completed"
    },
    "tags": []
   },
   "outputs": [],
   "source": []
  },
  {
   "cell_type": "code",
   "execution_count": null,
   "id": "d2e21d00",
   "metadata": {
    "_cell_guid": "7c368ccf-23e9-45f2-be2d-f940fb2f2552",
    "_uuid": "5556bf7e-f358-45e6-8fde-46a5441e6eab",
    "collapsed": false,
    "jupyter": {
     "outputs_hidden": false
    },
    "papermill": {
     "duration": 0.027174,
     "end_time": "2022-09-07T11:36:26.665460",
     "exception": false,
     "start_time": "2022-09-07T11:36:26.638286",
     "status": "completed"
    },
    "tags": []
   },
   "outputs": [],
   "source": []
  },
  {
   "cell_type": "markdown",
   "id": "73dabda5",
   "metadata": {
    "_cell_guid": "e502ac67-1883-47f4-8b35-0e25eba0c33d",
    "_uuid": "b7f2fc20-83ae-45a3-aff1-44344efb3478",
    "papermill": {
     "duration": 0.027027,
     "end_time": "2022-09-07T11:36:26.719683",
     "exception": false,
     "start_time": "2022-09-07T11:36:26.692656",
     "status": "completed"
    },
    "tags": []
   },
   "source": []
  }
 ],
 "metadata": {
  "kernelspec": {
   "display_name": "Python 3",
   "language": "python",
   "name": "python3"
  },
  "language_info": {
   "codemirror_mode": {
    "name": "ipython",
    "version": 3
   },
   "file_extension": ".py",
   "mimetype": "text/x-python",
   "name": "python",
   "nbconvert_exporter": "python",
   "pygments_lexer": "ipython3",
   "version": "3.7.12"
  },
  "papermill": {
   "default_parameters": {},
   "duration": 248.420031,
   "end_time": "2022-09-07T11:36:30.410984",
   "environment_variables": {},
   "exception": null,
   "input_path": "__notebook__.ipynb",
   "output_path": "__notebook__.ipynb",
   "parameters": {},
   "start_time": "2022-09-07T11:32:21.990953",
   "version": "2.3.4"
  },
  "widgets": {
   "application/vnd.jupyter.widget-state+json": {
    "state": {
     "0226077181b14f469f12473a653c8202": {
      "model_module": "@jupyter-widgets/base",
      "model_module_version": "1.2.0",
      "model_name": "LayoutModel",
      "state": {
       "_model_module": "@jupyter-widgets/base",
       "_model_module_version": "1.2.0",
       "_model_name": "LayoutModel",
       "_view_count": null,
       "_view_module": "@jupyter-widgets/base",
       "_view_module_version": "1.2.0",
       "_view_name": "LayoutView",
       "align_content": null,
       "align_items": null,
       "align_self": null,
       "border": null,
       "bottom": null,
       "display": null,
       "flex": null,
       "flex_flow": null,
       "grid_area": null,
       "grid_auto_columns": null,
       "grid_auto_flow": null,
       "grid_auto_rows": null,
       "grid_column": null,
       "grid_gap": null,
       "grid_row": null,
       "grid_template_areas": null,
       "grid_template_columns": null,
       "grid_template_rows": null,
       "height": null,
       "justify_content": null,
       "justify_items": null,
       "left": null,
       "margin": null,
       "max_height": null,
       "max_width": null,
       "min_height": null,
       "min_width": null,
       "object_fit": null,
       "object_position": null,
       "order": null,
       "overflow": null,
       "overflow_x": null,
       "overflow_y": null,
       "padding": null,
       "right": null,
       "top": null,
       "visibility": null,
       "width": null
      }
     },
     "084842e68ee94939a746c5e99c77bab4": {
      "model_module": "@jupyter-widgets/base",
      "model_module_version": "1.2.0",
      "model_name": "LayoutModel",
      "state": {
       "_model_module": "@jupyter-widgets/base",
       "_model_module_version": "1.2.0",
       "_model_name": "LayoutModel",
       "_view_count": null,
       "_view_module": "@jupyter-widgets/base",
       "_view_module_version": "1.2.0",
       "_view_name": "LayoutView",
       "align_content": null,
       "align_items": null,
       "align_self": null,
       "border": null,
       "bottom": null,
       "display": null,
       "flex": null,
       "flex_flow": null,
       "grid_area": null,
       "grid_auto_columns": null,
       "grid_auto_flow": null,
       "grid_auto_rows": null,
       "grid_column": null,
       "grid_gap": null,
       "grid_row": null,
       "grid_template_areas": null,
       "grid_template_columns": null,
       "grid_template_rows": null,
       "height": null,
       "justify_content": null,
       "justify_items": null,
       "left": null,
       "margin": null,
       "max_height": null,
       "max_width": null,
       "min_height": null,
       "min_width": null,
       "object_fit": null,
       "object_position": null,
       "order": null,
       "overflow": null,
       "overflow_x": null,
       "overflow_y": null,
       "padding": null,
       "right": null,
       "top": null,
       "visibility": null,
       "width": null
      }
     },
     "11003d55aa2d49b5afed3d949175247e": {
      "model_module": "@jupyter-widgets/base",
      "model_module_version": "1.2.0",
      "model_name": "LayoutModel",
      "state": {
       "_model_module": "@jupyter-widgets/base",
       "_model_module_version": "1.2.0",
       "_model_name": "LayoutModel",
       "_view_count": null,
       "_view_module": "@jupyter-widgets/base",
       "_view_module_version": "1.2.0",
       "_view_name": "LayoutView",
       "align_content": null,
       "align_items": null,
       "align_self": null,
       "border": null,
       "bottom": null,
       "display": null,
       "flex": null,
       "flex_flow": null,
       "grid_area": null,
       "grid_auto_columns": null,
       "grid_auto_flow": null,
       "grid_auto_rows": null,
       "grid_column": null,
       "grid_gap": null,
       "grid_row": null,
       "grid_template_areas": null,
       "grid_template_columns": null,
       "grid_template_rows": null,
       "height": null,
       "justify_content": null,
       "justify_items": null,
       "left": null,
       "margin": null,
       "max_height": null,
       "max_width": null,
       "min_height": null,
       "min_width": null,
       "object_fit": null,
       "object_position": null,
       "order": null,
       "overflow": null,
       "overflow_x": null,
       "overflow_y": null,
       "padding": null,
       "right": null,
       "top": null,
       "visibility": null,
       "width": null
      }
     },
     "122a6e365b834ba595648e51d4704008": {
      "model_module": "@jupyter-widgets/controls",
      "model_module_version": "1.5.0",
      "model_name": "HTMLModel",
      "state": {
       "_dom_classes": [],
       "_model_module": "@jupyter-widgets/controls",
       "_model_module_version": "1.5.0",
       "_model_name": "HTMLModel",
       "_view_count": null,
       "_view_module": "@jupyter-widgets/controls",
       "_view_module_version": "1.5.0",
       "_view_name": "HTMLView",
       "description": "",
       "description_tooltip": null,
       "layout": "IPY_MODEL_0226077181b14f469f12473a653c8202",
       "placeholder": "​",
       "style": "IPY_MODEL_54e2f98852534ffcbbd8bbdfd4982de9",
       "value": "Downloading: 100%"
      }
     },
     "1f8a1cea6a3f4a9288a7a04f4a3303fa": {
      "model_module": "@jupyter-widgets/base",
      "model_module_version": "1.2.0",
      "model_name": "LayoutModel",
      "state": {
       "_model_module": "@jupyter-widgets/base",
       "_model_module_version": "1.2.0",
       "_model_name": "LayoutModel",
       "_view_count": null,
       "_view_module": "@jupyter-widgets/base",
       "_view_module_version": "1.2.0",
       "_view_name": "LayoutView",
       "align_content": null,
       "align_items": null,
       "align_self": null,
       "border": null,
       "bottom": null,
       "display": null,
       "flex": null,
       "flex_flow": null,
       "grid_area": null,
       "grid_auto_columns": null,
       "grid_auto_flow": null,
       "grid_auto_rows": null,
       "grid_column": null,
       "grid_gap": null,
       "grid_row": null,
       "grid_template_areas": null,
       "grid_template_columns": null,
       "grid_template_rows": null,
       "height": null,
       "justify_content": null,
       "justify_items": null,
       "left": null,
       "margin": null,
       "max_height": null,
       "max_width": null,
       "min_height": null,
       "min_width": null,
       "object_fit": null,
       "object_position": null,
       "order": null,
       "overflow": null,
       "overflow_x": null,
       "overflow_y": null,
       "padding": null,
       "right": null,
       "top": null,
       "visibility": null,
       "width": null
      }
     },
     "2a6426f14d2946e9bece6286d2ebd184": {
      "model_module": "@jupyter-widgets/base",
      "model_module_version": "1.2.0",
      "model_name": "LayoutModel",
      "state": {
       "_model_module": "@jupyter-widgets/base",
       "_model_module_version": "1.2.0",
       "_model_name": "LayoutModel",
       "_view_count": null,
       "_view_module": "@jupyter-widgets/base",
       "_view_module_version": "1.2.0",
       "_view_name": "LayoutView",
       "align_content": null,
       "align_items": null,
       "align_self": null,
       "border": null,
       "bottom": null,
       "display": null,
       "flex": null,
       "flex_flow": null,
       "grid_area": null,
       "grid_auto_columns": null,
       "grid_auto_flow": null,
       "grid_auto_rows": null,
       "grid_column": null,
       "grid_gap": null,
       "grid_row": null,
       "grid_template_areas": null,
       "grid_template_columns": null,
       "grid_template_rows": null,
       "height": null,
       "justify_content": null,
       "justify_items": null,
       "left": null,
       "margin": null,
       "max_height": null,
       "max_width": null,
       "min_height": null,
       "min_width": null,
       "object_fit": null,
       "object_position": null,
       "order": null,
       "overflow": null,
       "overflow_x": null,
       "overflow_y": null,
       "padding": null,
       "right": null,
       "top": null,
       "visibility": null,
       "width": null
      }
     },
     "2d42c667607d49da95e7f0684404a7a9": {
      "model_module": "@jupyter-widgets/controls",
      "model_module_version": "1.5.0",
      "model_name": "HTMLModel",
      "state": {
       "_dom_classes": [],
       "_model_module": "@jupyter-widgets/controls",
       "_model_module_version": "1.5.0",
       "_model_name": "HTMLModel",
       "_view_count": null,
       "_view_module": "@jupyter-widgets/controls",
       "_view_module_version": "1.5.0",
       "_view_name": "HTMLView",
       "description": "",
       "description_tooltip": null,
       "layout": "IPY_MODEL_11003d55aa2d49b5afed3d949175247e",
       "placeholder": "​",
       "style": "IPY_MODEL_9f1b0ac343e941cba4d35eb366d9db02",
       "value": " 627M/627M [00:27&lt;00:00, 25.4MB/s]"
      }
     },
     "39aba62825044033a414bf6d2c91c29c": {
      "model_module": "@jupyter-widgets/controls",
      "model_module_version": "1.5.0",
      "model_name": "HBoxModel",
      "state": {
       "_dom_classes": [],
       "_model_module": "@jupyter-widgets/controls",
       "_model_module_version": "1.5.0",
       "_model_name": "HBoxModel",
       "_view_count": null,
       "_view_module": "@jupyter-widgets/controls",
       "_view_module_version": "1.5.0",
       "_view_name": "HBoxView",
       "box_style": "",
       "children": [
        "IPY_MODEL_67d433c6ed274f64917cddd0c9eefb69",
        "IPY_MODEL_be047e24dc56405ca8756cac3b7cc2bb",
        "IPY_MODEL_b1d6afbfc3f3477b936f5410e5f27fb4"
       ],
       "layout": "IPY_MODEL_c6c9c46f057f4645aac0fa1272d82abc"
      }
     },
     "45702aa05f0f442b9c947e71ed952fab": {
      "model_module": "@jupyter-widgets/base",
      "model_module_version": "1.2.0",
      "model_name": "LayoutModel",
      "state": {
       "_model_module": "@jupyter-widgets/base",
       "_model_module_version": "1.2.0",
       "_model_name": "LayoutModel",
       "_view_count": null,
       "_view_module": "@jupyter-widgets/base",
       "_view_module_version": "1.2.0",
       "_view_name": "LayoutView",
       "align_content": null,
       "align_items": null,
       "align_self": null,
       "border": null,
       "bottom": null,
       "display": null,
       "flex": null,
       "flex_flow": null,
       "grid_area": null,
       "grid_auto_columns": null,
       "grid_auto_flow": null,
       "grid_auto_rows": null,
       "grid_column": null,
       "grid_gap": null,
       "grid_row": null,
       "grid_template_areas": null,
       "grid_template_columns": null,
       "grid_template_rows": null,
       "height": null,
       "justify_content": null,
       "justify_items": null,
       "left": null,
       "margin": null,
       "max_height": null,
       "max_width": null,
       "min_height": null,
       "min_width": null,
       "object_fit": null,
       "object_position": null,
       "order": null,
       "overflow": null,
       "overflow_x": null,
       "overflow_y": null,
       "padding": null,
       "right": null,
       "top": null,
       "visibility": null,
       "width": null
      }
     },
     "49c33b7f84844658a83967b88bd9e1e4": {
      "model_module": "@jupyter-widgets/controls",
      "model_module_version": "1.5.0",
      "model_name": "ProgressStyleModel",
      "state": {
       "_model_module": "@jupyter-widgets/controls",
       "_model_module_version": "1.5.0",
       "_model_name": "ProgressStyleModel",
       "_view_count": null,
       "_view_module": "@jupyter-widgets/base",
       "_view_module_version": "1.2.0",
       "_view_name": "StyleView",
       "bar_color": null,
       "description_width": ""
      }
     },
     "4ac51dcf04394dcaa35b4b0f8fdc0492": {
      "model_module": "@jupyter-widgets/base",
      "model_module_version": "1.2.0",
      "model_name": "LayoutModel",
      "state": {
       "_model_module": "@jupyter-widgets/base",
       "_model_module_version": "1.2.0",
       "_model_name": "LayoutModel",
       "_view_count": null,
       "_view_module": "@jupyter-widgets/base",
       "_view_module_version": "1.2.0",
       "_view_name": "LayoutView",
       "align_content": null,
       "align_items": null,
       "align_self": null,
       "border": null,
       "bottom": null,
       "display": null,
       "flex": null,
       "flex_flow": null,
       "grid_area": null,
       "grid_auto_columns": null,
       "grid_auto_flow": null,
       "grid_auto_rows": null,
       "grid_column": null,
       "grid_gap": null,
       "grid_row": null,
       "grid_template_areas": null,
       "grid_template_columns": null,
       "grid_template_rows": null,
       "height": null,
       "justify_content": null,
       "justify_items": null,
       "left": null,
       "margin": null,
       "max_height": null,
       "max_width": null,
       "min_height": null,
       "min_width": null,
       "object_fit": null,
       "object_position": null,
       "order": null,
       "overflow": null,
       "overflow_x": null,
       "overflow_y": null,
       "padding": null,
       "right": null,
       "top": null,
       "visibility": null,
       "width": null
      }
     },
     "4f8d81d5b68f4093b5c0cdc4cba4541f": {
      "model_module": "@jupyter-widgets/controls",
      "model_module_version": "1.5.0",
      "model_name": "HBoxModel",
      "state": {
       "_dom_classes": [],
       "_model_module": "@jupyter-widgets/controls",
       "_model_module_version": "1.5.0",
       "_model_name": "HBoxModel",
       "_view_count": null,
       "_view_module": "@jupyter-widgets/controls",
       "_view_module_version": "1.5.0",
       "_view_name": "HBoxView",
       "box_style": "",
       "children": [
        "IPY_MODEL_df869f58194c446e91dc968a1718c495",
        "IPY_MODEL_959666d9af8c44da9a93a46d6d6c66ed",
        "IPY_MODEL_7a2dde54b9434493968270517bda78c6"
       ],
       "layout": "IPY_MODEL_cd33f51dd6b5420babf70c110714a702"
      }
     },
     "546528b44d924dc0957f625728393886": {
      "model_module": "@jupyter-widgets/controls",
      "model_module_version": "1.5.0",
      "model_name": "HTMLModel",
      "state": {
       "_dom_classes": [],
       "_model_module": "@jupyter-widgets/controls",
       "_model_module_version": "1.5.0",
       "_model_name": "HTMLModel",
       "_view_count": null,
       "_view_module": "@jupyter-widgets/controls",
       "_view_module_version": "1.5.0",
       "_view_name": "HTMLView",
       "description": "",
       "description_tooltip": null,
       "layout": "IPY_MODEL_084842e68ee94939a746c5e99c77bab4",
       "placeholder": "​",
       "style": "IPY_MODEL_c7cfcfe4f2a9498eac1087f12c5306b2",
       "value": "Downloading: 100%"
      }
     },
     "54e2f98852534ffcbbd8bbdfd4982de9": {
      "model_module": "@jupyter-widgets/controls",
      "model_module_version": "1.5.0",
      "model_name": "DescriptionStyleModel",
      "state": {
       "_model_module": "@jupyter-widgets/controls",
       "_model_module_version": "1.5.0",
       "_model_name": "DescriptionStyleModel",
       "_view_count": null,
       "_view_module": "@jupyter-widgets/base",
       "_view_module_version": "1.2.0",
       "_view_name": "StyleView",
       "description_width": ""
      }
     },
     "596a55c271e2417f93cd573c4197fad0": {
      "model_module": "@jupyter-widgets/controls",
      "model_module_version": "1.5.0",
      "model_name": "ProgressStyleModel",
      "state": {
       "_model_module": "@jupyter-widgets/controls",
       "_model_module_version": "1.5.0",
       "_model_name": "ProgressStyleModel",
       "_view_count": null,
       "_view_module": "@jupyter-widgets/base",
       "_view_module_version": "1.2.0",
       "_view_name": "StyleView",
       "bar_color": null,
       "description_width": ""
      }
     },
     "5d6f15cf3e6947c682fb7a03e61e82d7": {
      "model_module": "@jupyter-widgets/controls",
      "model_module_version": "1.5.0",
      "model_name": "ProgressStyleModel",
      "state": {
       "_model_module": "@jupyter-widgets/controls",
       "_model_module_version": "1.5.0",
       "_model_name": "ProgressStyleModel",
       "_view_count": null,
       "_view_module": "@jupyter-widgets/base",
       "_view_module_version": "1.2.0",
       "_view_name": "StyleView",
       "bar_color": null,
       "description_width": ""
      }
     },
     "5d8f29444b4747f28efe955adbf9b60d": {
      "model_module": "@jupyter-widgets/base",
      "model_module_version": "1.2.0",
      "model_name": "LayoutModel",
      "state": {
       "_model_module": "@jupyter-widgets/base",
       "_model_module_version": "1.2.0",
       "_model_name": "LayoutModel",
       "_view_count": null,
       "_view_module": "@jupyter-widgets/base",
       "_view_module_version": "1.2.0",
       "_view_name": "LayoutView",
       "align_content": null,
       "align_items": null,
       "align_self": null,
       "border": null,
       "bottom": null,
       "display": null,
       "flex": null,
       "flex_flow": null,
       "grid_area": null,
       "grid_auto_columns": null,
       "grid_auto_flow": null,
       "grid_auto_rows": null,
       "grid_column": null,
       "grid_gap": null,
       "grid_row": null,
       "grid_template_areas": null,
       "grid_template_columns": null,
       "grid_template_rows": null,
       "height": null,
       "justify_content": null,
       "justify_items": null,
       "left": null,
       "margin": null,
       "max_height": null,
       "max_width": null,
       "min_height": null,
       "min_width": null,
       "object_fit": null,
       "object_position": null,
       "order": null,
       "overflow": null,
       "overflow_x": null,
       "overflow_y": null,
       "padding": null,
       "right": null,
       "top": null,
       "visibility": null,
       "width": null
      }
     },
     "5e77dde3a9de405b96b2a8ff5da61628": {
      "model_module": "@jupyter-widgets/controls",
      "model_module_version": "1.5.0",
      "model_name": "ProgressStyleModel",
      "state": {
       "_model_module": "@jupyter-widgets/controls",
       "_model_module_version": "1.5.0",
       "_model_name": "ProgressStyleModel",
       "_view_count": null,
       "_view_module": "@jupyter-widgets/base",
       "_view_module_version": "1.2.0",
       "_view_name": "StyleView",
       "bar_color": null,
       "description_width": ""
      }
     },
     "67d433c6ed274f64917cddd0c9eefb69": {
      "model_module": "@jupyter-widgets/controls",
      "model_module_version": "1.5.0",
      "model_name": "HTMLModel",
      "state": {
       "_dom_classes": [],
       "_model_module": "@jupyter-widgets/controls",
       "_model_module_version": "1.5.0",
       "_model_name": "HTMLModel",
       "_view_count": null,
       "_view_module": "@jupyter-widgets/controls",
       "_view_module_version": "1.5.0",
       "_view_name": "HTMLView",
       "description": "",
       "description_tooltip": null,
       "layout": "IPY_MODEL_1f8a1cea6a3f4a9288a7a04f4a3303fa",
       "placeholder": "​",
       "style": "IPY_MODEL_c9c12302c7274c60b1d8b5539ddb5ccb",
       "value": "Downloading: 100%"
      }
     },
     "6b27d37c0e2d4c90b24e99e18ef3abba": {
      "model_module": "@jupyter-widgets/base",
      "model_module_version": "1.2.0",
      "model_name": "LayoutModel",
      "state": {
       "_model_module": "@jupyter-widgets/base",
       "_model_module_version": "1.2.0",
       "_model_name": "LayoutModel",
       "_view_count": null,
       "_view_module": "@jupyter-widgets/base",
       "_view_module_version": "1.2.0",
       "_view_name": "LayoutView",
       "align_content": null,
       "align_items": null,
       "align_self": null,
       "border": null,
       "bottom": null,
       "display": null,
       "flex": null,
       "flex_flow": null,
       "grid_area": null,
       "grid_auto_columns": null,
       "grid_auto_flow": null,
       "grid_auto_rows": null,
       "grid_column": null,
       "grid_gap": null,
       "grid_row": null,
       "grid_template_areas": null,
       "grid_template_columns": null,
       "grid_template_rows": null,
       "height": null,
       "justify_content": null,
       "justify_items": null,
       "left": null,
       "margin": null,
       "max_height": null,
       "max_width": null,
       "min_height": null,
       "min_width": null,
       "object_fit": null,
       "object_position": null,
       "order": null,
       "overflow": null,
       "overflow_x": null,
       "overflow_y": null,
       "padding": null,
       "right": null,
       "top": null,
       "visibility": null,
       "width": null
      }
     },
     "6b473db5ed82422a82045817dea5c3f1": {
      "model_module": "@jupyter-widgets/controls",
      "model_module_version": "1.5.0",
      "model_name": "DescriptionStyleModel",
      "state": {
       "_model_module": "@jupyter-widgets/controls",
       "_model_module_version": "1.5.0",
       "_model_name": "DescriptionStyleModel",
       "_view_count": null,
       "_view_module": "@jupyter-widgets/base",
       "_view_module_version": "1.2.0",
       "_view_name": "StyleView",
       "description_width": ""
      }
     },
     "6d36a11b51384d94a923cb7674ef71af": {
      "model_module": "@jupyter-widgets/controls",
      "model_module_version": "1.5.0",
      "model_name": "HBoxModel",
      "state": {
       "_dom_classes": [],
       "_model_module": "@jupyter-widgets/controls",
       "_model_module_version": "1.5.0",
       "_model_name": "HBoxModel",
       "_view_count": null,
       "_view_module": "@jupyter-widgets/controls",
       "_view_module_version": "1.5.0",
       "_view_name": "HBoxView",
       "box_style": "",
       "children": [
        "IPY_MODEL_122a6e365b834ba595648e51d4704008",
        "IPY_MODEL_741254ada23e4fc2b1cf5ffeacf560ea",
        "IPY_MODEL_2d42c667607d49da95e7f0684404a7a9"
       ],
       "layout": "IPY_MODEL_4ac51dcf04394dcaa35b4b0f8fdc0492"
      }
     },
     "741254ada23e4fc2b1cf5ffeacf560ea": {
      "model_module": "@jupyter-widgets/controls",
      "model_module_version": "1.5.0",
      "model_name": "FloatProgressModel",
      "state": {
       "_dom_classes": [],
       "_model_module": "@jupyter-widgets/controls",
       "_model_module_version": "1.5.0",
       "_model_name": "FloatProgressModel",
       "_view_count": null,
       "_view_module": "@jupyter-widgets/controls",
       "_view_module_version": "1.5.0",
       "_view_name": "ProgressView",
       "bar_style": "success",
       "description": "",
       "description_tooltip": null,
       "layout": "IPY_MODEL_e4ac5e5c609a4209af85aab055fe109c",
       "max": 657434796.0,
       "min": 0.0,
       "orientation": "horizontal",
       "style": "IPY_MODEL_596a55c271e2417f93cd573c4197fad0",
       "value": 657434796.0
      }
     },
     "7a2dde54b9434493968270517bda78c6": {
      "model_module": "@jupyter-widgets/controls",
      "model_module_version": "1.5.0",
      "model_name": "HTMLModel",
      "state": {
       "_dom_classes": [],
       "_model_module": "@jupyter-widgets/controls",
       "_model_module_version": "1.5.0",
       "_model_name": "HTMLModel",
       "_view_count": null,
       "_view_module": "@jupyter-widgets/controls",
       "_view_module_version": "1.5.0",
       "_view_name": "HTMLView",
       "description": "",
       "description_tooltip": null,
       "layout": "IPY_MODEL_5d8f29444b4747f28efe955adbf9b60d",
       "placeholder": "​",
       "style": "IPY_MODEL_cae51b0af97048c8819e09672eb39d01",
       "value": " 446k/446k [00:00&lt;00:00, 840kB/s]"
      }
     },
     "7adaed75412c4b8a9d2aa598dd931336": {
      "model_module": "@jupyter-widgets/base",
      "model_module_version": "1.2.0",
      "model_name": "LayoutModel",
      "state": {
       "_model_module": "@jupyter-widgets/base",
       "_model_module_version": "1.2.0",
       "_model_name": "LayoutModel",
       "_view_count": null,
       "_view_module": "@jupyter-widgets/base",
       "_view_module_version": "1.2.0",
       "_view_name": "LayoutView",
       "align_content": null,
       "align_items": null,
       "align_self": null,
       "border": null,
       "bottom": null,
       "display": null,
       "flex": null,
       "flex_flow": null,
       "grid_area": null,
       "grid_auto_columns": null,
       "grid_auto_flow": null,
       "grid_auto_rows": null,
       "grid_column": null,
       "grid_gap": null,
       "grid_row": null,
       "grid_template_areas": null,
       "grid_template_columns": null,
       "grid_template_rows": null,
       "height": null,
       "justify_content": null,
       "justify_items": null,
       "left": null,
       "margin": null,
       "max_height": null,
       "max_width": null,
       "min_height": null,
       "min_width": null,
       "object_fit": null,
       "object_position": null,
       "order": null,
       "overflow": null,
       "overflow_x": null,
       "overflow_y": null,
       "padding": null,
       "right": null,
       "top": null,
       "visibility": null,
       "width": null
      }
     },
     "7fcd88e6204c40c898adeca9f74ff331": {
      "model_module": "@jupyter-widgets/base",
      "model_module_version": "1.2.0",
      "model_name": "LayoutModel",
      "state": {
       "_model_module": "@jupyter-widgets/base",
       "_model_module_version": "1.2.0",
       "_model_name": "LayoutModel",
       "_view_count": null,
       "_view_module": "@jupyter-widgets/base",
       "_view_module_version": "1.2.0",
       "_view_name": "LayoutView",
       "align_content": null,
       "align_items": null,
       "align_self": null,
       "border": null,
       "bottom": null,
       "display": null,
       "flex": null,
       "flex_flow": null,
       "grid_area": null,
       "grid_auto_columns": null,
       "grid_auto_flow": null,
       "grid_auto_rows": null,
       "grid_column": null,
       "grid_gap": null,
       "grid_row": null,
       "grid_template_areas": null,
       "grid_template_columns": null,
       "grid_template_rows": null,
       "height": null,
       "justify_content": null,
       "justify_items": null,
       "left": null,
       "margin": null,
       "max_height": null,
       "max_width": null,
       "min_height": null,
       "min_width": null,
       "object_fit": null,
       "object_position": null,
       "order": null,
       "overflow": null,
       "overflow_x": null,
       "overflow_y": null,
       "padding": null,
       "right": null,
       "top": null,
       "visibility": null,
       "width": null
      }
     },
     "959666d9af8c44da9a93a46d6d6c66ed": {
      "model_module": "@jupyter-widgets/controls",
      "model_module_version": "1.5.0",
      "model_name": "FloatProgressModel",
      "state": {
       "_dom_classes": [],
       "_model_module": "@jupyter-widgets/controls",
       "_model_module_version": "1.5.0",
       "_model_name": "FloatProgressModel",
       "_view_count": null,
       "_view_module": "@jupyter-widgets/controls",
       "_view_module_version": "1.5.0",
       "_view_name": "ProgressView",
       "bar_style": "success",
       "description": "",
       "description_tooltip": null,
       "layout": "IPY_MODEL_a07bc6cfbd24414a9cf1bf9dc01b103c",
       "max": 456318.0,
       "min": 0.0,
       "orientation": "horizontal",
       "style": "IPY_MODEL_5e77dde3a9de405b96b2a8ff5da61628",
       "value": 456318.0
      }
     },
     "9609f95dffeb4df0a42b601d33d9f0c8": {
      "model_module": "@jupyter-widgets/controls",
      "model_module_version": "1.5.0",
      "model_name": "DescriptionStyleModel",
      "state": {
       "_model_module": "@jupyter-widgets/controls",
       "_model_module_version": "1.5.0",
       "_model_name": "DescriptionStyleModel",
       "_view_count": null,
       "_view_module": "@jupyter-widgets/base",
       "_view_module_version": "1.2.0",
       "_view_name": "StyleView",
       "description_width": ""
      }
     },
     "9f1b0ac343e941cba4d35eb366d9db02": {
      "model_module": "@jupyter-widgets/controls",
      "model_module_version": "1.5.0",
      "model_name": "DescriptionStyleModel",
      "state": {
       "_model_module": "@jupyter-widgets/controls",
       "_model_module_version": "1.5.0",
       "_model_name": "DescriptionStyleModel",
       "_view_count": null,
       "_view_module": "@jupyter-widgets/base",
       "_view_module_version": "1.2.0",
       "_view_name": "StyleView",
       "description_width": ""
      }
     },
     "a07bc6cfbd24414a9cf1bf9dc01b103c": {
      "model_module": "@jupyter-widgets/base",
      "model_module_version": "1.2.0",
      "model_name": "LayoutModel",
      "state": {
       "_model_module": "@jupyter-widgets/base",
       "_model_module_version": "1.2.0",
       "_model_name": "LayoutModel",
       "_view_count": null,
       "_view_module": "@jupyter-widgets/base",
       "_view_module_version": "1.2.0",
       "_view_name": "LayoutView",
       "align_content": null,
       "align_items": null,
       "align_self": null,
       "border": null,
       "bottom": null,
       "display": null,
       "flex": null,
       "flex_flow": null,
       "grid_area": null,
       "grid_auto_columns": null,
       "grid_auto_flow": null,
       "grid_auto_rows": null,
       "grid_column": null,
       "grid_gap": null,
       "grid_row": null,
       "grid_template_areas": null,
       "grid_template_columns": null,
       "grid_template_rows": null,
       "height": null,
       "justify_content": null,
       "justify_items": null,
       "left": null,
       "margin": null,
       "max_height": null,
       "max_width": null,
       "min_height": null,
       "min_width": null,
       "object_fit": null,
       "object_position": null,
       "order": null,
       "overflow": null,
       "overflow_x": null,
       "overflow_y": null,
       "padding": null,
       "right": null,
       "top": null,
       "visibility": null,
       "width": null
      }
     },
     "a90c632f7ea24f739a50582ff017957a": {
      "model_module": "@jupyter-widgets/controls",
      "model_module_version": "1.5.0",
      "model_name": "FloatProgressModel",
      "state": {
       "_dom_classes": [],
       "_model_module": "@jupyter-widgets/controls",
       "_model_module_version": "1.5.0",
       "_model_name": "FloatProgressModel",
       "_view_count": null,
       "_view_module": "@jupyter-widgets/controls",
       "_view_module_version": "1.5.0",
       "_view_name": "ProgressView",
       "bar_style": "success",
       "description": "",
       "description_tooltip": null,
       "layout": "IPY_MODEL_7adaed75412c4b8a9d2aa598dd931336",
       "max": 898823.0,
       "min": 0.0,
       "orientation": "horizontal",
       "style": "IPY_MODEL_5d6f15cf3e6947c682fb7a03e61e82d7",
       "value": 898823.0
      }
     },
     "b1d6afbfc3f3477b936f5410e5f27fb4": {
      "model_module": "@jupyter-widgets/controls",
      "model_module_version": "1.5.0",
      "model_name": "HTMLModel",
      "state": {
       "_dom_classes": [],
       "_model_module": "@jupyter-widgets/controls",
       "_model_module_version": "1.5.0",
       "_model_name": "HTMLModel",
       "_view_count": null,
       "_view_module": "@jupyter-widgets/controls",
       "_view_module_version": "1.5.0",
       "_view_name": "HTMLView",
       "description": "",
       "description_tooltip": null,
       "layout": "IPY_MODEL_6b27d37c0e2d4c90b24e99e18ef3abba",
       "placeholder": "​",
       "style": "IPY_MODEL_6b473db5ed82422a82045817dea5c3f1",
       "value": " 481/481 [00:00&lt;00:00, 17.9kB/s]"
      }
     },
     "be047e24dc56405ca8756cac3b7cc2bb": {
      "model_module": "@jupyter-widgets/controls",
      "model_module_version": "1.5.0",
      "model_name": "FloatProgressModel",
      "state": {
       "_dom_classes": [],
       "_model_module": "@jupyter-widgets/controls",
       "_model_module_version": "1.5.0",
       "_model_name": "FloatProgressModel",
       "_view_count": null,
       "_view_module": "@jupyter-widgets/controls",
       "_view_module_version": "1.5.0",
       "_view_name": "ProgressView",
       "bar_style": "success",
       "description": "",
       "description_tooltip": null,
       "layout": "IPY_MODEL_2a6426f14d2946e9bece6286d2ebd184",
       "max": 481.0,
       "min": 0.0,
       "orientation": "horizontal",
       "style": "IPY_MODEL_49c33b7f84844658a83967b88bd9e1e4",
       "value": 481.0
      }
     },
     "c4157d3d2b5d4a578cdc238821e08ac3": {
      "model_module": "@jupyter-widgets/base",
      "model_module_version": "1.2.0",
      "model_name": "LayoutModel",
      "state": {
       "_model_module": "@jupyter-widgets/base",
       "_model_module_version": "1.2.0",
       "_model_name": "LayoutModel",
       "_view_count": null,
       "_view_module": "@jupyter-widgets/base",
       "_view_module_version": "1.2.0",
       "_view_name": "LayoutView",
       "align_content": null,
       "align_items": null,
       "align_self": null,
       "border": null,
       "bottom": null,
       "display": null,
       "flex": null,
       "flex_flow": null,
       "grid_area": null,
       "grid_auto_columns": null,
       "grid_auto_flow": null,
       "grid_auto_rows": null,
       "grid_column": null,
       "grid_gap": null,
       "grid_row": null,
       "grid_template_areas": null,
       "grid_template_columns": null,
       "grid_template_rows": null,
       "height": null,
       "justify_content": null,
       "justify_items": null,
       "left": null,
       "margin": null,
       "max_height": null,
       "max_width": null,
       "min_height": null,
       "min_width": null,
       "object_fit": null,
       "object_position": null,
       "order": null,
       "overflow": null,
       "overflow_x": null,
       "overflow_y": null,
       "padding": null,
       "right": null,
       "top": null,
       "visibility": null,
       "width": null
      }
     },
     "c640d8e8fce44939a5d42817322e5593": {
      "model_module": "@jupyter-widgets/controls",
      "model_module_version": "1.5.0",
      "model_name": "DescriptionStyleModel",
      "state": {
       "_model_module": "@jupyter-widgets/controls",
       "_model_module_version": "1.5.0",
       "_model_name": "DescriptionStyleModel",
       "_view_count": null,
       "_view_module": "@jupyter-widgets/base",
       "_view_module_version": "1.2.0",
       "_view_name": "StyleView",
       "description_width": ""
      }
     },
     "c6c9c46f057f4645aac0fa1272d82abc": {
      "model_module": "@jupyter-widgets/base",
      "model_module_version": "1.2.0",
      "model_name": "LayoutModel",
      "state": {
       "_model_module": "@jupyter-widgets/base",
       "_model_module_version": "1.2.0",
       "_model_name": "LayoutModel",
       "_view_count": null,
       "_view_module": "@jupyter-widgets/base",
       "_view_module_version": "1.2.0",
       "_view_name": "LayoutView",
       "align_content": null,
       "align_items": null,
       "align_self": null,
       "border": null,
       "bottom": null,
       "display": null,
       "flex": null,
       "flex_flow": null,
       "grid_area": null,
       "grid_auto_columns": null,
       "grid_auto_flow": null,
       "grid_auto_rows": null,
       "grid_column": null,
       "grid_gap": null,
       "grid_row": null,
       "grid_template_areas": null,
       "grid_template_columns": null,
       "grid_template_rows": null,
       "height": null,
       "justify_content": null,
       "justify_items": null,
       "left": null,
       "margin": null,
       "max_height": null,
       "max_width": null,
       "min_height": null,
       "min_width": null,
       "object_fit": null,
       "object_position": null,
       "order": null,
       "overflow": null,
       "overflow_x": null,
       "overflow_y": null,
       "padding": null,
       "right": null,
       "top": null,
       "visibility": null,
       "width": null
      }
     },
     "c7cfcfe4f2a9498eac1087f12c5306b2": {
      "model_module": "@jupyter-widgets/controls",
      "model_module_version": "1.5.0",
      "model_name": "DescriptionStyleModel",
      "state": {
       "_model_module": "@jupyter-widgets/controls",
       "_model_module_version": "1.5.0",
       "_model_name": "DescriptionStyleModel",
       "_view_count": null,
       "_view_module": "@jupyter-widgets/base",
       "_view_module_version": "1.2.0",
       "_view_name": "StyleView",
       "description_width": ""
      }
     },
     "c9c12302c7274c60b1d8b5539ddb5ccb": {
      "model_module": "@jupyter-widgets/controls",
      "model_module_version": "1.5.0",
      "model_name": "DescriptionStyleModel",
      "state": {
       "_model_module": "@jupyter-widgets/controls",
       "_model_module_version": "1.5.0",
       "_model_name": "DescriptionStyleModel",
       "_view_count": null,
       "_view_module": "@jupyter-widgets/base",
       "_view_module_version": "1.2.0",
       "_view_name": "StyleView",
       "description_width": ""
      }
     },
     "cae51b0af97048c8819e09672eb39d01": {
      "model_module": "@jupyter-widgets/controls",
      "model_module_version": "1.5.0",
      "model_name": "DescriptionStyleModel",
      "state": {
       "_model_module": "@jupyter-widgets/controls",
       "_model_module_version": "1.5.0",
       "_model_name": "DescriptionStyleModel",
       "_view_count": null,
       "_view_module": "@jupyter-widgets/base",
       "_view_module_version": "1.2.0",
       "_view_name": "StyleView",
       "description_width": ""
      }
     },
     "cd33f51dd6b5420babf70c110714a702": {
      "model_module": "@jupyter-widgets/base",
      "model_module_version": "1.2.0",
      "model_name": "LayoutModel",
      "state": {
       "_model_module": "@jupyter-widgets/base",
       "_model_module_version": "1.2.0",
       "_model_name": "LayoutModel",
       "_view_count": null,
       "_view_module": "@jupyter-widgets/base",
       "_view_module_version": "1.2.0",
       "_view_name": "LayoutView",
       "align_content": null,
       "align_items": null,
       "align_self": null,
       "border": null,
       "bottom": null,
       "display": null,
       "flex": null,
       "flex_flow": null,
       "grid_area": null,
       "grid_auto_columns": null,
       "grid_auto_flow": null,
       "grid_auto_rows": null,
       "grid_column": null,
       "grid_gap": null,
       "grid_row": null,
       "grid_template_areas": null,
       "grid_template_columns": null,
       "grid_template_rows": null,
       "height": null,
       "justify_content": null,
       "justify_items": null,
       "left": null,
       "margin": null,
       "max_height": null,
       "max_width": null,
       "min_height": null,
       "min_width": null,
       "object_fit": null,
       "object_position": null,
       "order": null,
       "overflow": null,
       "overflow_x": null,
       "overflow_y": null,
       "padding": null,
       "right": null,
       "top": null,
       "visibility": null,
       "width": null
      }
     },
     "de0ed77536134313a332e95ea5bccd69": {
      "model_module": "@jupyter-widgets/controls",
      "model_module_version": "1.5.0",
      "model_name": "HBoxModel",
      "state": {
       "_dom_classes": [],
       "_model_module": "@jupyter-widgets/controls",
       "_model_module_version": "1.5.0",
       "_model_name": "HBoxModel",
       "_view_count": null,
       "_view_module": "@jupyter-widgets/controls",
       "_view_module_version": "1.5.0",
       "_view_name": "HBoxView",
       "box_style": "",
       "children": [
        "IPY_MODEL_546528b44d924dc0957f625728393886",
        "IPY_MODEL_a90c632f7ea24f739a50582ff017957a",
        "IPY_MODEL_e8cf424af1054884a928d18910dc2eb5"
       ],
       "layout": "IPY_MODEL_7fcd88e6204c40c898adeca9f74ff331"
      }
     },
     "df869f58194c446e91dc968a1718c495": {
      "model_module": "@jupyter-widgets/controls",
      "model_module_version": "1.5.0",
      "model_name": "HTMLModel",
      "state": {
       "_dom_classes": [],
       "_model_module": "@jupyter-widgets/controls",
       "_model_module_version": "1.5.0",
       "_model_name": "HTMLModel",
       "_view_count": null,
       "_view_module": "@jupyter-widgets/controls",
       "_view_module_version": "1.5.0",
       "_view_name": "HTMLView",
       "description": "",
       "description_tooltip": null,
       "layout": "IPY_MODEL_45702aa05f0f442b9c947e71ed952fab",
       "placeholder": "​",
       "style": "IPY_MODEL_9609f95dffeb4df0a42b601d33d9f0c8",
       "value": "Downloading: 100%"
      }
     },
     "e4ac5e5c609a4209af85aab055fe109c": {
      "model_module": "@jupyter-widgets/base",
      "model_module_version": "1.2.0",
      "model_name": "LayoutModel",
      "state": {
       "_model_module": "@jupyter-widgets/base",
       "_model_module_version": "1.2.0",
       "_model_name": "LayoutModel",
       "_view_count": null,
       "_view_module": "@jupyter-widgets/base",
       "_view_module_version": "1.2.0",
       "_view_name": "LayoutView",
       "align_content": null,
       "align_items": null,
       "align_self": null,
       "border": null,
       "bottom": null,
       "display": null,
       "flex": null,
       "flex_flow": null,
       "grid_area": null,
       "grid_auto_columns": null,
       "grid_auto_flow": null,
       "grid_auto_rows": null,
       "grid_column": null,
       "grid_gap": null,
       "grid_row": null,
       "grid_template_areas": null,
       "grid_template_columns": null,
       "grid_template_rows": null,
       "height": null,
       "justify_content": null,
       "justify_items": null,
       "left": null,
       "margin": null,
       "max_height": null,
       "max_width": null,
       "min_height": null,
       "min_width": null,
       "object_fit": null,
       "object_position": null,
       "order": null,
       "overflow": null,
       "overflow_x": null,
       "overflow_y": null,
       "padding": null,
       "right": null,
       "top": null,
       "visibility": null,
       "width": null
      }
     },
     "e8cf424af1054884a928d18910dc2eb5": {
      "model_module": "@jupyter-widgets/controls",
      "model_module_version": "1.5.0",
      "model_name": "HTMLModel",
      "state": {
       "_dom_classes": [],
       "_model_module": "@jupyter-widgets/controls",
       "_model_module_version": "1.5.0",
       "_model_name": "HTMLModel",
       "_view_count": null,
       "_view_module": "@jupyter-widgets/controls",
       "_view_module_version": "1.5.0",
       "_view_name": "HTMLView",
       "description": "",
       "description_tooltip": null,
       "layout": "IPY_MODEL_c4157d3d2b5d4a578cdc238821e08ac3",
       "placeholder": "​",
       "style": "IPY_MODEL_c640d8e8fce44939a5d42817322e5593",
       "value": " 878k/878k [00:00&lt;00:00, 2.18MB/s]"
      }
     }
    },
    "version_major": 2,
    "version_minor": 0
   }
  }
 },
 "nbformat": 4,
 "nbformat_minor": 5
}
